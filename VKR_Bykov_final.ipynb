{
  "cells": [
    {
      "cell_type": "markdown",
      "metadata": {
        "id": "rlYlaWCzQfdD"
      },
      "source": [
        "# Дополнительны модули, которые нужно установить"
      ]
    },
    {
      "cell_type": "code",
      "execution_count": null,
      "metadata": {
        "colab": {
          "base_uri": "https://localhost:8080/"
        },
        "id": "HW8Av13Ndihp",
        "outputId": "6b2d1edd-cec1-4bde-ffa4-4a9bb46da649"
      },
      "outputs": [
        {
          "output_type": "stream",
          "name": "stdout",
          "text": [
            "Looking in indexes: https://pypi.org/simple, https://us-python.pkg.dev/colab-wheels/public/simple/\n",
            "Requirement already satisfied: category_encoders in /usr/local/lib/python3.9/dist-packages (2.6.0)\n",
            "Requirement already satisfied: scikit-learn>=0.20.0 in /usr/local/lib/python3.9/dist-packages (from category_encoders) (1.2.2)\n",
            "Requirement already satisfied: numpy>=1.14.0 in /usr/local/lib/python3.9/dist-packages (from category_encoders) (1.22.4)\n",
            "Requirement already satisfied: pandas>=1.0.5 in /usr/local/lib/python3.9/dist-packages (from category_encoders) (1.4.4)\n",
            "Requirement already satisfied: statsmodels>=0.9.0 in /usr/local/lib/python3.9/dist-packages (from category_encoders) (0.13.5)\n",
            "Requirement already satisfied: scipy>=1.0.0 in /usr/local/lib/python3.9/dist-packages (from category_encoders) (1.10.1)\n",
            "Requirement already satisfied: patsy>=0.5.1 in /usr/local/lib/python3.9/dist-packages (from category_encoders) (0.5.3)\n",
            "Requirement already satisfied: python-dateutil>=2.8.1 in /usr/local/lib/python3.9/dist-packages (from pandas>=1.0.5->category_encoders) (2.8.2)\n",
            "Requirement already satisfied: pytz>=2020.1 in /usr/local/lib/python3.9/dist-packages (from pandas>=1.0.5->category_encoders) (2022.7.1)\n",
            "Requirement already satisfied: six in /usr/local/lib/python3.9/dist-packages (from patsy>=0.5.1->category_encoders) (1.16.0)\n",
            "Requirement already satisfied: threadpoolctl>=2.0.0 in /usr/local/lib/python3.9/dist-packages (from scikit-learn>=0.20.0->category_encoders) (3.1.0)\n",
            "Requirement already satisfied: joblib>=1.1.1 in /usr/local/lib/python3.9/dist-packages (from scikit-learn>=0.20.0->category_encoders) (1.1.1)\n",
            "Requirement already satisfied: packaging>=21.3 in /usr/local/lib/python3.9/dist-packages (from statsmodels>=0.9.0->category_encoders) (23.0)\n",
            "Looking in indexes: https://pypi.org/simple, https://us-python.pkg.dev/colab-wheels/public/simple/\n",
            "Requirement already satisfied: scikit-plot in /usr/local/lib/python3.9/dist-packages (0.3.7)\n",
            "Requirement already satisfied: matplotlib>=1.4.0 in /usr/local/lib/python3.9/dist-packages (from scikit-plot) (3.7.1)\n",
            "Requirement already satisfied: scikit-learn>=0.18 in /usr/local/lib/python3.9/dist-packages (from scikit-plot) (1.2.2)\n",
            "Requirement already satisfied: scipy>=0.9 in /usr/local/lib/python3.9/dist-packages (from scikit-plot) (1.10.1)\n",
            "Requirement already satisfied: joblib>=0.10 in /usr/local/lib/python3.9/dist-packages (from scikit-plot) (1.1.1)\n",
            "Requirement already satisfied: kiwisolver>=1.0.1 in /usr/local/lib/python3.9/dist-packages (from matplotlib>=1.4.0->scikit-plot) (1.4.4)\n",
            "Requirement already satisfied: numpy>=1.20 in /usr/local/lib/python3.9/dist-packages (from matplotlib>=1.4.0->scikit-plot) (1.22.4)\n",
            "Requirement already satisfied: contourpy>=1.0.1 in /usr/local/lib/python3.9/dist-packages (from matplotlib>=1.4.0->scikit-plot) (1.0.7)\n",
            "Requirement already satisfied: cycler>=0.10 in /usr/local/lib/python3.9/dist-packages (from matplotlib>=1.4.0->scikit-plot) (0.11.0)\n",
            "Requirement already satisfied: pyparsing>=2.3.1 in /usr/local/lib/python3.9/dist-packages (from matplotlib>=1.4.0->scikit-plot) (3.0.9)\n",
            "Requirement already satisfied: packaging>=20.0 in /usr/local/lib/python3.9/dist-packages (from matplotlib>=1.4.0->scikit-plot) (23.0)\n",
            "Requirement already satisfied: importlib-resources>=3.2.0 in /usr/local/lib/python3.9/dist-packages (from matplotlib>=1.4.0->scikit-plot) (5.12.0)\n",
            "Requirement already satisfied: python-dateutil>=2.7 in /usr/local/lib/python3.9/dist-packages (from matplotlib>=1.4.0->scikit-plot) (2.8.2)\n",
            "Requirement already satisfied: fonttools>=4.22.0 in /usr/local/lib/python3.9/dist-packages (from matplotlib>=1.4.0->scikit-plot) (4.39.2)\n",
            "Requirement already satisfied: pillow>=6.2.0 in /usr/local/lib/python3.9/dist-packages (from matplotlib>=1.4.0->scikit-plot) (8.4.0)\n",
            "Requirement already satisfied: threadpoolctl>=2.0.0 in /usr/local/lib/python3.9/dist-packages (from scikit-learn>=0.18->scikit-plot) (3.1.0)\n",
            "Requirement already satisfied: zipp>=3.1.0 in /usr/local/lib/python3.9/dist-packages (from importlib-resources>=3.2.0->matplotlib>=1.4.0->scikit-plot) (3.15.0)\n",
            "Requirement already satisfied: six>=1.5 in /usr/local/lib/python3.9/dist-packages (from python-dateutil>=2.7->matplotlib>=1.4.0->scikit-plot) (1.16.0)\n"
          ]
        }
      ],
      "source": [
        "%pip install category_encoders\n",
        "%pip install scikit-plot "
      ]
    },
    {
      "cell_type": "markdown",
      "metadata": {
        "id": "QP2uwy89C4Bo"
      },
      "source": [
        "# Импорты"
      ]
    },
    {
      "cell_type": "code",
      "execution_count": null,
      "metadata": {
        "id": "SerzyYw-_fzR"
      },
      "outputs": [],
      "source": [
        "import pickle \n",
        "import scikitplot as skplt\n",
        "import pandas as pd\n",
        "import numpy as np\n",
        "from matplotlib import pyplot as plt\n",
        "import seaborn as sns\n",
        "import re\n",
        "from datetime import date\n",
        "from scipy.stats import zscore\n",
        "from collections import Counter\n",
        "from sklearn.metrics import confusion_matrix, matthews_corrcoef, f1_score\n",
        "\n",
        "from matplotlib.pyplot import hist\n",
        "\n",
        "from sklearn import tree\n",
        "from sklearn.model_selection import train_test_split\n",
        "from sklearn.model_selection import GridSearchCV\n",
        "from sklearn.linear_model import LogisticRegression\n",
        "from sklearn.ensemble import RandomForestClassifier\n",
        "from sklearn.naive_bayes import GaussianNB\n",
        "from sklearn.neighbors import KNeighborsClassifier\n",
        "from sklearn.svm import SVC\n",
        "import category_encoders as ce\n",
        "from sklearn.metrics import accuracy_score\n",
        "from sklearn.preprocessing import StandardScaler\n",
        "\n",
        "import tensorflow as tf\n",
        "from tensorflow import keras \n",
        "from keras.models import Sequential\n",
        "from keras.layers import Dense\n",
        "from keras.layers import Dropout\n",
        "\n",
        "import warnings\n",
        "warnings.filterwarnings(\"ignore\")\n",
        "%matplotlib inline"
      ]
    },
    {
      "cell_type": "markdown",
      "metadata": {
        "id": "PuKsKjjjVRIb"
      },
      "source": [
        "# EDA Разведочный анализ данных "
      ]
    },
    {
      "cell_type": "markdown",
      "metadata": {
        "id": "lMneeFRjVego"
      },
      "source": [
        "## Загрузка датасета"
      ]
    },
    {
      "cell_type": "code",
      "execution_count": null,
      "metadata": {
        "colab": {
          "base_uri": "https://localhost:8080/"
        },
        "id": "ctWQwWTL_-zC",
        "outputId": "3b418636-1da0-48de-bea7-9285ad669701"
      },
      "outputs": [
        {
          "output_type": "execute_result",
          "data": {
            "text/plain": [
              "                                                                  0  \\\n",
              "title                                                 Apex Legends™   \n",
              "url               https://store.steampowered.com/app/1172470/Ape...   \n",
              "image             https://cdn.akamai.steamstatic.com/steam/apps/...   \n",
              "release_date                                            4 Nov, 2020   \n",
              "platforms                                                   Windows   \n",
              "discount_rate                                                   NaN   \n",
              "original_price                                         Free to Play   \n",
              "discounted_price                                                NaN   \n",
              "developer                                     Respawn Entertainment   \n",
              "publisher                                           Electronic Arts   \n",
              "overall_reviews                                       Very Positive   \n",
              "recent_reviews    - 81% of the 15,998 user reviews in the last 3...   \n",
              "whole_reviews     - 86% of the 469,045 user reviews for this gam...   \n",
              "description       Apex Legends is the award-winning, free-to-pla...   \n",
              "tags              Free to Play,Battle Royale,Multiplayer,Shooter...   \n",
              "genre                                 Action,Adventure,Free to Play   \n",
              "processor          AMD FX 4350 or Equivalent, Intel Core i3 6300...   \n",
              "ram                                                        6 GB RAM   \n",
              "graphic_card            AMD Radeon™ HD 7730, NVIDIA GeForce® GT 640   \n",
              "rating            https://store.akamai.steamstatic.com/public/sh...   \n",
              "language          English,French,Italian,German,Spanish - Spain,...   \n",
              "metacriticts                                                   88.0   \n",
              "\n",
              "                                                                  1  \\\n",
              "title                                                    God of War   \n",
              "url               https://store.steampowered.com/app/1593500/God...   \n",
              "image             https://cdn.akamai.steamstatic.com/steam/apps/...   \n",
              "release_date                                           14 Jan, 2022   \n",
              "platforms                                                   Windows   \n",
              "discount_rate                                                  -20%   \n",
              "original_price                                           Rp 729 000   \n",
              "discounted_price                                         Rp 583 200   \n",
              "developer                                       Santa Monica Studio   \n",
              "publisher                                        PlayStation PC LLC   \n",
              "overall_reviews                             Overwhelmingly Positive   \n",
              "recent_reviews    - 96% of the 1,056 user reviews in the last 30...   \n",
              "whole_reviews     - 97% of the 34,533 user reviews for this game...   \n",
              "description       His vengeance against the Gods of Olympus year...   \n",
              "tags              Action,Adventure,Singleplayer,Story Rich,Mytho...   \n",
              "genre                                          Action,Adventure,RPG   \n",
              "processor          Intel i5-2500k (4 core 3.3 GHz) or AMD Ryzen ...   \n",
              "ram                                                        8 GB RAM   \n",
              "graphic_card                                                   <br>   \n",
              "rating            https://store.akamai.steamstatic.com/public/sh...   \n",
              "language          English,French,Italian,German,Spanish - Spain,...   \n",
              "metacriticts                                                   93.0   \n",
              "\n",
              "                                                                  2  \\\n",
              "title                                                    ELDEN RING   \n",
              "url               https://store.steampowered.com/app/1245620/ELD...   \n",
              "image             https://cdn.akamai.steamstatic.com/steam/apps/...   \n",
              "release_date                                           24 Feb, 2022   \n",
              "platforms                                                   Windows   \n",
              "discount_rate                                                   NaN   \n",
              "original_price                                           Rp 599 000   \n",
              "discounted_price                                                NaN   \n",
              "developer                                         FromSoftware Inc.   \n",
              "publisher              FromSoftware Inc.,Bandai Namco Entertainment   \n",
              "overall_reviews                                       Very Positive   \n",
              "recent_reviews    - 92% of the 14,027 user reviews in the last 3...   \n",
              "whole_reviews     - 90% of the 381,880 user reviews for this gam...   \n",
              "description       THE NEW FANTASY ACTION RPG. Rise, Tarnished, a...   \n",
              "tags              Souls-like,Relaxing,Dark Fantasy,RPG,Difficult...   \n",
              "genre                                                    Action,RPG   \n",
              "processor                   INTEL CORE I5-8400 or AMD RYZEN 3 3300X   \n",
              "ram                                                       12 GB RAM   \n",
              "graphic_card       NVIDIA GEFORCE GTX 1060 3 GB or AMD RADEON RX...   \n",
              "rating            https://store.akamai.steamstatic.com/public/sh...   \n",
              "language          English,French,Italian,German,Spanish - Spain,...   \n",
              "metacriticts                                                   94.0   \n",
              "\n",
              "                                                                  3  \\\n",
              "title                                            Grand Theft Auto V   \n",
              "url               https://store.steampowered.com/app/271590/Gran...   \n",
              "image             https://cdn.akamai.steamstatic.com/steam/apps/...   \n",
              "release_date                                           13 Apr, 2015   \n",
              "platforms                                                   Windows   \n",
              "discount_rate                                                   NaN   \n",
              "original_price                                                  NaN   \n",
              "discounted_price                                                NaN   \n",
              "developer                                            Rockstar North   \n",
              "publisher                                            Rockstar Games   \n",
              "overall_reviews                                       Very Positive   \n",
              "recent_reviews    - 90% of the 15,021 user reviews in the last 3...   \n",
              "whole_reviews     - 85% of the 1,226,760 user reviews for this g...   \n",
              "description       Grand Theft Auto V for PC offers players the o...   \n",
              "tags              Open World,Action,Multiplayer,Automobile Sim,C...   \n",
              "genre                                              Action,Adventure   \n",
              "processor          Intel Core 2 Quad CPU Q6600 @ 2.40GHz (4 CPUs...   \n",
              "ram                                                        4 GB RAM   \n",
              "graphic_card       NVIDIA 9800 GT 1GB / AMD HD 4870 1GB (DX 10, ...   \n",
              "rating            https://store.akamai.steamstatic.com/public/sh...   \n",
              "language          English,French,Italian,German,Spanish - Spain,...   \n",
              "metacriticts                                                   96.0   \n",
              "\n",
              "                                                                  4  \n",
              "title                                               Forza Horizon 5  \n",
              "url               https://store.steampowered.com/app/1551360/For...  \n",
              "image             https://cdn.akamai.steamstatic.com/steam/apps/...  \n",
              "release_date                                            8 Nov, 2021  \n",
              "platforms                                                   Windows  \n",
              "discount_rate                                                  -20%  \n",
              "original_price                                           Rp 699 000  \n",
              "discounted_price                                         Rp 559 200  \n",
              "developer                                          Playground Games  \n",
              "publisher                                         Xbox Game Studios  \n",
              "overall_reviews                                       Very Positive  \n",
              "recent_reviews    - 88% of the 3,005 user reviews in the last 30...  \n",
              "whole_reviews     - 87% of the 70,919 user reviews for this game...  \n",
              "description       Blast off to the visually stunning, exhilarati...  \n",
              "tags              Racing,Open World,Driving,Multiplayer,Automobi...  \n",
              "genre                     Action,Adventure,Racing,Simulation,Sports  \n",
              "processor                         Intel i5-4460 or AMD Ryzen 3 1200  \n",
              "ram                                                        8 GB RAM  \n",
              "graphic_card                           NVidia GTX 970 OR AMD RX 470  \n",
              "rating                                                          NaN  \n",
              "language          English,French,Italian,German,Spanish - Spain,...  \n",
              "metacriticts                                                    NaN  "
            ],
            "text/html": [
              "\n",
              "  <div id=\"df-8e1905ac-8939-4a98-aeb0-3b45bf52c8aa\">\n",
              "    <div class=\"colab-df-container\">\n",
              "      <div>\n",
              "<style scoped>\n",
              "    .dataframe tbody tr th:only-of-type {\n",
              "        vertical-align: middle;\n",
              "    }\n",
              "\n",
              "    .dataframe tbody tr th {\n",
              "        vertical-align: top;\n",
              "    }\n",
              "\n",
              "    .dataframe thead th {\n",
              "        text-align: right;\n",
              "    }\n",
              "</style>\n",
              "<table border=\"1\" class=\"dataframe\">\n",
              "  <thead>\n",
              "    <tr style=\"text-align: right;\">\n",
              "      <th></th>\n",
              "      <th>0</th>\n",
              "      <th>1</th>\n",
              "      <th>2</th>\n",
              "      <th>3</th>\n",
              "      <th>4</th>\n",
              "    </tr>\n",
              "  </thead>\n",
              "  <tbody>\n",
              "    <tr>\n",
              "      <th>title</th>\n",
              "      <td>Apex Legends™</td>\n",
              "      <td>God of War</td>\n",
              "      <td>ELDEN RING</td>\n",
              "      <td>Grand Theft Auto V</td>\n",
              "      <td>Forza Horizon 5</td>\n",
              "    </tr>\n",
              "    <tr>\n",
              "      <th>url</th>\n",
              "      <td>https://store.steampowered.com/app/1172470/Ape...</td>\n",
              "      <td>https://store.steampowered.com/app/1593500/God...</td>\n",
              "      <td>https://store.steampowered.com/app/1245620/ELD...</td>\n",
              "      <td>https://store.steampowered.com/app/271590/Gran...</td>\n",
              "      <td>https://store.steampowered.com/app/1551360/For...</td>\n",
              "    </tr>\n",
              "    <tr>\n",
              "      <th>image</th>\n",
              "      <td>https://cdn.akamai.steamstatic.com/steam/apps/...</td>\n",
              "      <td>https://cdn.akamai.steamstatic.com/steam/apps/...</td>\n",
              "      <td>https://cdn.akamai.steamstatic.com/steam/apps/...</td>\n",
              "      <td>https://cdn.akamai.steamstatic.com/steam/apps/...</td>\n",
              "      <td>https://cdn.akamai.steamstatic.com/steam/apps/...</td>\n",
              "    </tr>\n",
              "    <tr>\n",
              "      <th>release_date</th>\n",
              "      <td>4 Nov, 2020</td>\n",
              "      <td>14 Jan, 2022</td>\n",
              "      <td>24 Feb, 2022</td>\n",
              "      <td>13 Apr, 2015</td>\n",
              "      <td>8 Nov, 2021</td>\n",
              "    </tr>\n",
              "    <tr>\n",
              "      <th>platforms</th>\n",
              "      <td>Windows</td>\n",
              "      <td>Windows</td>\n",
              "      <td>Windows</td>\n",
              "      <td>Windows</td>\n",
              "      <td>Windows</td>\n",
              "    </tr>\n",
              "    <tr>\n",
              "      <th>discount_rate</th>\n",
              "      <td>NaN</td>\n",
              "      <td>-20%</td>\n",
              "      <td>NaN</td>\n",
              "      <td>NaN</td>\n",
              "      <td>-20%</td>\n",
              "    </tr>\n",
              "    <tr>\n",
              "      <th>original_price</th>\n",
              "      <td>Free to Play</td>\n",
              "      <td>Rp 729 000</td>\n",
              "      <td>Rp 599 000</td>\n",
              "      <td>NaN</td>\n",
              "      <td>Rp 699 000</td>\n",
              "    </tr>\n",
              "    <tr>\n",
              "      <th>discounted_price</th>\n",
              "      <td>NaN</td>\n",
              "      <td>Rp 583 200</td>\n",
              "      <td>NaN</td>\n",
              "      <td>NaN</td>\n",
              "      <td>Rp 559 200</td>\n",
              "    </tr>\n",
              "    <tr>\n",
              "      <th>developer</th>\n",
              "      <td>Respawn Entertainment</td>\n",
              "      <td>Santa Monica Studio</td>\n",
              "      <td>FromSoftware Inc.</td>\n",
              "      <td>Rockstar North</td>\n",
              "      <td>Playground Games</td>\n",
              "    </tr>\n",
              "    <tr>\n",
              "      <th>publisher</th>\n",
              "      <td>Electronic Arts</td>\n",
              "      <td>PlayStation PC LLC</td>\n",
              "      <td>FromSoftware Inc.,Bandai Namco Entertainment</td>\n",
              "      <td>Rockstar Games</td>\n",
              "      <td>Xbox Game Studios</td>\n",
              "    </tr>\n",
              "    <tr>\n",
              "      <th>overall_reviews</th>\n",
              "      <td>Very Positive</td>\n",
              "      <td>Overwhelmingly Positive</td>\n",
              "      <td>Very Positive</td>\n",
              "      <td>Very Positive</td>\n",
              "      <td>Very Positive</td>\n",
              "    </tr>\n",
              "    <tr>\n",
              "      <th>recent_reviews</th>\n",
              "      <td>- 81% of the 15,998 user reviews in the last 3...</td>\n",
              "      <td>- 96% of the 1,056 user reviews in the last 30...</td>\n",
              "      <td>- 92% of the 14,027 user reviews in the last 3...</td>\n",
              "      <td>- 90% of the 15,021 user reviews in the last 3...</td>\n",
              "      <td>- 88% of the 3,005 user reviews in the last 30...</td>\n",
              "    </tr>\n",
              "    <tr>\n",
              "      <th>whole_reviews</th>\n",
              "      <td>- 86% of the 469,045 user reviews for this gam...</td>\n",
              "      <td>- 97% of the 34,533 user reviews for this game...</td>\n",
              "      <td>- 90% of the 381,880 user reviews for this gam...</td>\n",
              "      <td>- 85% of the 1,226,760 user reviews for this g...</td>\n",
              "      <td>- 87% of the 70,919 user reviews for this game...</td>\n",
              "    </tr>\n",
              "    <tr>\n",
              "      <th>description</th>\n",
              "      <td>Apex Legends is the award-winning, free-to-pla...</td>\n",
              "      <td>His vengeance against the Gods of Olympus year...</td>\n",
              "      <td>THE NEW FANTASY ACTION RPG. Rise, Tarnished, a...</td>\n",
              "      <td>Grand Theft Auto V for PC offers players the o...</td>\n",
              "      <td>Blast off to the visually stunning, exhilarati...</td>\n",
              "    </tr>\n",
              "    <tr>\n",
              "      <th>tags</th>\n",
              "      <td>Free to Play,Battle Royale,Multiplayer,Shooter...</td>\n",
              "      <td>Action,Adventure,Singleplayer,Story Rich,Mytho...</td>\n",
              "      <td>Souls-like,Relaxing,Dark Fantasy,RPG,Difficult...</td>\n",
              "      <td>Open World,Action,Multiplayer,Automobile Sim,C...</td>\n",
              "      <td>Racing,Open World,Driving,Multiplayer,Automobi...</td>\n",
              "    </tr>\n",
              "    <tr>\n",
              "      <th>genre</th>\n",
              "      <td>Action,Adventure,Free to Play</td>\n",
              "      <td>Action,Adventure,RPG</td>\n",
              "      <td>Action,RPG</td>\n",
              "      <td>Action,Adventure</td>\n",
              "      <td>Action,Adventure,Racing,Simulation,Sports</td>\n",
              "    </tr>\n",
              "    <tr>\n",
              "      <th>processor</th>\n",
              "      <td>AMD FX 4350 or Equivalent, Intel Core i3 6300...</td>\n",
              "      <td>Intel i5-2500k (4 core 3.3 GHz) or AMD Ryzen ...</td>\n",
              "      <td>INTEL CORE I5-8400 or AMD RYZEN 3 3300X</td>\n",
              "      <td>Intel Core 2 Quad CPU Q6600 @ 2.40GHz (4 CPUs...</td>\n",
              "      <td>Intel i5-4460 or AMD Ryzen 3 1200</td>\n",
              "    </tr>\n",
              "    <tr>\n",
              "      <th>ram</th>\n",
              "      <td>6 GB RAM</td>\n",
              "      <td>8 GB RAM</td>\n",
              "      <td>12 GB RAM</td>\n",
              "      <td>4 GB RAM</td>\n",
              "      <td>8 GB RAM</td>\n",
              "    </tr>\n",
              "    <tr>\n",
              "      <th>graphic_card</th>\n",
              "      <td>AMD Radeon™ HD 7730, NVIDIA GeForce® GT 640</td>\n",
              "      <td>&lt;br&gt;</td>\n",
              "      <td>NVIDIA GEFORCE GTX 1060 3 GB or AMD RADEON RX...</td>\n",
              "      <td>NVIDIA 9800 GT 1GB / AMD HD 4870 1GB (DX 10, ...</td>\n",
              "      <td>NVidia GTX 970 OR AMD RX 470</td>\n",
              "    </tr>\n",
              "    <tr>\n",
              "      <th>rating</th>\n",
              "      <td>https://store.akamai.steamstatic.com/public/sh...</td>\n",
              "      <td>https://store.akamai.steamstatic.com/public/sh...</td>\n",
              "      <td>https://store.akamai.steamstatic.com/public/sh...</td>\n",
              "      <td>https://store.akamai.steamstatic.com/public/sh...</td>\n",
              "      <td>NaN</td>\n",
              "    </tr>\n",
              "    <tr>\n",
              "      <th>language</th>\n",
              "      <td>English,French,Italian,German,Spanish - Spain,...</td>\n",
              "      <td>English,French,Italian,German,Spanish - Spain,...</td>\n",
              "      <td>English,French,Italian,German,Spanish - Spain,...</td>\n",
              "      <td>English,French,Italian,German,Spanish - Spain,...</td>\n",
              "      <td>English,French,Italian,German,Spanish - Spain,...</td>\n",
              "    </tr>\n",
              "    <tr>\n",
              "      <th>metacriticts</th>\n",
              "      <td>88.0</td>\n",
              "      <td>93.0</td>\n",
              "      <td>94.0</td>\n",
              "      <td>96.0</td>\n",
              "      <td>NaN</td>\n",
              "    </tr>\n",
              "  </tbody>\n",
              "</table>\n",
              "</div>\n",
              "      <button class=\"colab-df-convert\" onclick=\"convertToInteractive('df-8e1905ac-8939-4a98-aeb0-3b45bf52c8aa')\"\n",
              "              title=\"Convert this dataframe to an interactive table.\"\n",
              "              style=\"display:none;\">\n",
              "        \n",
              "  <svg xmlns=\"http://www.w3.org/2000/svg\" height=\"24px\"viewBox=\"0 0 24 24\"\n",
              "       width=\"24px\">\n",
              "    <path d=\"M0 0h24v24H0V0z\" fill=\"none\"/>\n",
              "    <path d=\"M18.56 5.44l.94 2.06.94-2.06 2.06-.94-2.06-.94-.94-2.06-.94 2.06-2.06.94zm-11 1L8.5 8.5l.94-2.06 2.06-.94-2.06-.94L8.5 2.5l-.94 2.06-2.06.94zm10 10l.94 2.06.94-2.06 2.06-.94-2.06-.94-.94-2.06-.94 2.06-2.06.94z\"/><path d=\"M17.41 7.96l-1.37-1.37c-.4-.4-.92-.59-1.43-.59-.52 0-1.04.2-1.43.59L10.3 9.45l-7.72 7.72c-.78.78-.78 2.05 0 2.83L4 21.41c.39.39.9.59 1.41.59.51 0 1.02-.2 1.41-.59l7.78-7.78 2.81-2.81c.8-.78.8-2.07 0-2.86zM5.41 20L4 18.59l7.72-7.72 1.47 1.35L5.41 20z\"/>\n",
              "  </svg>\n",
              "      </button>\n",
              "      \n",
              "  <style>\n",
              "    .colab-df-container {\n",
              "      display:flex;\n",
              "      flex-wrap:wrap;\n",
              "      gap: 12px;\n",
              "    }\n",
              "\n",
              "    .colab-df-convert {\n",
              "      background-color: #E8F0FE;\n",
              "      border: none;\n",
              "      border-radius: 50%;\n",
              "      cursor: pointer;\n",
              "      display: none;\n",
              "      fill: #1967D2;\n",
              "      height: 32px;\n",
              "      padding: 0 0 0 0;\n",
              "      width: 32px;\n",
              "    }\n",
              "\n",
              "    .colab-df-convert:hover {\n",
              "      background-color: #E2EBFA;\n",
              "      box-shadow: 0px 1px 2px rgba(60, 64, 67, 0.3), 0px 1px 3px 1px rgba(60, 64, 67, 0.15);\n",
              "      fill: #174EA6;\n",
              "    }\n",
              "\n",
              "    [theme=dark] .colab-df-convert {\n",
              "      background-color: #3B4455;\n",
              "      fill: #D2E3FC;\n",
              "    }\n",
              "\n",
              "    [theme=dark] .colab-df-convert:hover {\n",
              "      background-color: #434B5C;\n",
              "      box-shadow: 0px 1px 3px 1px rgba(0, 0, 0, 0.15);\n",
              "      filter: drop-shadow(0px 1px 2px rgba(0, 0, 0, 0.3));\n",
              "      fill: #FFFFFF;\n",
              "    }\n",
              "  </style>\n",
              "\n",
              "      <script>\n",
              "        const buttonEl =\n",
              "          document.querySelector('#df-8e1905ac-8939-4a98-aeb0-3b45bf52c8aa button.colab-df-convert');\n",
              "        buttonEl.style.display =\n",
              "          google.colab.kernel.accessAllowed ? 'block' : 'none';\n",
              "\n",
              "        async function convertToInteractive(key) {\n",
              "          const element = document.querySelector('#df-8e1905ac-8939-4a98-aeb0-3b45bf52c8aa');\n",
              "          const dataTable =\n",
              "            await google.colab.kernel.invokeFunction('convertToInteractive',\n",
              "                                                     [key], {});\n",
              "          if (!dataTable) return;\n",
              "\n",
              "          const docLinkHtml = 'Like what you see? Visit the ' +\n",
              "            '<a target=\"_blank\" href=https://colab.research.google.com/notebooks/data_table.ipynb>data table notebook</a>'\n",
              "            + ' to learn more about interactive tables.';\n",
              "          element.innerHTML = '';\n",
              "          dataTable['output_type'] = 'display_data';\n",
              "          await google.colab.output.renderOutput(dataTable, element);\n",
              "          const docLink = document.createElement('div');\n",
              "          docLink.innerHTML = docLinkHtml;\n",
              "          element.appendChild(docLink);\n",
              "        }\n",
              "      </script>\n",
              "    </div>\n",
              "  </div>\n",
              "  "
            ]
          },
          "metadata": {},
          "execution_count": 832
        }
      ],
      "source": [
        "#Расскоментируйте тот способ загрузки данных, какой хотите, с гитхаба, с Google drive, или с локальной папки с этим ipynb файлом\n",
        "ds = pd.read_csv('https://github.com/triesonyk/data-analysis-steam-games/blob/master/steam_games.csv?raw=true')\n",
        "\n",
        "# ds = pd.read_csv('steam_games.csv')\n",
        "\n",
        "# from google.colab import drive\n",
        "# drive.mount('/content/drive')\n",
        "# ds = pd.read_csv('content/drive/[Path to the folder with dataset]/steam_games.csv')\n",
        "\n",
        "ds.head().T"
      ]
    },
    {
      "cell_type": "markdown",
      "metadata": {
        "id": "rMGnmqjveDyD"
      },
      "source": [
        "## Описательный анализ и обработка датасета"
      ]
    },
    {
      "cell_type": "code",
      "execution_count": null,
      "metadata": {
        "colab": {
          "base_uri": "https://localhost:8080/"
        },
        "id": "aty4oDpLAAQx",
        "outputId": "f32d396e-4772-43af-9cf9-b38245a7de79"
      },
      "outputs": [
        {
          "output_type": "stream",
          "name": "stdout",
          "text": [
            "<class 'pandas.core.frame.DataFrame'>\n",
            "RangeIndex: 121904 entries, 0 to 121903\n",
            "Data columns (total 22 columns):\n",
            " #   Column            Non-Null Count   Dtype  \n",
            "---  ------            --------------   -----  \n",
            " 0   title             121893 non-null  object \n",
            " 1   url               121904 non-null  object \n",
            " 2   image             121904 non-null  object \n",
            " 3   release_date      113850 non-null  object \n",
            " 4   platforms         117576 non-null  object \n",
            " 5   discount_rate     2941 non-null    object \n",
            " 6   original_price    109675 non-null  object \n",
            " 7   discounted_price  2935 non-null    object \n",
            " 8   developer         113921 non-null  object \n",
            " 9   publisher         103890 non-null  object \n",
            " 10  overall_reviews   78125 non-null   object \n",
            " 11  recent_reviews    78125 non-null   object \n",
            " 12  whole_reviews     5773 non-null    object \n",
            " 13  description       75925 non-null   object \n",
            " 14  tags              112020 non-null  object \n",
            " 15  genre             111334 non-null  object \n",
            " 16  processor         100264 non-null  object \n",
            " 17  ram               99696 non-null   object \n",
            " 18  graphic_card      93894 non-null   object \n",
            " 19  rating            18891 non-null   object \n",
            " 20  language          110255 non-null  object \n",
            " 21  metacriticts      2223 non-null    float64\n",
            "dtypes: float64(1), object(21)\n",
            "memory usage: 20.5+ MB\n"
          ]
        }
      ],
      "source": [
        "ds.info()"
      ]
    },
    {
      "cell_type": "code",
      "execution_count": null,
      "metadata": {
        "id": "7L-UEMZvfXSm"
      },
      "outputs": [],
      "source": [
        "#Для удобства, сохраним изначальный датасет в отдельной переменной, работать дальше будем с копией\n",
        "dsn = ds.copy(deep = True)"
      ]
    },
    {
      "cell_type": "code",
      "execution_count": null,
      "metadata": {
        "id": "t6D_-2ijADwz"
      },
      "outputs": [],
      "source": [
        "#Функция для более удобного удаления рядов из датасета\n",
        "def drop_rows(ds, rows):\n",
        "  ds.drop(rows.index, inplace = True)\n",
        "  ds.reset_index(drop=True, inplace=True)"
      ]
    },
    {
      "cell_type": "code",
      "execution_count": null,
      "metadata": {
        "colab": {
          "base_uri": "https://localhost:8080/"
        },
        "id": "GpUlIaLIecJ9",
        "outputId": "7e1f4f2c-f0f1-4350-b994-2f178c835659"
      },
      "outputs": [
        {
          "output_type": "execute_result",
          "data": {
            "text/plain": [
              "0"
            ]
          },
          "metadata": {},
          "execution_count": 836
        }
      ],
      "source": [
        "#Так как нам не нужны игры без тагов, давайте их все удалим\n",
        "dsn.dropna(inplace=True, subset=[\"tags\"])\n",
        "dsn.reset_index(drop=True, inplace=True)\n",
        "dsn[dsn.tags.isna()].shape[0]"
      ]
    },
    {
      "cell_type": "code",
      "execution_count": null,
      "metadata": {
        "colab": {
          "base_uri": "https://localhost:8080/"
        },
        "id": "DmbluDXkf3Hg",
        "outputId": "8b66efa2-af79-42d3-f326-61dd4e53330f"
      },
      "outputs": [
        {
          "output_type": "stream",
          "name": "stdout",
          "text": [
            "<class 'pandas.core.frame.DataFrame'>\n",
            "RangeIndex: 112020 entries, 0 to 112019\n",
            "Data columns (total 22 columns):\n",
            " #   Column            Non-Null Count   Dtype  \n",
            "---  ------            --------------   -----  \n",
            " 0   title             112013 non-null  object \n",
            " 1   url               112020 non-null  object \n",
            " 2   image             112020 non-null  object \n",
            " 3   release_date      111265 non-null  object \n",
            " 4   platforms         109902 non-null  object \n",
            " 5   discount_rate     2159 non-null    object \n",
            " 6   original_price    99965 non-null   object \n",
            " 7   discounted_price  2153 non-null    object \n",
            " 8   developer         111676 non-null  object \n",
            " 9   publisher         101909 non-null  object \n",
            " 10  overall_reviews   77128 non-null   object \n",
            " 11  recent_reviews    77128 non-null   object \n",
            " 12  whole_reviews     5773 non-null    object \n",
            " 13  description       75875 non-null   object \n",
            " 14  tags              112020 non-null  object \n",
            " 15  genre             111321 non-null  object \n",
            " 16  processor         100218 non-null  object \n",
            " 17  ram               99647 non-null   object \n",
            " 18  graphic_card      93849 non-null   object \n",
            " 19  rating            18267 non-null   object \n",
            " 20  language          110127 non-null  object \n",
            " 21  metacriticts      2220 non-null    float64\n",
            "dtypes: float64(1), object(21)\n",
            "memory usage: 18.8+ MB\n"
          ]
        }
      ],
      "source": [
        "dsn.info()"
      ]
    },
    {
      "cell_type": "code",
      "execution_count": null,
      "metadata": {
        "colab": {
          "base_uri": "https://localhost:8080/"
        },
        "id": "zQV378yagAHS",
        "outputId": "cc09837b-57b1-4327-e5d9-318168a8656a"
      },
      "outputs": [
        {
          "output_type": "execute_result",
          "data": {
            "text/plain": [
              "'Free to Play,Battle Royale,Multiplayer,Shooter,First-Person,FPS,PvP,Action,Hero Shooter,Team-Based,Tactical,Survival,Character Customization,Sci-fi,Funny,Loot,Lore-Rich,Cyberpunk,Co-op,Cinematic'"
            ],
            "application/vnd.google.colaboratory.intrinsic+json": {
              "type": "string"
            }
          },
          "metadata": {},
          "execution_count": 838
        }
      ],
      "source": [
        "#Как видим, столбцы с тагами у нас представляют строки, где таги пречислены через запятую\n",
        "#Порядок тагов важен для ранжирования в поиске в steam, однако после первых 5 тагов он уже не так важен\n",
        "#В дальнейшем мы будем ориентироваться на комбинации из не более чем 3 тагов для подачи в нашу модель \n",
        "dsn.tags[0]"
      ]
    },
    {
      "cell_type": "code",
      "execution_count": null,
      "metadata": {
        "id": "rWiOC1CBgSHN"
      },
      "outputs": [],
      "source": [
        "#Создадим 2 новых столбца, tags_list - наши строки с тагами преобразованные в массивы тагов \n",
        "dsn[\"tags_list\"] = dsn.tags.apply(lambda x: x.split(','))\n",
        "#tags_count - количество тагов на одну игру\n",
        "dsn[\"tags_count\"] = dsn.tags_list.apply(lambda x: len(x))"
      ]
    },
    {
      "cell_type": "code",
      "execution_count": null,
      "metadata": {
        "colab": {
          "base_uri": "https://localhost:8080/"
        },
        "id": "DtF0Ag0khPEf",
        "outputId": "4e6dd096-1eab-4ec0-8e25-38dea9ae7e27"
      },
      "outputs": [
        {
          "output_type": "execute_result",
          "data": {
            "text/plain": [
              "count    112020.000000\n",
              "mean         10.080227\n",
              "std           7.168494\n",
              "min           1.000000\n",
              "25%           3.000000\n",
              "50%           8.000000\n",
              "75%          19.000000\n",
              "max          20.000000\n",
              "Name: tags_count, dtype: float64"
            ]
          },
          "metadata": {},
          "execution_count": 840
        }
      ],
      "source": [
        "dsn.tags_count.describe()"
      ]
    },
    {
      "cell_type": "code",
      "execution_count": null,
      "metadata": {
        "colab": {
          "base_uri": "https://localhost:8080/"
        },
        "id": "bwAvvqQfhQ0T",
        "outputId": "8912a077-cb9a-4f64-e4fa-c2145038e952"
      },
      "outputs": [
        {
          "output_type": "execute_result",
          "data": {
            "text/plain": [
              "['Free to Play',\n",
              " 'Battle Royale',\n",
              " 'Multiplayer',\n",
              " 'Shooter',\n",
              " 'First-Person',\n",
              " 'FPS',\n",
              " 'PvP',\n",
              " 'Action',\n",
              " 'Hero Shooter',\n",
              " 'Team-Based',\n",
              " 'Tactical',\n",
              " 'Survival',\n",
              " 'Character Customization',\n",
              " 'Sci-fi',\n",
              " 'Funny',\n",
              " 'Loot',\n",
              " 'Lore-Rich',\n",
              " 'Cyberpunk',\n",
              " 'Co-op',\n",
              " 'Cinematic']"
            ]
          },
          "metadata": {},
          "execution_count": 841
        }
      ],
      "source": [
        "dsn.tags_list[0]"
      ]
    },
    {
      "cell_type": "code",
      "execution_count": null,
      "metadata": {
        "colab": {
          "base_uri": "https://localhost:8080/"
        },
        "id": "UJki061WF9Xm",
        "outputId": "76577fe8-31f7-45d3-db42-f34cdf8106f0"
      },
      "outputs": [
        {
          "output_type": "stream",
          "name": "stdout",
          "text": [
            "Количество игр с < 3 количеством тагов до удаления 18511\n",
            "Количество игр с < 3 количеством тагов после 0\n"
          ]
        }
      ],
      "source": [
        "#Так как нам необходимо чтобы 3 тага у игр присутствовали обязательно, удалим все игры\n",
        "#где их меньше\n",
        "print(f\"Количество игр с < 3 количеством тагов до удаления {dsn[dsn.tags_count < 3].shape[0]}\")\n",
        "drop_rows(dsn,dsn[dsn.tags_count < 3])\n",
        "print(f\"Количество игр с < 3 количеством тагов после {dsn[dsn.tags_count < 3].shape[0]}\")"
      ]
    },
    {
      "cell_type": "code",
      "execution_count": null,
      "metadata": {
        "colab": {
          "base_uri": "https://localhost:8080/"
        },
        "id": "PwE5ZOMFhXsk",
        "outputId": "5f8d3f32-8495-4343-e981-75105cb3183b"
      },
      "outputs": [
        {
          "output_type": "execute_result",
          "data": {
            "text/plain": [
              "(280527, 1100706)"
            ]
          },
          "metadata": {},
          "execution_count": 843
        }
      ],
      "source": [
        "#Создадим список всех списков первых 3-х тагов всех игр\n",
        "all_tags = []\n",
        "\n",
        "for tag_list in dsn.tags_list:\n",
        "  all_tags += tag_list[:3]\n",
        "\n",
        "len(all_tags), dsn.tags_count.sum()"
      ]
    },
    {
      "cell_type": "code",
      "execution_count": null,
      "metadata": {
        "colab": {
          "base_uri": "https://localhost:8080/"
        },
        "id": "8FZ0WJO_iL22",
        "outputId": "9bc23980-d269-4001-a63b-3ad3429342f2"
      },
      "outputs": [
        {
          "output_type": "execute_result",
          "data": {
            "text/plain": [
              "424"
            ]
          },
          "metadata": {},
          "execution_count": 844
        }
      ],
      "source": [
        "#Удалим все дупликаты из него\n",
        "all_tags = list(set(all_tags))\n",
        "len(all_tags)"
      ]
    },
    {
      "cell_type": "code",
      "execution_count": null,
      "metadata": {
        "colab": {
          "base_uri": "https://localhost:8080/"
        },
        "id": "vok2p1d0iT0A",
        "outputId": "16b5f618-05f7-4500-9df0-f14dde2b4ddb"
      },
      "outputs": [
        {
          "output_type": "execute_result",
          "data": {
            "text/plain": [
              "['Typing', 'Action', 'Science', 'Party Game', 'Singleplayer']"
            ]
          },
          "metadata": {},
          "execution_count": 845
        }
      ],
      "source": [
        "#Взглянем что там у нас за таги\n",
        "all_tags[:5]"
      ]
    },
    {
      "cell_type": "code",
      "execution_count": null,
      "metadata": {
        "colab": {
          "base_uri": "https://localhost:8080/"
        },
        "id": "GWKVhg9ViaVG",
        "outputId": "4d2a698d-0f3e-4f8c-d9ee-f1c7d921e90f"
      },
      "outputs": [
        {
          "output_type": "stream",
          "name": "stdout",
          "text": [
            "False\n",
            "False\n",
            "False\n"
          ]
        }
      ],
      "source": [
        "#Удалим непристойные таги\n",
        "K = ['LGBTQ+', 'Hentai', 'NSFW']\n",
        "for k in K:\n",
        "  all_tags = [i for i in all_tags if i != k]\n",
        "\n",
        "for k in K:\n",
        "  print(k in all_tags)"
      ]
    },
    {
      "cell_type": "code",
      "execution_count": null,
      "metadata": {
        "colab": {
          "base_uri": "https://localhost:8080/"
        },
        "id": "Azlrag0DiwnG",
        "outputId": "4457f14a-f03e-47bb-8dd7-716b99b2a60b"
      },
      "outputs": [
        {
          "output_type": "stream",
          "name": "stdout",
          "text": [
            "Shape перед удалением (93509, 24)\n",
            "Количество игр с тагом NSFW перед удалением: (390, 24)\n",
            "Количество игр с тагом LGBTQ+ перед удалением: (1321, 24)\n",
            "Количество игр с тагом Hentai перед удалением: (612, 24)\n",
            "\n",
            "\n",
            "Количество игр с тагом NSFW после удаления: (0, 24)\n",
            "Количество игр с тагом LGBTQ+ после удаления: (0, 24)\n",
            "Количество игр с тагом Hentai после удаления: (0, 24)\n",
            "Shape после удаления (91492, 24)\n"
          ]
        }
      ],
      "source": [
        "#Дропнем все эти непотребства :)\n",
        "print(f\"Shape перед удалением {dsn.shape}\")\n",
        "\n",
        "print(f\"Количество игр с тагом NSFW перед удалением: {dsn[['NSFW' in l for l in dsn.tags_list.to_list()]].shape}\")\n",
        "print(f\"Количество игр с тагом LGBTQ+ перед удалением: {dsn[['LGBTQ+' in l for l in dsn.tags_list.to_list()]].shape}\")\n",
        "print(f\"Количество игр с тагом Hentai перед удалением: {dsn[['Hentai' in l for l in dsn.tags_list.to_list()]].shape}\")\n",
        "\n",
        "drop_rows(dsn, dsn[['NSFW' in l for l in dsn.tags_list.to_list()]])\n",
        "drop_rows(dsn, dsn[['LGBTQ+' in l for l in dsn.tags_list.to_list()]])\n",
        "drop_rows(dsn, dsn[['Hentai' in l for l in dsn.tags_list.to_list()]])\n",
        "\n",
        "print('\\n')\n",
        "\n",
        "print(f\"Количество игр с тагом NSFW после удаления: {dsn[['NSFW' in l for l in dsn.tags_list.to_list()]].shape}\")\n",
        "print(f\"Количество игр с тагом LGBTQ+ после удаления: {dsn[['LGBTQ+' in l for l in dsn.tags_list.to_list()]].shape}\")\n",
        "print(f\"Количество игр с тагом Hentai после удаления: {dsn[['Hentai' in l for l in dsn.tags_list.to_list()]].shape}\")\n",
        "\n",
        "print(f\"Shape после удаления {dsn.shape}\")"
      ]
    },
    {
      "cell_type": "code",
      "execution_count": null,
      "metadata": {
        "colab": {
          "base_uri": "https://localhost:8080/"
        },
        "id": "6rQJ2WvRlnaS",
        "outputId": "f5f188fa-fab3-4909-d3ba-94b65f28c7a6"
      },
      "outputs": [
        {
          "output_type": "execute_result",
          "data": {
            "text/plain": [
              "[<matplotlib.axis.XTick at 0x7f3e215fe220>,\n",
              " <matplotlib.axis.XTick at 0x7f3e215fef70>,\n",
              " <matplotlib.axis.XTick at 0x7f3e1f9a9070>,\n",
              " <matplotlib.axis.XTick at 0x7f3e1e44dee0>,\n",
              " <matplotlib.axis.XTick at 0x7f3e2fb578e0>,\n",
              " <matplotlib.axis.XTick at 0x7f3e2859f5b0>,\n",
              " <matplotlib.axis.XTick at 0x7f3e28bda9a0>,\n",
              " <matplotlib.axis.XTick at 0x7f3e28bdac10>,\n",
              " <matplotlib.axis.XTick at 0x7f3e28bdaf10>,\n",
              " <matplotlib.axis.XTick at 0x7f3e2ed895b0>,\n",
              " <matplotlib.axis.XTick at 0x7f3e29167820>,\n",
              " <matplotlib.axis.XTick at 0x7f3e07bfe460>,\n",
              " <matplotlib.axis.XTick at 0x7f3e31d81d90>,\n",
              " <matplotlib.axis.XTick at 0x7f3e2ed8c340>,\n",
              " <matplotlib.axis.XTick at 0x7f3e2ed8c190>,\n",
              " <matplotlib.axis.XTick at 0x7f3e25407220>,\n",
              " <matplotlib.axis.XTick at 0x7f3e20d13070>,\n",
              " <matplotlib.axis.XTick at 0x7f3e1f9a9dc0>,\n",
              " <matplotlib.axis.XTick at 0x7f3e20d208b0>,\n",
              " <matplotlib.axis.XTick at 0x7f3e20d20e20>,\n",
              " <matplotlib.axis.XTick at 0x7f3e2f98edc0>]"
            ]
          },
          "metadata": {},
          "execution_count": 848
        },
        {
          "output_type": "display_data",
          "data": {
            "text/plain": [
              "<Figure size 504x288 with 1 Axes>"
            ],
            "image/png": "[encoded data removed]"
          },
          "metadata": {}
        }
      ],
      "source": [
        "#Посмотрим как распределено количество наших тагов\n",
        "sns.set(rc={'figure.figsize':(7,4)})\n",
        "g = sns.histplot(dsn.tags_count, bins = 20, discrete=True, alpha=1)\n",
        "g.set_xticks(range(0, 21))"
      ]
    },
    {
      "cell_type": "code",
      "execution_count": null,
      "metadata": {
        "colab": {
          "base_uri": "https://localhost:8080/"
        },
        "id": "UM9SWSkzrxmb",
        "outputId": "22c51310-06fe-4740-fc78-1ee887d24da8"
      },
      "outputs": [
        {
          "output_type": "execute_result",
          "data": {
            "text/plain": [
              "'- 86% of the 469,045 user reviews for this game are positive.'"
            ],
            "application/vnd.google.colaboratory.intrinsic+json": {
              "type": "string"
            }
          },
          "metadata": {},
          "execution_count": 849
        }
      ],
      "source": [
        "#Для оценки \"успешности\" игры, нам понадобится подсчитать количество ревью для каждой игры\n",
        "#Платформа steam не показывает нам продажи, однако, она показывает общее количество ревью, оставленных человеком на игру\n",
        "#Это поможет нам предсказать количество общих продаж, которое считается как примерно 50*(общее количество ревью)\n",
        "#Посмотрим что там у нас в поле whole_reviews\n",
        "dsn.whole_reviews[0]"
      ]
    },
    {
      "cell_type": "code",
      "execution_count": null,
      "metadata": {
        "colab": {
          "base_uri": "https://localhost:8080/"
        },
        "id": "yqq4cYndsZMA",
        "outputId": "87aaa012-7835-482b-d00c-0946c0c3792d"
      },
      "outputs": [
        {
          "output_type": "stream",
          "name": "stdout",
          "text": [
            "Количество игр с ревью 5420\n",
            "Количество игр без ревью 86072\n"
          ]
        }
      ],
      "source": [
        "#Нас интересует число 469,045, которое явлется числом всех когда либо оставленных ревью на игру людьми\n",
        "#Нас не интересуют игры без ревью, давайте взглянем сколько у нас игр с ревью в датасете\n",
        "print(f\"Количество игр с ревью {dsn[dsn.whole_reviews.notna()].shape[0]}\")\n",
        "print(f\"Количество игр без ревью {dsn[dsn.whole_reviews.isna()].shape[0]}\")"
      ]
    },
    {
      "cell_type": "code",
      "execution_count": null,
      "metadata": {
        "colab": {
          "base_uri": "https://localhost:8080/"
        },
        "id": "e5G2gwcWtEu_",
        "outputId": "5f4d1d8d-0a87-4f24-b112-2ca2033db50f"
      },
      "outputs": [
        {
          "output_type": "stream",
          "name": "stdout",
          "text": [
            "Количество игр с ревью после удаления 5420\n",
            "Количество игр без ревью после удаления 0\n"
          ]
        }
      ],
      "source": [
        "#К сожалению нам прийдется удалить большую часть датасета\n",
        "dsn.dropna(subset=[\"whole_reviews\"],inplace=True)\n",
        "dsn.reset_index(drop=True, inplace=True)\n",
        "print(f\"Количество игр с ревью после удаления {dsn[dsn.whole_reviews.notna()].shape[0]}\")\n",
        "print(f\"Количество игр без ревью после удаления {dsn[dsn.whole_reviews.isna()].shape[0]}\")"
      ]
    },
    {
      "cell_type": "code",
      "execution_count": null,
      "metadata": {
        "colab": {
          "base_uri": "https://localhost:8080/"
        },
        "id": "j_TLhbk2t82H",
        "outputId": "f6062322-6858-4fbb-eba8-724d75fe2cd2"
      },
      "outputs": [
        {
          "output_type": "execute_result",
          "data": {
            "text/plain": [
              "5420"
            ]
          },
          "metadata": {},
          "execution_count": 852
        }
      ],
      "source": [
        "#Проверим на всякий что все ревью у нас являются строками\n",
        "dsn[dsn.whole_reviews.apply(lambda x: isinstance(x, str))].shape[0]"
      ]
    },
    {
      "cell_type": "code",
      "execution_count": null,
      "metadata": {
        "colab": {
          "base_uri": "https://localhost:8080/"
        },
        "id": "m-e-P3IYuHjf",
        "outputId": "be047abd-ba77-4325-d1c5-b312d18fce21"
      },
      "outputs": [
        {
          "output_type": "stream",
          "name": "stdout",
          "text": [
            "<class 'pandas.core.series.Series'>\n",
            "RangeIndex: 5420 entries, 0 to 5419\n",
            "Series name: whole_reviews\n",
            "Non-Null Count  Dtype \n",
            "--------------  ----- \n",
            "5420 non-null   object\n",
            "dtypes: object(1)\n",
            "memory usage: 42.5+ KB\n"
          ]
        }
      ],
      "source": [
        "dsn.whole_reviews.info()"
      ]
    },
    {
      "cell_type": "code",
      "execution_count": null,
      "metadata": {
        "colab": {
          "base_uri": "https://localhost:8080/"
        },
        "id": "kOfsa8jXuNWQ",
        "outputId": "ba8b009e-176b-4b7f-ca02-166cd61a503c"
      },
      "outputs": [
        {
          "output_type": "execute_result",
          "data": {
            "text/plain": [
              "(                                       whole_reviews  reviews_count\n",
              " 0  - 86% of the 469,045 user reviews for this gam...         469045\n",
              " 1  - 97% of the 34,533 user reviews for this game...          34533\n",
              " 2  - 90% of the 381,880 user reviews for this gam...         381880\n",
              " 3  - 85% of the 1,226,760 user reviews for this g...        1226760\n",
              " 4  - 87% of the 70,919 user reviews for this game...          70919,\n",
              " dtype('int64'))"
            ]
          },
          "metadata": {},
          "execution_count": 854
        }
      ],
      "source": [
        "#Вычленим при помощи регулярных выражений наше число всех ревью для каждой игры,\n",
        "#И запишем их в новый столбец reviews_count\n",
        "dsn['reviews_count'] = [int(n[1]) for n in dsn.whole_reviews.apply(lambda x: re.findall(r'\\d+',x.replace(',', '')))]\n",
        "dsn[['whole_reviews', 'reviews_count']].head(), dsn.reviews_count.dtype"
      ]
    },
    {
      "cell_type": "code",
      "execution_count": null,
      "metadata": {
        "colab": {
          "base_uri": "https://localhost:8080/"
        },
        "id": "vG3lGb24nBFg",
        "outputId": "da3f016e-0397-4ff7-fff7-ff9b1dbb7b14"
      },
      "outputs": [
        {
          "output_type": "execute_result",
          "data": {
            "text/plain": [
              "count       5420.00\n",
              "mean       13010.78\n",
              "std       104237.52\n",
              "min           10.00\n",
              "25%          780.75\n",
              "50%         2228.00\n",
              "75%         6669.75\n",
              "max      6464937.00\n",
              "Name: reviews_count, dtype: float64"
            ]
          },
          "metadata": {},
          "execution_count": 855
        }
      ],
      "source": [
        "# опишем нашу новую метрику\n",
        "dsn.reviews_count.describe().round(2)"
      ]
    },
    {
      "cell_type": "code",
      "execution_count": null,
      "metadata": {
        "colab": {
          "base_uri": "https://localhost:8080/"
        },
        "id": "SyabvfKFJ9qr",
        "outputId": "ca8e4511-2356-4f7b-8b2d-07c98f8604ee"
      },
      "outputs": [
        {
          "output_type": "execute_result",
          "data": {
            "text/plain": [
              "      reviews_count                             dupl_check\n",
              "2794            203                StrategyWarWorld War II\n",
              "3577            203                StrategyWarWorld War II\n",
              "3669         112856  StrategyTurn-BasedTurn-Based Strategy\n",
              "5316         112856  StrategyTurn-BasedTurn-Based Strategy\n",
              "5283          74015           StrategyTower DefenseZombies\n",
              "...             ...                                    ...\n",
              "4008             54      2D PlatformerActionPixel Graphics\n",
              "3726            279                      2.5DFPSOld School\n",
              "4365            279                      2.5DFPSOld School\n",
              "3115           1132          1990'sAdventurePixel Graphics\n",
              "4151           1132          1990'sAdventurePixel Graphics\n",
              "\n",
              "[1139 rows x 2 columns]"
            ],
            "text/html": [
              "\n",
              "  <div id=\"df-d2f8d883-d877-4117-9640-f5724c4e21f9\">\n",
              "    <div class=\"colab-df-container\">\n",
              "      <div>\n",
              "<style scoped>\n",
              "    .dataframe tbody tr th:only-of-type {\n",
              "        vertical-align: middle;\n",
              "    }\n",
              "\n",
              "    .dataframe tbody tr th {\n",
              "        vertical-align: top;\n",
              "    }\n",
              "\n",
              "    .dataframe thead th {\n",
              "        text-align: right;\n",
              "    }\n",
              "</style>\n",
              "<table border=\"1\" class=\"dataframe\">\n",
              "  <thead>\n",
              "    <tr style=\"text-align: right;\">\n",
              "      <th></th>\n",
              "      <th>reviews_count</th>\n",
              "      <th>dupl_check</th>\n",
              "    </tr>\n",
              "  </thead>\n",
              "  <tbody>\n",
              "    <tr>\n",
              "      <th>2794</th>\n",
              "      <td>203</td>\n",
              "      <td>StrategyWarWorld War II</td>\n",
              "    </tr>\n",
              "    <tr>\n",
              "      <th>3577</th>\n",
              "      <td>203</td>\n",
              "      <td>StrategyWarWorld War II</td>\n",
              "    </tr>\n",
              "    <tr>\n",
              "      <th>3669</th>\n",
              "      <td>112856</td>\n",
              "      <td>StrategyTurn-BasedTurn-Based Strategy</td>\n",
              "    </tr>\n",
              "    <tr>\n",
              "      <th>5316</th>\n",
              "      <td>112856</td>\n",
              "      <td>StrategyTurn-BasedTurn-Based Strategy</td>\n",
              "    </tr>\n",
              "    <tr>\n",
              "      <th>5283</th>\n",
              "      <td>74015</td>\n",
              "      <td>StrategyTower DefenseZombies</td>\n",
              "    </tr>\n",
              "    <tr>\n",
              "      <th>...</th>\n",
              "      <td>...</td>\n",
              "      <td>...</td>\n",
              "    </tr>\n",
              "    <tr>\n",
              "      <th>4008</th>\n",
              "      <td>54</td>\n",
              "      <td>2D PlatformerActionPixel Graphics</td>\n",
              "    </tr>\n",
              "    <tr>\n",
              "      <th>3726</th>\n",
              "      <td>279</td>\n",
              "      <td>2.5DFPSOld School</td>\n",
              "    </tr>\n",
              "    <tr>\n",
              "      <th>4365</th>\n",
              "      <td>279</td>\n",
              "      <td>2.5DFPSOld School</td>\n",
              "    </tr>\n",
              "    <tr>\n",
              "      <th>3115</th>\n",
              "      <td>1132</td>\n",
              "      <td>1990'sAdventurePixel Graphics</td>\n",
              "    </tr>\n",
              "    <tr>\n",
              "      <th>4151</th>\n",
              "      <td>1132</td>\n",
              "      <td>1990'sAdventurePixel Graphics</td>\n",
              "    </tr>\n",
              "  </tbody>\n",
              "</table>\n",
              "<p>1139 rows × 2 columns</p>\n",
              "</div>\n",
              "      <button class=\"colab-df-convert\" onclick=\"convertToInteractive('df-d2f8d883-d877-4117-9640-f5724c4e21f9')\"\n",
              "              title=\"Convert this dataframe to an interactive table.\"\n",
              "              style=\"display:none;\">\n",
              "        \n",
              "  <svg xmlns=\"http://www.w3.org/2000/svg\" height=\"24px\"viewBox=\"0 0 24 24\"\n",
              "       width=\"24px\">\n",
              "    <path d=\"M0 0h24v24H0V0z\" fill=\"none\"/>\n",
              "    <path d=\"M18.56 5.44l.94 2.06.94-2.06 2.06-.94-2.06-.94-.94-2.06-.94 2.06-2.06.94zm-11 1L8.5 8.5l.94-2.06 2.06-.94-2.06-.94L8.5 2.5l-.94 2.06-2.06.94zm10 10l.94 2.06.94-2.06 2.06-.94-2.06-.94-.94-2.06-.94 2.06-2.06.94z\"/><path d=\"M17.41 7.96l-1.37-1.37c-.4-.4-.92-.59-1.43-.59-.52 0-1.04.2-1.43.59L10.3 9.45l-7.72 7.72c-.78.78-.78 2.05 0 2.83L4 21.41c.39.39.9.59 1.41.59.51 0 1.02-.2 1.41-.59l7.78-7.78 2.81-2.81c.8-.78.8-2.07 0-2.86zM5.41 20L4 18.59l7.72-7.72 1.47 1.35L5.41 20z\"/>\n",
              "  </svg>\n",
              "      </button>\n",
              "      \n",
              "  <style>\n",
              "    .colab-df-container {\n",
              "      display:flex;\n",
              "      flex-wrap:wrap;\n",
              "      gap: 12px;\n",
              "    }\n",
              "\n",
              "    .colab-df-convert {\n",
              "      background-color: #E8F0FE;\n",
              "      border: none;\n",
              "      border-radius: 50%;\n",
              "      cursor: pointer;\n",
              "      display: none;\n",
              "      fill: #1967D2;\n",
              "      height: 32px;\n",
              "      padding: 0 0 0 0;\n",
              "      width: 32px;\n",
              "    }\n",
              "\n",
              "    .colab-df-convert:hover {\n",
              "      background-color: #E2EBFA;\n",
              "      box-shadow: 0px 1px 2px rgba(60, 64, 67, 0.3), 0px 1px 3px 1px rgba(60, 64, 67, 0.15);\n",
              "      fill: #174EA6;\n",
              "    }\n",
              "\n",
              "    [theme=dark] .colab-df-convert {\n",
              "      background-color: #3B4455;\n",
              "      fill: #D2E3FC;\n",
              "    }\n",
              "\n",
              "    [theme=dark] .colab-df-convert:hover {\n",
              "      background-color: #434B5C;\n",
              "      box-shadow: 0px 1px 3px 1px rgba(0, 0, 0, 0.15);\n",
              "      filter: drop-shadow(0px 1px 2px rgba(0, 0, 0, 0.3));\n",
              "      fill: #FFFFFF;\n",
              "    }\n",
              "  </style>\n",
              "\n",
              "      <script>\n",
              "        const buttonEl =\n",
              "          document.querySelector('#df-d2f8d883-d877-4117-9640-f5724c4e21f9 button.colab-df-convert');\n",
              "        buttonEl.style.display =\n",
              "          google.colab.kernel.accessAllowed ? 'block' : 'none';\n",
              "\n",
              "        async function convertToInteractive(key) {\n",
              "          const element = document.querySelector('#df-d2f8d883-d877-4117-9640-f5724c4e21f9');\n",
              "          const dataTable =\n",
              "            await google.colab.kernel.invokeFunction('convertToInteractive',\n",
              "                                                     [key], {});\n",
              "          if (!dataTable) return;\n",
              "\n",
              "          const docLinkHtml = 'Like what you see? Visit the ' +\n",
              "            '<a target=\"_blank\" href=https://colab.research.google.com/notebooks/data_table.ipynb>data table notebook</a>'\n",
              "            + ' to learn more about interactive tables.';\n",
              "          element.innerHTML = '';\n",
              "          dataTable['output_type'] = 'display_data';\n",
              "          await google.colab.output.renderOutput(dataTable, element);\n",
              "          const docLink = document.createElement('div');\n",
              "          docLink.innerHTML = docLinkHtml;\n",
              "          element.appendChild(docLink);\n",
              "        }\n",
              "      </script>\n",
              "    </div>\n",
              "  </div>\n",
              "  "
            ]
          },
          "metadata": {},
          "execution_count": 856
        }
      ],
      "source": [
        "# Для нас бесполезны игры, у которых полностью совпадают как первые 3 тага так и количество ревью\n",
        "# так как мы будем подавать в модель исключительно набор тагов и кол-во ревью, для нас это дупликаты\n",
        "# удалим такие игры\n",
        "dupl_ds = dsn.copy()\n",
        "#Проверим как они выглядят\n",
        "dupl_ds['dupl_check'] =  dupl_ds.tags_list.apply(lambda x: ''.join(sorted(x[:3])))\n",
        "dupl_ds[dupl_ds.duplicated(subset=['dupl_check','reviews_count'],keep=False)][['reviews_count', 'dupl_check']].sort_values(by='dupl_check' ,ascending=False)"
      ]
    },
    {
      "cell_type": "code",
      "execution_count": null,
      "metadata": {
        "id": "oheA59_mMTIr"
      },
      "outputs": [],
      "source": [
        "#Удаляем дупликаты\n",
        "drop_rows(dsn, dupl_ds[dupl_ds.duplicated(subset=['dupl_check','reviews_count'])].sort_values(by='dupl_check'))"
      ]
    },
    {
      "cell_type": "code",
      "execution_count": null,
      "metadata": {
        "colab": {
          "base_uri": "https://localhost:8080/"
        },
        "id": "2pcKoLebu0O8",
        "outputId": "4a7db308-8395-4647-c9a7-728d684e743e"
      },
      "outputs": [
        {
          "output_type": "stream",
          "name": "stdout",
          "text": [
            "<class 'pandas.core.frame.DataFrame'>\n",
            "RangeIndex: 4754 entries, 0 to 4753\n",
            "Data columns (total 25 columns):\n",
            " #   Column            Non-Null Count  Dtype  \n",
            "---  ------            --------------  -----  \n",
            " 0   title             4754 non-null   object \n",
            " 1   url               4754 non-null   object \n",
            " 2   image             4754 non-null   object \n",
            " 3   release_date      4741 non-null   object \n",
            " 4   platforms         4754 non-null   object \n",
            " 5   discount_rate     222 non-null    object \n",
            " 6   original_price    4701 non-null   object \n",
            " 7   discounted_price  222 non-null    object \n",
            " 8   developer         4751 non-null   object \n",
            " 9   publisher         4720 non-null   object \n",
            " 10  overall_reviews   4754 non-null   object \n",
            " 11  recent_reviews    4754 non-null   object \n",
            " 12  whole_reviews     4754 non-null   object \n",
            " 13  description       4590 non-null   object \n",
            " 14  tags              4754 non-null   object \n",
            " 15  genre             4747 non-null   object \n",
            " 16  processor         4558 non-null   object \n",
            " 17  ram               4593 non-null   object \n",
            " 18  graphic_card      4326 non-null   object \n",
            " 19  rating            1458 non-null   object \n",
            " 20  language          4754 non-null   object \n",
            " 21  metacriticts      1038 non-null   float64\n",
            " 22  tags_list         4754 non-null   object \n",
            " 23  tags_count        4754 non-null   int64  \n",
            " 24  reviews_count     4754 non-null   int64  \n",
            "dtypes: float64(1), int64(2), object(22)\n",
            "memory usage: 928.6+ KB\n"
          ]
        }
      ],
      "source": [
        "dsn.info()"
      ]
    },
    {
      "cell_type": "code",
      "execution_count": null,
      "metadata": {
        "colab": {
          "base_uri": "https://localhost:8080/"
        },
        "id": "EXNrs5uVNN12",
        "outputId": "941c4db3-738b-4ca4-831c-fd41dc397fa2"
      },
      "outputs": [
        {
          "output_type": "execute_result",
          "data": {
            "text/plain": [
              "Empty DataFrame\n",
              "Columns: [title, url, image, release_date, platforms, discount_rate, original_price, discounted_price, developer, publisher, overall_reviews, recent_reviews, whole_reviews, description, tags, genre, processor, ram, graphic_card, rating, language, metacriticts, tags_list, tags_count, reviews_count, dupl_check]\n",
              "Index: []\n",
              "\n",
              "[0 rows x 26 columns]"
            ],
            "text/html": [
              "\n",
              "  <div id=\"df-5aa99acc-6f21-4d3c-8590-261a67ea3ecf\">\n",
              "    <div class=\"colab-df-container\">\n",
              "      <div>\n",
              "<style scoped>\n",
              "    .dataframe tbody tr th:only-of-type {\n",
              "        vertical-align: middle;\n",
              "    }\n",
              "\n",
              "    .dataframe tbody tr th {\n",
              "        vertical-align: top;\n",
              "    }\n",
              "\n",
              "    .dataframe thead th {\n",
              "        text-align: right;\n",
              "    }\n",
              "</style>\n",
              "<table border=\"1\" class=\"dataframe\">\n",
              "  <thead>\n",
              "    <tr style=\"text-align: right;\">\n",
              "      <th></th>\n",
              "      <th>title</th>\n",
              "      <th>url</th>\n",
              "      <th>image</th>\n",
              "      <th>release_date</th>\n",
              "      <th>platforms</th>\n",
              "      <th>discount_rate</th>\n",
              "      <th>original_price</th>\n",
              "      <th>discounted_price</th>\n",
              "      <th>developer</th>\n",
              "      <th>publisher</th>\n",
              "      <th>...</th>\n",
              "      <th>processor</th>\n",
              "      <th>ram</th>\n",
              "      <th>graphic_card</th>\n",
              "      <th>rating</th>\n",
              "      <th>language</th>\n",
              "      <th>metacriticts</th>\n",
              "      <th>tags_list</th>\n",
              "      <th>tags_count</th>\n",
              "      <th>reviews_count</th>\n",
              "      <th>dupl_check</th>\n",
              "    </tr>\n",
              "  </thead>\n",
              "  <tbody>\n",
              "  </tbody>\n",
              "</table>\n",
              "<p>0 rows × 26 columns</p>\n",
              "</div>\n",
              "      <button class=\"colab-df-convert\" onclick=\"convertToInteractive('df-5aa99acc-6f21-4d3c-8590-261a67ea3ecf')\"\n",
              "              title=\"Convert this dataframe to an interactive table.\"\n",
              "              style=\"display:none;\">\n",
              "        \n",
              "  <svg xmlns=\"http://www.w3.org/2000/svg\" height=\"24px\"viewBox=\"0 0 24 24\"\n",
              "       width=\"24px\">\n",
              "    <path d=\"M0 0h24v24H0V0z\" fill=\"none\"/>\n",
              "    <path d=\"M18.56 5.44l.94 2.06.94-2.06 2.06-.94-2.06-.94-.94-2.06-.94 2.06-2.06.94zm-11 1L8.5 8.5l.94-2.06 2.06-.94-2.06-.94L8.5 2.5l-.94 2.06-2.06.94zm10 10l.94 2.06.94-2.06 2.06-.94-2.06-.94-.94-2.06-.94 2.06-2.06.94z\"/><path d=\"M17.41 7.96l-1.37-1.37c-.4-.4-.92-.59-1.43-.59-.52 0-1.04.2-1.43.59L10.3 9.45l-7.72 7.72c-.78.78-.78 2.05 0 2.83L4 21.41c.39.39.9.59 1.41.59.51 0 1.02-.2 1.41-.59l7.78-7.78 2.81-2.81c.8-.78.8-2.07 0-2.86zM5.41 20L4 18.59l7.72-7.72 1.47 1.35L5.41 20z\"/>\n",
              "  </svg>\n",
              "      </button>\n",
              "      \n",
              "  <style>\n",
              "    .colab-df-container {\n",
              "      display:flex;\n",
              "      flex-wrap:wrap;\n",
              "      gap: 12px;\n",
              "    }\n",
              "\n",
              "    .colab-df-convert {\n",
              "      background-color: #E8F0FE;\n",
              "      border: none;\n",
              "      border-radius: 50%;\n",
              "      cursor: pointer;\n",
              "      display: none;\n",
              "      fill: #1967D2;\n",
              "      height: 32px;\n",
              "      padding: 0 0 0 0;\n",
              "      width: 32px;\n",
              "    }\n",
              "\n",
              "    .colab-df-convert:hover {\n",
              "      background-color: #E2EBFA;\n",
              "      box-shadow: 0px 1px 2px rgba(60, 64, 67, 0.3), 0px 1px 3px 1px rgba(60, 64, 67, 0.15);\n",
              "      fill: #174EA6;\n",
              "    }\n",
              "\n",
              "    [theme=dark] .colab-df-convert {\n",
              "      background-color: #3B4455;\n",
              "      fill: #D2E3FC;\n",
              "    }\n",
              "\n",
              "    [theme=dark] .colab-df-convert:hover {\n",
              "      background-color: #434B5C;\n",
              "      box-shadow: 0px 1px 3px 1px rgba(0, 0, 0, 0.15);\n",
              "      filter: drop-shadow(0px 1px 2px rgba(0, 0, 0, 0.3));\n",
              "      fill: #FFFFFF;\n",
              "    }\n",
              "  </style>\n",
              "\n",
              "      <script>\n",
              "        const buttonEl =\n",
              "          document.querySelector('#df-5aa99acc-6f21-4d3c-8590-261a67ea3ecf button.colab-df-convert');\n",
              "        buttonEl.style.display =\n",
              "          google.colab.kernel.accessAllowed ? 'block' : 'none';\n",
              "\n",
              "        async function convertToInteractive(key) {\n",
              "          const element = document.querySelector('#df-5aa99acc-6f21-4d3c-8590-261a67ea3ecf');\n",
              "          const dataTable =\n",
              "            await google.colab.kernel.invokeFunction('convertToInteractive',\n",
              "                                                     [key], {});\n",
              "          if (!dataTable) return;\n",
              "\n",
              "          const docLinkHtml = 'Like what you see? Visit the ' +\n",
              "            '<a target=\"_blank\" href=https://colab.research.google.com/notebooks/data_table.ipynb>data table notebook</a>'\n",
              "            + ' to learn more about interactive tables.';\n",
              "          element.innerHTML = '';\n",
              "          dataTable['output_type'] = 'display_data';\n",
              "          await google.colab.output.renderOutput(dataTable, element);\n",
              "          const docLink = document.createElement('div');\n",
              "          docLink.innerHTML = docLinkHtml;\n",
              "          element.appendChild(docLink);\n",
              "        }\n",
              "      </script>\n",
              "    </div>\n",
              "  </div>\n",
              "  "
            ]
          },
          "metadata": {},
          "execution_count": 859
        }
      ],
      "source": [
        "#Проверим на дупликаты еще раз\n",
        "dupl_ds = dsn.copy()\n",
        "dupl_ds['dupl_check'] =  dupl_ds.tags_list.apply(lambda x: ''.join(sorted(x[:3])))\n",
        "dupl_ds[dupl_ds.duplicated(subset=['dupl_check','reviews_count'],keep=False)].sort_values(by='dupl_check' ,ascending=False)"
      ]
    },
    {
      "cell_type": "code",
      "execution_count": null,
      "metadata": {
        "colab": {
          "base_uri": "https://localhost:8080/"
        },
        "id": "RD_Wgi5IvBRd",
        "outputId": "3173381b-1a4d-4cfd-8d67-d0162c816720"
      },
      "outputs": [
        {
          "output_type": "execute_result",
          "data": {
            "text/plain": [
              "0     4 Nov, 2020\n",
              "1    14 Jan, 2022\n",
              "2    24 Feb, 2022\n",
              "3    13 Apr, 2015\n",
              "4     8 Nov, 2021\n",
              "Name: release_date, dtype: object"
            ]
          },
          "metadata": {},
          "execution_count": 860
        }
      ],
      "source": [
        "#Для оценки успешности игры, будем использовать метрику ((общее количество ревью)/(количество дней с момента выхода игры))*30\n",
        "#Что даст нам количество оставленных ревью в месяц\n",
        "#Сначала взглянем, что там у нас в дате\n",
        "dsn.release_date[:5]"
      ]
    },
    {
      "cell_type": "code",
      "execution_count": null,
      "metadata": {
        "colab": {
          "base_uri": "https://localhost:8080/"
        },
        "id": "Hm0LvhtVy86r",
        "outputId": "404bec87-2b63-406f-a22f-93a980beb6fc"
      },
      "outputs": [
        {
          "output_type": "execute_result",
          "data": {
            "text/plain": [
              "13"
            ]
          },
          "metadata": {},
          "execution_count": 861
        }
      ],
      "source": [
        "#Как видим опять строки, опять прийдется парсить\n",
        "#Но сначала проверим на Null\n",
        "dsn[dsn.release_date.isna()].shape[0]"
      ]
    },
    {
      "cell_type": "code",
      "execution_count": null,
      "metadata": {
        "colab": {
          "base_uri": "https://localhost:8080/"
        },
        "id": "2JBMZLQFzELj",
        "outputId": "728061da-138c-495d-9bce-62c4ff599a2e"
      },
      "outputs": [
        {
          "output_type": "execute_result",
          "data": {
            "text/plain": [
              "0"
            ]
          },
          "metadata": {},
          "execution_count": 862
        }
      ],
      "source": [
        "#Не так уж и много, удалим\n",
        "dsn.dropna(subset=[\"release_date\"],inplace=True)\n",
        "dsn.reset_index(drop=True, inplace=True)\n",
        "\n",
        "dsn[dsn.release_date.isna()].shape[0]"
      ]
    },
    {
      "cell_type": "code",
      "execution_count": null,
      "metadata": {
        "colab": {
          "base_uri": "https://localhost:8080/"
        },
        "id": "7uySg-XVzWI8",
        "outputId": "83c24be9-b941-4213-a5f7-27bf0b62f124"
      },
      "outputs": [
        {
          "output_type": "execute_result",
          "data": {
            "text/plain": [
              "<Axes: ylabel='Count'>"
            ]
          },
          "metadata": {},
          "execution_count": 863
        },
        {
          "output_type": "display_data",
          "data": {
            "text/plain": [
              "<Figure size 504x288 with 1 Axes>"
            ],
            "image/png": "[encoded data removed]"
          },
          "metadata": {}
        }
      ],
      "source": [
        "#Преобразуем нашу дату релиза в новые столбцы, год, день, месяц и количество дней с момента релиза\n",
        "#Перед обработкой строк с данными, посмотрим вс ели они одинаковы по длине\n",
        "rel_date_len = pd.DataFrame([len(n) for n in dsn.release_date])\n",
        "sns.set(rc={'figure.figsize':(7,4)})\n",
        "sns.histplot(rel_date_len, alpha=1)"
      ]
    },
    {
      "cell_type": "code",
      "execution_count": null,
      "metadata": {
        "colab": {
          "base_uri": "https://localhost:8080/"
        },
        "id": "LgWJ7b880ZLW",
        "outputId": "66e3228c-aafe-4d70-8c8f-d1e0b7095bc3"
      },
      "outputs": [
        {
          "output_type": "execute_result",
          "data": {
            "text/plain": [
              "380     Nov 2020\n",
              "410     Aug 2018\n",
              "618     Nov 2014\n",
              "686     Dec 2016\n",
              "2028    Aug 2015\n",
              "2117    Feb 2021\n",
              "2760    Jul 2014\n",
              "2920    Mar 2020\n",
              "3335    Aug 2013\n",
              "3350    Dec 2019\n",
              "3353    Jan 2016\n",
              "3650    Aug 2017\n",
              "3726    Jan 2019\n",
              "4377    Jan 2021\n",
              "Name: release_date, dtype: object"
            ]
          },
          "metadata": {},
          "execution_count": 864
        }
      ],
      "source": [
        "#Проверим есть ли строки с датами меньше 11\n",
        "short_dates = dsn.release_date[dsn.release_date.str.len() < 11]\n",
        "short_dates"
      ]
    },
    {
      "cell_type": "code",
      "execution_count": null,
      "metadata": {
        "colab": {
          "base_uri": "https://localhost:8080/"
        },
        "id": "lDnuQvnR1-ZE",
        "outputId": "e013f6d2-398a-452d-c680-f603886d2f2f"
      },
      "outputs": [
        {
          "output_type": "execute_result",
          "data": {
            "text/plain": [
              "(380     1 Nov 2020\n",
              " 410     1 Aug 2018\n",
              " 618     1 Nov 2014\n",
              " 686     1 Dec 2016\n",
              " 2028    1 Aug 2015\n",
              " 2117    1 Feb 2021\n",
              " 2760    1 Jul 2014\n",
              " 2920    1 Mar 2020\n",
              " 3335    1 Aug 2013\n",
              " 3350    1 Dec 2019\n",
              " 3353    1 Jan 2016\n",
              " 3650    1 Aug 2017\n",
              " 3726    1 Jan 2019\n",
              " 4377    1 Jan 2021\n",
              " Name: release_date, dtype: object, 380     10\n",
              " 410     10\n",
              " 618     10\n",
              " 686     10\n",
              " 2028    10\n",
              " 2117    10\n",
              " 2760    10\n",
              " 2920    10\n",
              " 3335    10\n",
              " 3350    10\n",
              " 3353    10\n",
              " 3650    10\n",
              " 3726    10\n",
              " 4377    10\n",
              " Name: release_date, dtype: int64)"
            ]
          },
          "metadata": {},
          "execution_count": 865
        }
      ],
      "source": [
        "#Действительно есть, получается мы не знаем точный день выхода этих игр\n",
        "#Мы просто установим его как 1 тогда\n",
        "short_date_indxs = short_dates.index\n",
        "short_date_indxs\n",
        "\n",
        "for indx in short_date_indxs:\n",
        "  dsn.release_date.at[indx] = \"1 \" + dsn.release_date.iloc[indx]\n",
        "\n",
        "dsn.release_date.iloc[short_date_indxs], dsn.release_date.iloc[short_date_indxs].str.len()"
      ]
    },
    {
      "cell_type": "code",
      "execution_count": null,
      "metadata": {
        "colab": {
          "base_uri": "https://localhost:8080/"
        },
        "id": "4dK1y3vs3A1M",
        "outputId": "656c31df-17fc-4a38-a8c2-7ee4992ec0a6"
      },
      "outputs": [
        {
          "output_type": "execute_result",
          "data": {
            "text/plain": [
              "[['4', 'Nov', '2020'],\n",
              " ['14', 'Jan', '2022'],\n",
              " ['24', 'Feb', '2022'],\n",
              " ['13', 'Apr', '2015'],\n",
              " ['8', 'Nov', '2021']]"
            ]
          },
          "metadata": {},
          "execution_count": 866
        }
      ],
      "source": [
        "#Длина эих новых строк 10 так как нет запятой после месяца, но это не страшно, к обработке они пригодны\n",
        "#Разобьем даты на составляющие, и преобразуем каждую в массив строк\n",
        "release_date_list = []\n",
        "\n",
        "for i in range(0, dsn.shape[0]):  \n",
        "  release_date_list.append(dsn.release_date.iloc[i].replace(',', '').split(' '))\n",
        "\n",
        "release_date_list[:5]"
      ]
    },
    {
      "cell_type": "code",
      "execution_count": null,
      "metadata": {
        "colab": {
          "base_uri": "https://localhost:8080/"
        },
        "id": "p-ikL05w3VIU",
        "outputId": "74679a15-99e0-4a1e-b2ef-2d7799e20457"
      },
      "outputs": [
        {
          "output_type": "execute_result",
          "data": {
            "text/plain": [
              "[[4, 11, 2020], [14, 1, 2022], [24, 2, 2022], [13, 4, 2015], [8, 11, 2021]]"
            ]
          },
          "metadata": {},
          "execution_count": 867
        }
      ],
      "source": [
        "#Теперь преобразуем это все в числа, для этого нам понадобится маппинг от слов с месяцами к числам\n",
        "#Заодно преобразуем все в int\n",
        "def get_month_int(date):\n",
        "  if date == 'Sep':\n",
        "    return 9\n",
        "  if date == 'Oct':\n",
        "    return 10\n",
        "  if date == 'Nov':\n",
        "    return 11\n",
        "  if date == 'Dec':\n",
        "    return 12\n",
        "  if date == 'Jan':\n",
        "    return 1\n",
        "  if date == 'Feb':\n",
        "    return 2\n",
        "  if date == 'Mar':\n",
        "    return 3\n",
        "  if date == 'Apr':\n",
        "    return 4\n",
        "  if date == 'May':\n",
        "    return 5\n",
        "  if date == 'Jun':\n",
        "    return 6\n",
        "  if date == 'Jul':\n",
        "    return 7\n",
        "  if date == 'Aug':\n",
        "    return 8\n",
        "\n",
        "for i in range(0, len(release_date_list)):\n",
        "  release_date_list[i][0] = int(release_date_list[i][0])\n",
        "  release_date_list[i][1] = get_month_int(release_date_list[i][1])\n",
        "  release_date_list[i][2] = int(release_date_list[i][2])\n",
        "\n",
        "release_date_list[:5]"
      ]
    },
    {
      "cell_type": "code",
      "execution_count": null,
      "metadata": {
        "colab": {
          "base_uri": "https://localhost:8080/"
        },
        "id": "X8TrwU0s66-O",
        "outputId": "ad6cd472-03d7-490b-bbea-52339afd3524"
      },
      "outputs": [
        {
          "output_type": "execute_result",
          "data": {
            "text/plain": [
              "      release_date  release_day  release_month  release_year\n",
              "0      4 Nov, 2020            4             11          2020\n",
              "1     14 Jan, 2022           14              1          2022\n",
              "2     24 Feb, 2022           24              2          2022\n",
              "3     13 Apr, 2015           13              4          2015\n",
              "4      8 Nov, 2021            8             11          2021\n",
              "...            ...          ...            ...           ...\n",
              "4736  22 May, 2017           22              5          2017\n",
              "4737  13 May, 2020           13              5          2020\n",
              "4738  25 Mar, 2013           25              3          2013\n",
              "4739  17 May, 2022           17              5          2022\n",
              "4740  21 Aug, 2012           21              8          2012\n",
              "\n",
              "[4741 rows x 4 columns]"
            ],
            "text/html": [
              "\n",
              "  <div id=\"df-0f23b2ed-cc75-4c75-be2a-08b1f10a216a\">\n",
              "    <div class=\"colab-df-container\">\n",
              "      <div>\n",
              "<style scoped>\n",
              "    .dataframe tbody tr th:only-of-type {\n",
              "        vertical-align: middle;\n",
              "    }\n",
              "\n",
              "    .dataframe tbody tr th {\n",
              "        vertical-align: top;\n",
              "    }\n",
              "\n",
              "    .dataframe thead th {\n",
              "        text-align: right;\n",
              "    }\n",
              "</style>\n",
              "<table border=\"1\" class=\"dataframe\">\n",
              "  <thead>\n",
              "    <tr style=\"text-align: right;\">\n",
              "      <th></th>\n",
              "      <th>release_date</th>\n",
              "      <th>release_day</th>\n",
              "      <th>release_month</th>\n",
              "      <th>release_year</th>\n",
              "    </tr>\n",
              "  </thead>\n",
              "  <tbody>\n",
              "    <tr>\n",
              "      <th>0</th>\n",
              "      <td>4 Nov, 2020</td>\n",
              "      <td>4</td>\n",
              "      <td>11</td>\n",
              "      <td>2020</td>\n",
              "    </tr>\n",
              "    <tr>\n",
              "      <th>1</th>\n",
              "      <td>14 Jan, 2022</td>\n",
              "      <td>14</td>\n",
              "      <td>1</td>\n",
              "      <td>2022</td>\n",
              "    </tr>\n",
              "    <tr>\n",
              "      <th>2</th>\n",
              "      <td>24 Feb, 2022</td>\n",
              "      <td>24</td>\n",
              "      <td>2</td>\n",
              "      <td>2022</td>\n",
              "    </tr>\n",
              "    <tr>\n",
              "      <th>3</th>\n",
              "      <td>13 Apr, 2015</td>\n",
              "      <td>13</td>\n",
              "      <td>4</td>\n",
              "      <td>2015</td>\n",
              "    </tr>\n",
              "    <tr>\n",
              "      <th>4</th>\n",
              "      <td>8 Nov, 2021</td>\n",
              "      <td>8</td>\n",
              "      <td>11</td>\n",
              "      <td>2021</td>\n",
              "    </tr>\n",
              "    <tr>\n",
              "      <th>...</th>\n",
              "      <td>...</td>\n",
              "      <td>...</td>\n",
              "      <td>...</td>\n",
              "      <td>...</td>\n",
              "    </tr>\n",
              "    <tr>\n",
              "      <th>4736</th>\n",
              "      <td>22 May, 2017</td>\n",
              "      <td>22</td>\n",
              "      <td>5</td>\n",
              "      <td>2017</td>\n",
              "    </tr>\n",
              "    <tr>\n",
              "      <th>4737</th>\n",
              "      <td>13 May, 2020</td>\n",
              "      <td>13</td>\n",
              "      <td>5</td>\n",
              "      <td>2020</td>\n",
              "    </tr>\n",
              "    <tr>\n",
              "      <th>4738</th>\n",
              "      <td>25 Mar, 2013</td>\n",
              "      <td>25</td>\n",
              "      <td>3</td>\n",
              "      <td>2013</td>\n",
              "    </tr>\n",
              "    <tr>\n",
              "      <th>4739</th>\n",
              "      <td>17 May, 2022</td>\n",
              "      <td>17</td>\n",
              "      <td>5</td>\n",
              "      <td>2022</td>\n",
              "    </tr>\n",
              "    <tr>\n",
              "      <th>4740</th>\n",
              "      <td>21 Aug, 2012</td>\n",
              "      <td>21</td>\n",
              "      <td>8</td>\n",
              "      <td>2012</td>\n",
              "    </tr>\n",
              "  </tbody>\n",
              "</table>\n",
              "<p>4741 rows × 4 columns</p>\n",
              "</div>\n",
              "      <button class=\"colab-df-convert\" onclick=\"convertToInteractive('df-0f23b2ed-cc75-4c75-be2a-08b1f10a216a')\"\n",
              "              title=\"Convert this dataframe to an interactive table.\"\n",
              "              style=\"display:none;\">\n",
              "        \n",
              "  <svg xmlns=\"http://www.w3.org/2000/svg\" height=\"24px\"viewBox=\"0 0 24 24\"\n",
              "       width=\"24px\">\n",
              "    <path d=\"M0 0h24v24H0V0z\" fill=\"none\"/>\n",
              "    <path d=\"M18.56 5.44l.94 2.06.94-2.06 2.06-.94-2.06-.94-.94-2.06-.94 2.06-2.06.94zm-11 1L8.5 8.5l.94-2.06 2.06-.94-2.06-.94L8.5 2.5l-.94 2.06-2.06.94zm10 10l.94 2.06.94-2.06 2.06-.94-2.06-.94-.94-2.06-.94 2.06-2.06.94z\"/><path d=\"M17.41 7.96l-1.37-1.37c-.4-.4-.92-.59-1.43-.59-.52 0-1.04.2-1.43.59L10.3 9.45l-7.72 7.72c-.78.78-.78 2.05 0 2.83L4 21.41c.39.39.9.59 1.41.59.51 0 1.02-.2 1.41-.59l7.78-7.78 2.81-2.81c.8-.78.8-2.07 0-2.86zM5.41 20L4 18.59l7.72-7.72 1.47 1.35L5.41 20z\"/>\n",
              "  </svg>\n",
              "      </button>\n",
              "      \n",
              "  <style>\n",
              "    .colab-df-container {\n",
              "      display:flex;\n",
              "      flex-wrap:wrap;\n",
              "      gap: 12px;\n",
              "    }\n",
              "\n",
              "    .colab-df-convert {\n",
              "      background-color: #E8F0FE;\n",
              "      border: none;\n",
              "      border-radius: 50%;\n",
              "      cursor: pointer;\n",
              "      display: none;\n",
              "      fill: #1967D2;\n",
              "      height: 32px;\n",
              "      padding: 0 0 0 0;\n",
              "      width: 32px;\n",
              "    }\n",
              "\n",
              "    .colab-df-convert:hover {\n",
              "      background-color: #E2EBFA;\n",
              "      box-shadow: 0px 1px 2px rgba(60, 64, 67, 0.3), 0px 1px 3px 1px rgba(60, 64, 67, 0.15);\n",
              "      fill: #174EA6;\n",
              "    }\n",
              "\n",
              "    [theme=dark] .colab-df-convert {\n",
              "      background-color: #3B4455;\n",
              "      fill: #D2E3FC;\n",
              "    }\n",
              "\n",
              "    [theme=dark] .colab-df-convert:hover {\n",
              "      background-color: #434B5C;\n",
              "      box-shadow: 0px 1px 3px 1px rgba(0, 0, 0, 0.15);\n",
              "      filter: drop-shadow(0px 1px 2px rgba(0, 0, 0, 0.3));\n",
              "      fill: #FFFFFF;\n",
              "    }\n",
              "  </style>\n",
              "\n",
              "      <script>\n",
              "        const buttonEl =\n",
              "          document.querySelector('#df-0f23b2ed-cc75-4c75-be2a-08b1f10a216a button.colab-df-convert');\n",
              "        buttonEl.style.display =\n",
              "          google.colab.kernel.accessAllowed ? 'block' : 'none';\n",
              "\n",
              "        async function convertToInteractive(key) {\n",
              "          const element = document.querySelector('#df-0f23b2ed-cc75-4c75-be2a-08b1f10a216a');\n",
              "          const dataTable =\n",
              "            await google.colab.kernel.invokeFunction('convertToInteractive',\n",
              "                                                     [key], {});\n",
              "          if (!dataTable) return;\n",
              "\n",
              "          const docLinkHtml = 'Like what you see? Visit the ' +\n",
              "            '<a target=\"_blank\" href=https://colab.research.google.com/notebooks/data_table.ipynb>data table notebook</a>'\n",
              "            + ' to learn more about interactive tables.';\n",
              "          element.innerHTML = '';\n",
              "          dataTable['output_type'] = 'display_data';\n",
              "          await google.colab.output.renderOutput(dataTable, element);\n",
              "          const docLink = document.createElement('div');\n",
              "          docLink.innerHTML = docLinkHtml;\n",
              "          element.appendChild(docLink);\n",
              "        }\n",
              "      </script>\n",
              "    </div>\n",
              "  </div>\n",
              "  "
            ]
          },
          "metadata": {},
          "execution_count": 868
        }
      ],
      "source": [
        "#Теперь для дня месяца и года создадим отдельный численный столбец в датасете\n",
        "zeros = np.zeros(shape=(dsn.release_date.shape[0], 1),dtype=int)\n",
        "dsn['release_day'] = zeros\n",
        "dsn['release_month'] = zeros\n",
        "dsn['release_year'] = zeros\n",
        "\n",
        "for i in range(0, dsn.shape[0]):\n",
        "  dsn['release_day'].at[i] = release_date_list[i][0]\n",
        "  dsn['release_month'].at[i] = release_date_list[i][1]\n",
        "  dsn['release_year'].at[i] = release_date_list[i][2]\n",
        "\n",
        "rel = dsn[['release_date','release_day', 'release_month','release_year']]\n",
        "rel"
      ]
    },
    {
      "cell_type": "code",
      "execution_count": null,
      "metadata": {
        "colab": {
          "base_uri": "https://localhost:8080/"
        },
        "id": "SBVRfdE7-bTE",
        "outputId": "416bc7fe-e8e8-4574-af00-fd1b1a0ca144"
      },
      "outputs": [
        {
          "output_type": "stream",
          "name": "stdout",
          "text": [
            "<class 'pandas.core.frame.DataFrame'>\n",
            "RangeIndex: 4741 entries, 0 to 4740\n",
            "Data columns (total 28 columns):\n",
            " #   Column            Non-Null Count  Dtype  \n",
            "---  ------            --------------  -----  \n",
            " 0   title             4741 non-null   object \n",
            " 1   url               4741 non-null   object \n",
            " 2   image             4741 non-null   object \n",
            " 3   release_date      4741 non-null   object \n",
            " 4   platforms         4741 non-null   object \n",
            " 5   discount_rate     222 non-null    object \n",
            " 6   original_price    4692 non-null   object \n",
            " 7   discounted_price  222 non-null    object \n",
            " 8   developer         4738 non-null   object \n",
            " 9   publisher         4707 non-null   object \n",
            " 10  overall_reviews   4741 non-null   object \n",
            " 11  recent_reviews    4741 non-null   object \n",
            " 12  whole_reviews     4741 non-null   object \n",
            " 13  description       4577 non-null   object \n",
            " 14  tags              4741 non-null   object \n",
            " 15  genre             4734 non-null   object \n",
            " 16  processor         4546 non-null   object \n",
            " 17  ram               4581 non-null   object \n",
            " 18  graphic_card      4317 non-null   object \n",
            " 19  rating            1448 non-null   object \n",
            " 20  language          4741 non-null   object \n",
            " 21  metacriticts      1033 non-null   float64\n",
            " 22  tags_list         4741 non-null   object \n",
            " 23  tags_count        4741 non-null   int64  \n",
            " 24  reviews_count     4741 non-null   int64  \n",
            " 25  release_day       4741 non-null   int64  \n",
            " 26  release_month     4741 non-null   int64  \n",
            " 27  release_year      4741 non-null   int64  \n",
            "dtypes: float64(1), int64(5), object(22)\n",
            "memory usage: 1.0+ MB\n"
          ]
        }
      ],
      "source": [
        "dsn.info()"
      ]
    },
    {
      "cell_type": "code",
      "execution_count": null,
      "metadata": {
        "colab": {
          "base_uri": "https://localhost:8080/"
        },
        "id": "7J3KIksy-lSR",
        "outputId": "2ac3c2ca-526d-4bfd-d00e-70d228b22533"
      },
      "outputs": [
        {
          "output_type": "execute_result",
          "data": {
            "text/plain": [
              "      release_day  release_month  release_year\n",
              "221            21              6          2022\n",
              "9              20              6          2022\n",
              "4541           19              6          2022\n",
              "1293           17              6          2022\n",
              "3191           17              6          2022\n",
              "...           ...            ...           ...\n",
              "910             8              1          2021\n",
              "3800            7              1          2021\n",
              "1319            5              1          2021\n",
              "3629            5              1          2021\n",
              "4377            1              1          2021\n",
              "\n",
              "[955 rows x 3 columns]"
            ],
            "text/html": [
              "\n",
              "  <div id=\"df-62334506-3b18-4299-a234-5acaa0cbcd8e\">\n",
              "    <div class=\"colab-df-container\">\n",
              "      <div>\n",
              "<style scoped>\n",
              "    .dataframe tbody tr th:only-of-type {\n",
              "        vertical-align: middle;\n",
              "    }\n",
              "\n",
              "    .dataframe tbody tr th {\n",
              "        vertical-align: top;\n",
              "    }\n",
              "\n",
              "    .dataframe thead th {\n",
              "        text-align: right;\n",
              "    }\n",
              "</style>\n",
              "<table border=\"1\" class=\"dataframe\">\n",
              "  <thead>\n",
              "    <tr style=\"text-align: right;\">\n",
              "      <th></th>\n",
              "      <th>release_day</th>\n",
              "      <th>release_month</th>\n",
              "      <th>release_year</th>\n",
              "    </tr>\n",
              "  </thead>\n",
              "  <tbody>\n",
              "    <tr>\n",
              "      <th>221</th>\n",
              "      <td>21</td>\n",
              "      <td>6</td>\n",
              "      <td>2022</td>\n",
              "    </tr>\n",
              "    <tr>\n",
              "      <th>9</th>\n",
              "      <td>20</td>\n",
              "      <td>6</td>\n",
              "      <td>2022</td>\n",
              "    </tr>\n",
              "    <tr>\n",
              "      <th>4541</th>\n",
              "      <td>19</td>\n",
              "      <td>6</td>\n",
              "      <td>2022</td>\n",
              "    </tr>\n",
              "    <tr>\n",
              "      <th>1293</th>\n",
              "      <td>17</td>\n",
              "      <td>6</td>\n",
              "      <td>2022</td>\n",
              "    </tr>\n",
              "    <tr>\n",
              "      <th>3191</th>\n",
              "      <td>17</td>\n",
              "      <td>6</td>\n",
              "      <td>2022</td>\n",
              "    </tr>\n",
              "    <tr>\n",
              "      <th>...</th>\n",
              "      <td>...</td>\n",
              "      <td>...</td>\n",
              "      <td>...</td>\n",
              "    </tr>\n",
              "    <tr>\n",
              "      <th>910</th>\n",
              "      <td>8</td>\n",
              "      <td>1</td>\n",
              "      <td>2021</td>\n",
              "    </tr>\n",
              "    <tr>\n",
              "      <th>3800</th>\n",
              "      <td>7</td>\n",
              "      <td>1</td>\n",
              "      <td>2021</td>\n",
              "    </tr>\n",
              "    <tr>\n",
              "      <th>1319</th>\n",
              "      <td>5</td>\n",
              "      <td>1</td>\n",
              "      <td>2021</td>\n",
              "    </tr>\n",
              "    <tr>\n",
              "      <th>3629</th>\n",
              "      <td>5</td>\n",
              "      <td>1</td>\n",
              "      <td>2021</td>\n",
              "    </tr>\n",
              "    <tr>\n",
              "      <th>4377</th>\n",
              "      <td>1</td>\n",
              "      <td>1</td>\n",
              "      <td>2021</td>\n",
              "    </tr>\n",
              "  </tbody>\n",
              "</table>\n",
              "<p>955 rows × 3 columns</p>\n",
              "</div>\n",
              "      <button class=\"colab-df-convert\" onclick=\"convertToInteractive('df-62334506-3b18-4299-a234-5acaa0cbcd8e')\"\n",
              "              title=\"Convert this dataframe to an interactive table.\"\n",
              "              style=\"display:none;\">\n",
              "        \n",
              "  <svg xmlns=\"http://www.w3.org/2000/svg\" height=\"24px\"viewBox=\"0 0 24 24\"\n",
              "       width=\"24px\">\n",
              "    <path d=\"M0 0h24v24H0V0z\" fill=\"none\"/>\n",
              "    <path d=\"M18.56 5.44l.94 2.06.94-2.06 2.06-.94-2.06-.94-.94-2.06-.94 2.06-2.06.94zm-11 1L8.5 8.5l.94-2.06 2.06-.94-2.06-.94L8.5 2.5l-.94 2.06-2.06.94zm10 10l.94 2.06.94-2.06 2.06-.94-2.06-.94-.94-2.06-.94 2.06-2.06.94z\"/><path d=\"M17.41 7.96l-1.37-1.37c-.4-.4-.92-.59-1.43-.59-.52 0-1.04.2-1.43.59L10.3 9.45l-7.72 7.72c-.78.78-.78 2.05 0 2.83L4 21.41c.39.39.9.59 1.41.59.51 0 1.02-.2 1.41-.59l7.78-7.78 2.81-2.81c.8-.78.8-2.07 0-2.86zM5.41 20L4 18.59l7.72-7.72 1.47 1.35L5.41 20z\"/>\n",
              "  </svg>\n",
              "      </button>\n",
              "      \n",
              "  <style>\n",
              "    .colab-df-container {\n",
              "      display:flex;\n",
              "      flex-wrap:wrap;\n",
              "      gap: 12px;\n",
              "    }\n",
              "\n",
              "    .colab-df-convert {\n",
              "      background-color: #E8F0FE;\n",
              "      border: none;\n",
              "      border-radius: 50%;\n",
              "      cursor: pointer;\n",
              "      display: none;\n",
              "      fill: #1967D2;\n",
              "      height: 32px;\n",
              "      padding: 0 0 0 0;\n",
              "      width: 32px;\n",
              "    }\n",
              "\n",
              "    .colab-df-convert:hover {\n",
              "      background-color: #E2EBFA;\n",
              "      box-shadow: 0px 1px 2px rgba(60, 64, 67, 0.3), 0px 1px 3px 1px rgba(60, 64, 67, 0.15);\n",
              "      fill: #174EA6;\n",
              "    }\n",
              "\n",
              "    [theme=dark] .colab-df-convert {\n",
              "      background-color: #3B4455;\n",
              "      fill: #D2E3FC;\n",
              "    }\n",
              "\n",
              "    [theme=dark] .colab-df-convert:hover {\n",
              "      background-color: #434B5C;\n",
              "      box-shadow: 0px 1px 3px 1px rgba(0, 0, 0, 0.15);\n",
              "      filter: drop-shadow(0px 1px 2px rgba(0, 0, 0, 0.3));\n",
              "      fill: #FFFFFF;\n",
              "    }\n",
              "  </style>\n",
              "\n",
              "      <script>\n",
              "        const buttonEl =\n",
              "          document.querySelector('#df-62334506-3b18-4299-a234-5acaa0cbcd8e button.colab-df-convert');\n",
              "        buttonEl.style.display =\n",
              "          google.colab.kernel.accessAllowed ? 'block' : 'none';\n",
              "\n",
              "        async function convertToInteractive(key) {\n",
              "          const element = document.querySelector('#df-62334506-3b18-4299-a234-5acaa0cbcd8e');\n",
              "          const dataTable =\n",
              "            await google.colab.kernel.invokeFunction('convertToInteractive',\n",
              "                                                     [key], {});\n",
              "          if (!dataTable) return;\n",
              "\n",
              "          const docLinkHtml = 'Like what you see? Visit the ' +\n",
              "            '<a target=\"_blank\" href=https://colab.research.google.com/notebooks/data_table.ipynb>data table notebook</a>'\n",
              "            + ' to learn more about interactive tables.';\n",
              "          element.innerHTML = '';\n",
              "          dataTable['output_type'] = 'display_data';\n",
              "          await google.colab.output.renderOutput(dataTable, element);\n",
              "          const docLink = document.createElement('div');\n",
              "          docLink.innerHTML = docLinkHtml;\n",
              "          element.appendChild(docLink);\n",
              "        }\n",
              "      </script>\n",
              "    </div>\n",
              "  </div>\n",
              "  "
            ]
          },
          "metadata": {},
          "execution_count": 870
        }
      ],
      "source": [
        "#Ну а теперь создадим метод, который выдаст нам все игры между двумя датами \n",
        "def between_dates(data, from_day, from_month, from_year, to_day, to_month, to_year):\n",
        "  filtered_by_year = dsn[(dsn.release_year >= from_year) & (dsn.release_year <= to_year)]\n",
        "  filtered_by_month = filtered_by_year[(filtered_by_year.release_month >= from_month) & (filtered_by_year.release_month <= to_month)]\n",
        "  filtered_by_day = filtered_by_month[(filtered_by_month.release_day >= from_day) & (filtered_by_month.release_day <= to_day)]\n",
        "  return filtered_by_day\n",
        "\n",
        "between_dates(dsn, 1, 1, 2021, 30, 6, 2022)[['release_day', 'release_month','release_year']].sort_values(['release_year', 'release_month', 'release_day'], ascending=False)"
      ]
    },
    {
      "cell_type": "code",
      "execution_count": null,
      "metadata": {
        "colab": {
          "base_uri": "https://localhost:8080/"
        },
        "id": "A_lbskT3BKty",
        "outputId": "baf7e2f5-8ea5-4d4c-85f9-8f013394468a"
      },
      "outputs": [
        {
          "output_type": "execute_result",
          "data": {
            "text/plain": [
              "[<matplotlib.axis.XTick at 0x7f3e18f4b310>,\n",
              " <matplotlib.axis.XTick at 0x7f3e18f4b610>,\n",
              " <matplotlib.axis.XTick at 0x7f3e0e772340>,\n",
              " <matplotlib.axis.XTick at 0x7f3e20235850>,\n",
              " <matplotlib.axis.XTick at 0x7f3e26f07cd0>,\n",
              " <matplotlib.axis.XTick at 0x7f3e26f07910>,\n",
              " <matplotlib.axis.XTick at 0x7f3e26f07520>,\n",
              " <matplotlib.axis.XTick at 0x7f3e2719bee0>,\n",
              " <matplotlib.axis.XTick at 0x7f3e2aaafee0>]"
            ]
          },
          "metadata": {},
          "execution_count": 871
        },
        {
          "output_type": "display_data",
          "data": {
            "text/plain": [
              "<Figure size 504x288 with 1 Axes>"
            ],
            "image/png": "[encoded data removed]"
          },
          "metadata": {}
        }
      ],
      "source": [
        "#Посмотрим как распределены игры по годам выхода\n",
        "sns.set(rc={'figure.figsize':(7,4)})\n",
        "g = sns.histplot(dsn.release_year, alpha=1, bins= dsn.release_year.max() - dsn.release_year.min(), discrete=True)\n",
        "g.set_xticks(range(dsn.release_year.min(), dsn.release_year.max()+1, 3))"
      ]
    },
    {
      "cell_type": "code",
      "execution_count": null,
      "metadata": {
        "colab": {
          "base_uri": "https://localhost:8080/"
        },
        "id": "MqVFbvIZCmBI",
        "outputId": "3d98e994-c799-4669-8a97-b2fbb024378b"
      },
      "outputs": [
        {
          "output_type": "execute_result",
          "data": {
            "text/plain": [
              "[<matplotlib.axis.XTick at 0x7f3e2fb842b0>,\n",
              " <matplotlib.axis.XTick at 0x7f3e2fb84280>,\n",
              " <matplotlib.axis.XTick at 0x7f3e2f9667f0>]"
            ]
          },
          "metadata": {},
          "execution_count": 872
        },
        {
          "output_type": "display_data",
          "data": {
            "text/plain": [
              "<Figure size 165.6x288 with 1 Axes>"
            ],
            "image/png": "[encoded data removed]"
          },
          "metadata": {}
        }
      ],
      "source": [
        "#Протестируем наш метод, выберем все игры от 1 дня 2015 года\n",
        "sns.set(rc={'figure.figsize':(2.3,4)})\n",
        "g = sns.histplot(between_dates(dsn, 1, 1, 2015, 31, 12, 2022).release_year, alpha=1, bins= dsn.release_year.max() - 2015, discrete=True)\n",
        "g.set_xticks(range(2015, dsn.release_year.max()+1, 3))"
      ]
    },
    {
      "cell_type": "code",
      "execution_count": null,
      "metadata": {
        "colab": {
          "base_uri": "https://localhost:8080/"
        },
        "id": "9kGnHtKDHvnc",
        "outputId": "4d4bc7f9-d07b-40b8-aa10-85be7028db11"
      },
      "outputs": [
        {
          "output_type": "execute_result",
          "data": {
            "text/plain": [
              "True"
            ]
          },
          "metadata": {},
          "execution_count": 873
        }
      ],
      "source": [
        "#Убедимся что наша функция возвращает правильные элементы\n",
        "(dsn[(dsn.release_year >= 2015) & (dsn.release_year <= 2022)].release_year == between_dates(dsn, 1, 1, 2015, 31, 12, 2022).release_year).all()"
      ]
    },
    {
      "cell_type": "code",
      "execution_count": null,
      "metadata": {
        "colab": {
          "base_uri": "https://localhost:8080/"
        },
        "id": "mQ1dYBbIJB5h",
        "outputId": "f9ffc67b-cfb9-42b8-c2c7-cf95bd1f7898"
      },
      "outputs": [
        {
          "output_type": "execute_result",
          "data": {
            "text/plain": [
              "0        594.0\n",
              "1        158.0\n",
              "2        117.0\n",
              "3       2626.0\n",
              "4        225.0\n",
              "         ...  \n",
              "4736    1856.0\n",
              "4737     769.0\n",
              "4738    3375.0\n",
              "4739      35.0\n",
              "4740    3591.0\n",
              "Name: days_since_release, Length: 4741, dtype: float64"
            ]
          },
          "metadata": {},
          "execution_count": 874
        }
      ],
      "source": [
        "#Расчитаем для каждой игры количество дней с момента выхода и создадим новую колонку с этим значением для каждой игры\n",
        "max_date = dsn[['release_year', 'release_month', 'release_day']].sort_values(['release_year', 'release_month', 'release_day'], ascending=False).iloc[0].to_numpy()\n",
        "\n",
        "def days_between_dates(from_year, from_month, from_day, to_year, to_month, to_day):\n",
        "  d0 = date(from_year, from_month, from_day)\n",
        "  d1 = date(to_year, to_month, to_day)\n",
        "  delta = d1 - d0\n",
        "  return int(delta.days)\n",
        "\n",
        "dsn[\"days_since_release\"] = np.zeros(dsn.shape[0])\n",
        "\n",
        "i = 0 \n",
        "for d in dsn[['release_day', 'release_month', 'release_year']].to_numpy():\n",
        "  dsn[\"days_since_release\"].at[i] = days_between_dates(d[2], d[1], d[0], max_date[0], max_date[1], max_date[2])\n",
        "  i += 1\n",
        "dsn['days_since_release']"
      ]
    },
    {
      "cell_type": "code",
      "execution_count": null,
      "metadata": {
        "colab": {
          "base_uri": "https://localhost:8080/"
        },
        "id": "BcRQ5VJjJ_Nv",
        "outputId": "3c5663ba-8265-4514-975f-99341a21dc57"
      },
      "outputs": [
        {
          "output_type": "execute_result",
          "data": {
            "text/plain": [
              "0        594\n",
              "1        158\n",
              "2        117\n",
              "3       2626\n",
              "4        225\n",
              "        ... \n",
              "4736    1856\n",
              "4737     769\n",
              "4738    3375\n",
              "4739      35\n",
              "4740    3591\n",
              "Name: days_since_release, Length: 4741, dtype: int64"
            ]
          },
          "metadata": {},
          "execution_count": 875
        }
      ],
      "source": [
        "#Преобразуем в int\n",
        "dsn[\"days_since_release\"] = dsn[\"days_since_release\"].astype(int)\n",
        "dsn[\"days_since_release\"]"
      ]
    },
    {
      "cell_type": "code",
      "execution_count": null,
      "metadata": {
        "colab": {
          "base_uri": "https://localhost:8080/"
        },
        "id": "awmEh11vK3kW",
        "outputId": "70cf1ac1-a623-4180-8155-4bb5f2538ea7"
      },
      "outputs": [
        {
          "output_type": "execute_result",
          "data": {
            "text/plain": [
              "      release_day  release_month  release_year  days_since_release\n",
              "0               4             11          2020                 594\n",
              "1              14              1          2022                 158\n",
              "2              24              2          2022                 117\n",
              "3              13              4          2015                2626\n",
              "4               8             11          2021                 225\n",
              "...           ...            ...           ...                 ...\n",
              "4736           22              5          2017                1856\n",
              "4737           13              5          2020                 769\n",
              "4738           25              3          2013                3375\n",
              "4739           17              5          2022                  35\n",
              "4740           21              8          2012                3591\n",
              "\n",
              "[4741 rows x 4 columns]"
            ],
            "text/html": [
              "\n",
              "  <div id=\"df-441a83ff-c24a-4abf-be32-a180866305f8\">\n",
              "    <div class=\"colab-df-container\">\n",
              "      <div>\n",
              "<style scoped>\n",
              "    .dataframe tbody tr th:only-of-type {\n",
              "        vertical-align: middle;\n",
              "    }\n",
              "\n",
              "    .dataframe tbody tr th {\n",
              "        vertical-align: top;\n",
              "    }\n",
              "\n",
              "    .dataframe thead th {\n",
              "        text-align: right;\n",
              "    }\n",
              "</style>\n",
              "<table border=\"1\" class=\"dataframe\">\n",
              "  <thead>\n",
              "    <tr style=\"text-align: right;\">\n",
              "      <th></th>\n",
              "      <th>release_day</th>\n",
              "      <th>release_month</th>\n",
              "      <th>release_year</th>\n",
              "      <th>days_since_release</th>\n",
              "    </tr>\n",
              "  </thead>\n",
              "  <tbody>\n",
              "    <tr>\n",
              "      <th>0</th>\n",
              "      <td>4</td>\n",
              "      <td>11</td>\n",
              "      <td>2020</td>\n",
              "      <td>594</td>\n",
              "    </tr>\n",
              "    <tr>\n",
              "      <th>1</th>\n",
              "      <td>14</td>\n",
              "      <td>1</td>\n",
              "      <td>2022</td>\n",
              "      <td>158</td>\n",
              "    </tr>\n",
              "    <tr>\n",
              "      <th>2</th>\n",
              "      <td>24</td>\n",
              "      <td>2</td>\n",
              "      <td>2022</td>\n",
              "      <td>117</td>\n",
              "    </tr>\n",
              "    <tr>\n",
              "      <th>3</th>\n",
              "      <td>13</td>\n",
              "      <td>4</td>\n",
              "      <td>2015</td>\n",
              "      <td>2626</td>\n",
              "    </tr>\n",
              "    <tr>\n",
              "      <th>4</th>\n",
              "      <td>8</td>\n",
              "      <td>11</td>\n",
              "      <td>2021</td>\n",
              "      <td>225</td>\n",
              "    </tr>\n",
              "    <tr>\n",
              "      <th>...</th>\n",
              "      <td>...</td>\n",
              "      <td>...</td>\n",
              "      <td>...</td>\n",
              "      <td>...</td>\n",
              "    </tr>\n",
              "    <tr>\n",
              "      <th>4736</th>\n",
              "      <td>22</td>\n",
              "      <td>5</td>\n",
              "      <td>2017</td>\n",
              "      <td>1856</td>\n",
              "    </tr>\n",
              "    <tr>\n",
              "      <th>4737</th>\n",
              "      <td>13</td>\n",
              "      <td>5</td>\n",
              "      <td>2020</td>\n",
              "      <td>769</td>\n",
              "    </tr>\n",
              "    <tr>\n",
              "      <th>4738</th>\n",
              "      <td>25</td>\n",
              "      <td>3</td>\n",
              "      <td>2013</td>\n",
              "      <td>3375</td>\n",
              "    </tr>\n",
              "    <tr>\n",
              "      <th>4739</th>\n",
              "      <td>17</td>\n",
              "      <td>5</td>\n",
              "      <td>2022</td>\n",
              "      <td>35</td>\n",
              "    </tr>\n",
              "    <tr>\n",
              "      <th>4740</th>\n",
              "      <td>21</td>\n",
              "      <td>8</td>\n",
              "      <td>2012</td>\n",
              "      <td>3591</td>\n",
              "    </tr>\n",
              "  </tbody>\n",
              "</table>\n",
              "<p>4741 rows × 4 columns</p>\n",
              "</div>\n",
              "      <button class=\"colab-df-convert\" onclick=\"convertToInteractive('df-441a83ff-c24a-4abf-be32-a180866305f8')\"\n",
              "              title=\"Convert this dataframe to an interactive table.\"\n",
              "              style=\"display:none;\">\n",
              "        \n",
              "  <svg xmlns=\"http://www.w3.org/2000/svg\" height=\"24px\"viewBox=\"0 0 24 24\"\n",
              "       width=\"24px\">\n",
              "    <path d=\"M0 0h24v24H0V0z\" fill=\"none\"/>\n",
              "    <path d=\"M18.56 5.44l.94 2.06.94-2.06 2.06-.94-2.06-.94-.94-2.06-.94 2.06-2.06.94zm-11 1L8.5 8.5l.94-2.06 2.06-.94-2.06-.94L8.5 2.5l-.94 2.06-2.06.94zm10 10l.94 2.06.94-2.06 2.06-.94-2.06-.94-.94-2.06-.94 2.06-2.06.94z\"/><path d=\"M17.41 7.96l-1.37-1.37c-.4-.4-.92-.59-1.43-.59-.52 0-1.04.2-1.43.59L10.3 9.45l-7.72 7.72c-.78.78-.78 2.05 0 2.83L4 21.41c.39.39.9.59 1.41.59.51 0 1.02-.2 1.41-.59l7.78-7.78 2.81-2.81c.8-.78.8-2.07 0-2.86zM5.41 20L4 18.59l7.72-7.72 1.47 1.35L5.41 20z\"/>\n",
              "  </svg>\n",
              "      </button>\n",
              "      \n",
              "  <style>\n",
              "    .colab-df-container {\n",
              "      display:flex;\n",
              "      flex-wrap:wrap;\n",
              "      gap: 12px;\n",
              "    }\n",
              "\n",
              "    .colab-df-convert {\n",
              "      background-color: #E8F0FE;\n",
              "      border: none;\n",
              "      border-radius: 50%;\n",
              "      cursor: pointer;\n",
              "      display: none;\n",
              "      fill: #1967D2;\n",
              "      height: 32px;\n",
              "      padding: 0 0 0 0;\n",
              "      width: 32px;\n",
              "    }\n",
              "\n",
              "    .colab-df-convert:hover {\n",
              "      background-color: #E2EBFA;\n",
              "      box-shadow: 0px 1px 2px rgba(60, 64, 67, 0.3), 0px 1px 3px 1px rgba(60, 64, 67, 0.15);\n",
              "      fill: #174EA6;\n",
              "    }\n",
              "\n",
              "    [theme=dark] .colab-df-convert {\n",
              "      background-color: #3B4455;\n",
              "      fill: #D2E3FC;\n",
              "    }\n",
              "\n",
              "    [theme=dark] .colab-df-convert:hover {\n",
              "      background-color: #434B5C;\n",
              "      box-shadow: 0px 1px 3px 1px rgba(0, 0, 0, 0.15);\n",
              "      filter: drop-shadow(0px 1px 2px rgba(0, 0, 0, 0.3));\n",
              "      fill: #FFFFFF;\n",
              "    }\n",
              "  </style>\n",
              "\n",
              "      <script>\n",
              "        const buttonEl =\n",
              "          document.querySelector('#df-441a83ff-c24a-4abf-be32-a180866305f8 button.colab-df-convert');\n",
              "        buttonEl.style.display =\n",
              "          google.colab.kernel.accessAllowed ? 'block' : 'none';\n",
              "\n",
              "        async function convertToInteractive(key) {\n",
              "          const element = document.querySelector('#df-441a83ff-c24a-4abf-be32-a180866305f8');\n",
              "          const dataTable =\n",
              "            await google.colab.kernel.invokeFunction('convertToInteractive',\n",
              "                                                     [key], {});\n",
              "          if (!dataTable) return;\n",
              "\n",
              "          const docLinkHtml = 'Like what you see? Visit the ' +\n",
              "            '<a target=\"_blank\" href=https://colab.research.google.com/notebooks/data_table.ipynb>data table notebook</a>'\n",
              "            + ' to learn more about interactive tables.';\n",
              "          element.innerHTML = '';\n",
              "          dataTable['output_type'] = 'display_data';\n",
              "          await google.colab.output.renderOutput(dataTable, element);\n",
              "          const docLink = document.createElement('div');\n",
              "          docLink.innerHTML = docLinkHtml;\n",
              "          element.appendChild(docLink);\n",
              "        }\n",
              "      </script>\n",
              "    </div>\n",
              "  </div>\n",
              "  "
            ]
          },
          "metadata": {},
          "execution_count": 876
        }
      ],
      "source": [
        "#Сравним с нашей датой\n",
        "dsn[['release_day', 'release_month', 'release_year', 'days_since_release']]"
      ]
    },
    {
      "cell_type": "code",
      "execution_count": null,
      "metadata": {
        "colab": {
          "base_uri": "https://localhost:8080/"
        },
        "id": "lfYJgKxmK_oI",
        "outputId": "8a201769-fe63-41e5-9c4d-02c7669a9277"
      },
      "outputs": [
        {
          "output_type": "execute_result",
          "data": {
            "text/plain": [
              "       days_since_release\n",
              "count         4741.000000\n",
              "mean          1424.570344\n",
              "std           1310.662908\n",
              "min              0.000000\n",
              "25%            377.000000\n",
              "50%           1050.000000\n",
              "75%           2119.000000\n",
              "max           8626.000000"
            ],
            "text/html": [
              "\n",
              "  <div id=\"df-b51f2721-bccc-4290-b426-2b5e4de3822b\">\n",
              "    <div class=\"colab-df-container\">\n",
              "      <div>\n",
              "<style scoped>\n",
              "    .dataframe tbody tr th:only-of-type {\n",
              "        vertical-align: middle;\n",
              "    }\n",
              "\n",
              "    .dataframe tbody tr th {\n",
              "        vertical-align: top;\n",
              "    }\n",
              "\n",
              "    .dataframe thead th {\n",
              "        text-align: right;\n",
              "    }\n",
              "</style>\n",
              "<table border=\"1\" class=\"dataframe\">\n",
              "  <thead>\n",
              "    <tr style=\"text-align: right;\">\n",
              "      <th></th>\n",
              "      <th>days_since_release</th>\n",
              "    </tr>\n",
              "  </thead>\n",
              "  <tbody>\n",
              "    <tr>\n",
              "      <th>count</th>\n",
              "      <td>4741.000000</td>\n",
              "    </tr>\n",
              "    <tr>\n",
              "      <th>mean</th>\n",
              "      <td>1424.570344</td>\n",
              "    </tr>\n",
              "    <tr>\n",
              "      <th>std</th>\n",
              "      <td>1310.662908</td>\n",
              "    </tr>\n",
              "    <tr>\n",
              "      <th>min</th>\n",
              "      <td>0.000000</td>\n",
              "    </tr>\n",
              "    <tr>\n",
              "      <th>25%</th>\n",
              "      <td>377.000000</td>\n",
              "    </tr>\n",
              "    <tr>\n",
              "      <th>50%</th>\n",
              "      <td>1050.000000</td>\n",
              "    </tr>\n",
              "    <tr>\n",
              "      <th>75%</th>\n",
              "      <td>2119.000000</td>\n",
              "    </tr>\n",
              "    <tr>\n",
              "      <th>max</th>\n",
              "      <td>8626.000000</td>\n",
              "    </tr>\n",
              "  </tbody>\n",
              "</table>\n",
              "</div>\n",
              "      <button class=\"colab-df-convert\" onclick=\"convertToInteractive('df-b51f2721-bccc-4290-b426-2b5e4de3822b')\"\n",
              "              title=\"Convert this dataframe to an interactive table.\"\n",
              "              style=\"display:none;\">\n",
              "        \n",
              "  <svg xmlns=\"http://www.w3.org/2000/svg\" height=\"24px\"viewBox=\"0 0 24 24\"\n",
              "       width=\"24px\">\n",
              "    <path d=\"M0 0h24v24H0V0z\" fill=\"none\"/>\n",
              "    <path d=\"M18.56 5.44l.94 2.06.94-2.06 2.06-.94-2.06-.94-.94-2.06-.94 2.06-2.06.94zm-11 1L8.5 8.5l.94-2.06 2.06-.94-2.06-.94L8.5 2.5l-.94 2.06-2.06.94zm10 10l.94 2.06.94-2.06 2.06-.94-2.06-.94-.94-2.06-.94 2.06-2.06.94z\"/><path d=\"M17.41 7.96l-1.37-1.37c-.4-.4-.92-.59-1.43-.59-.52 0-1.04.2-1.43.59L10.3 9.45l-7.72 7.72c-.78.78-.78 2.05 0 2.83L4 21.41c.39.39.9.59 1.41.59.51 0 1.02-.2 1.41-.59l7.78-7.78 2.81-2.81c.8-.78.8-2.07 0-2.86zM5.41 20L4 18.59l7.72-7.72 1.47 1.35L5.41 20z\"/>\n",
              "  </svg>\n",
              "      </button>\n",
              "      \n",
              "  <style>\n",
              "    .colab-df-container {\n",
              "      display:flex;\n",
              "      flex-wrap:wrap;\n",
              "      gap: 12px;\n",
              "    }\n",
              "\n",
              "    .colab-df-convert {\n",
              "      background-color: #E8F0FE;\n",
              "      border: none;\n",
              "      border-radius: 50%;\n",
              "      cursor: pointer;\n",
              "      display: none;\n",
              "      fill: #1967D2;\n",
              "      height: 32px;\n",
              "      padding: 0 0 0 0;\n",
              "      width: 32px;\n",
              "    }\n",
              "\n",
              "    .colab-df-convert:hover {\n",
              "      background-color: #E2EBFA;\n",
              "      box-shadow: 0px 1px 2px rgba(60, 64, 67, 0.3), 0px 1px 3px 1px rgba(60, 64, 67, 0.15);\n",
              "      fill: #174EA6;\n",
              "    }\n",
              "\n",
              "    [theme=dark] .colab-df-convert {\n",
              "      background-color: #3B4455;\n",
              "      fill: #D2E3FC;\n",
              "    }\n",
              "\n",
              "    [theme=dark] .colab-df-convert:hover {\n",
              "      background-color: #434B5C;\n",
              "      box-shadow: 0px 1px 3px 1px rgba(0, 0, 0, 0.15);\n",
              "      filter: drop-shadow(0px 1px 2px rgba(0, 0, 0, 0.3));\n",
              "      fill: #FFFFFF;\n",
              "    }\n",
              "  </style>\n",
              "\n",
              "      <script>\n",
              "        const buttonEl =\n",
              "          document.querySelector('#df-b51f2721-bccc-4290-b426-2b5e4de3822b button.colab-df-convert');\n",
              "        buttonEl.style.display =\n",
              "          google.colab.kernel.accessAllowed ? 'block' : 'none';\n",
              "\n",
              "        async function convertToInteractive(key) {\n",
              "          const element = document.querySelector('#df-b51f2721-bccc-4290-b426-2b5e4de3822b');\n",
              "          const dataTable =\n",
              "            await google.colab.kernel.invokeFunction('convertToInteractive',\n",
              "                                                     [key], {});\n",
              "          if (!dataTable) return;\n",
              "\n",
              "          const docLinkHtml = 'Like what you see? Visit the ' +\n",
              "            '<a target=\"_blank\" href=https://colab.research.google.com/notebooks/data_table.ipynb>data table notebook</a>'\n",
              "            + ' to learn more about interactive tables.';\n",
              "          element.innerHTML = '';\n",
              "          dataTable['output_type'] = 'display_data';\n",
              "          await google.colab.output.renderOutput(dataTable, element);\n",
              "          const docLink = document.createElement('div');\n",
              "          docLink.innerHTML = docLinkHtml;\n",
              "          element.appendChild(docLink);\n",
              "        }\n",
              "      </script>\n",
              "    </div>\n",
              "  </div>\n",
              "  "
            ]
          },
          "metadata": {},
          "execution_count": 877
        }
      ],
      "source": [
        "#Опишем наше новое значение\n",
        "dsn.days_since_release.describe().to_frame()"
      ]
    },
    {
      "cell_type": "code",
      "execution_count": null,
      "metadata": {
        "colab": {
          "base_uri": "https://localhost:8080/"
        },
        "id": "-Hg5XkHULPNi",
        "outputId": "7892a2ca-6c5d-48c6-ae0b-775f8c3257ab"
      },
      "outputs": [
        {
          "output_type": "display_data",
          "data": {
            "text/plain": [
              "<Figure size 504x288 with 1 Axes>"
            ],
            "image/png": "[encoded data removed]"
          },
          "metadata": {}
        }
      ],
      "source": [
        "#Построим гистограмму\n",
        "sns.set(rc={'figure.figsize':(7,4)})\n",
        "g = sns.histplot(dsn.days_since_release, alpha=1)"
      ]
    },
    {
      "cell_type": "code",
      "execution_count": null,
      "metadata": {
        "colab": {
          "base_uri": "https://localhost:8080/"
        },
        "id": "ruZRSBbdLhls",
        "outputId": "257fad57-76b7-4f05-f4b4-b55c8ad84104"
      },
      "outputs": [
        {
          "output_type": "execute_result",
          "data": {
            "text/plain": [
              "       days_since_release\n",
              "count         4740.000000\n",
              "mean          1424.870886\n",
              "std           1310.637793\n",
              "min              1.000000\n",
              "25%            377.000000\n",
              "50%           1050.000000\n",
              "75%           2119.250000\n",
              "max           8626.000000"
            ],
            "text/html": [
              "\n",
              "  <div id=\"df-6b3e9502-6f33-411d-82f1-54388b28fc2f\">\n",
              "    <div class=\"colab-df-container\">\n",
              "      <div>\n",
              "<style scoped>\n",
              "    .dataframe tbody tr th:only-of-type {\n",
              "        vertical-align: middle;\n",
              "    }\n",
              "\n",
              "    .dataframe tbody tr th {\n",
              "        vertical-align: top;\n",
              "    }\n",
              "\n",
              "    .dataframe thead th {\n",
              "        text-align: right;\n",
              "    }\n",
              "</style>\n",
              "<table border=\"1\" class=\"dataframe\">\n",
              "  <thead>\n",
              "    <tr style=\"text-align: right;\">\n",
              "      <th></th>\n",
              "      <th>days_since_release</th>\n",
              "    </tr>\n",
              "  </thead>\n",
              "  <tbody>\n",
              "    <tr>\n",
              "      <th>count</th>\n",
              "      <td>4740.000000</td>\n",
              "    </tr>\n",
              "    <tr>\n",
              "      <th>mean</th>\n",
              "      <td>1424.870886</td>\n",
              "    </tr>\n",
              "    <tr>\n",
              "      <th>std</th>\n",
              "      <td>1310.637793</td>\n",
              "    </tr>\n",
              "    <tr>\n",
              "      <th>min</th>\n",
              "      <td>1.000000</td>\n",
              "    </tr>\n",
              "    <tr>\n",
              "      <th>25%</th>\n",
              "      <td>377.000000</td>\n",
              "    </tr>\n",
              "    <tr>\n",
              "      <th>50%</th>\n",
              "      <td>1050.000000</td>\n",
              "    </tr>\n",
              "    <tr>\n",
              "      <th>75%</th>\n",
              "      <td>2119.250000</td>\n",
              "    </tr>\n",
              "    <tr>\n",
              "      <th>max</th>\n",
              "      <td>8626.000000</td>\n",
              "    </tr>\n",
              "  </tbody>\n",
              "</table>\n",
              "</div>\n",
              "      <button class=\"colab-df-convert\" onclick=\"convertToInteractive('df-6b3e9502-6f33-411d-82f1-54388b28fc2f')\"\n",
              "              title=\"Convert this dataframe to an interactive table.\"\n",
              "              style=\"display:none;\">\n",
              "        \n",
              "  <svg xmlns=\"http://www.w3.org/2000/svg\" height=\"24px\"viewBox=\"0 0 24 24\"\n",
              "       width=\"24px\">\n",
              "    <path d=\"M0 0h24v24H0V0z\" fill=\"none\"/>\n",
              "    <path d=\"M18.56 5.44l.94 2.06.94-2.06 2.06-.94-2.06-.94-.94-2.06-.94 2.06-2.06.94zm-11 1L8.5 8.5l.94-2.06 2.06-.94-2.06-.94L8.5 2.5l-.94 2.06-2.06.94zm10 10l.94 2.06.94-2.06 2.06-.94-2.06-.94-.94-2.06-.94 2.06-2.06.94z\"/><path d=\"M17.41 7.96l-1.37-1.37c-.4-.4-.92-.59-1.43-.59-.52 0-1.04.2-1.43.59L10.3 9.45l-7.72 7.72c-.78.78-.78 2.05 0 2.83L4 21.41c.39.39.9.59 1.41.59.51 0 1.02-.2 1.41-.59l7.78-7.78 2.81-2.81c.8-.78.8-2.07 0-2.86zM5.41 20L4 18.59l7.72-7.72 1.47 1.35L5.41 20z\"/>\n",
              "  </svg>\n",
              "      </button>\n",
              "      \n",
              "  <style>\n",
              "    .colab-df-container {\n",
              "      display:flex;\n",
              "      flex-wrap:wrap;\n",
              "      gap: 12px;\n",
              "    }\n",
              "\n",
              "    .colab-df-convert {\n",
              "      background-color: #E8F0FE;\n",
              "      border: none;\n",
              "      border-radius: 50%;\n",
              "      cursor: pointer;\n",
              "      display: none;\n",
              "      fill: #1967D2;\n",
              "      height: 32px;\n",
              "      padding: 0 0 0 0;\n",
              "      width: 32px;\n",
              "    }\n",
              "\n",
              "    .colab-df-convert:hover {\n",
              "      background-color: #E2EBFA;\n",
              "      box-shadow: 0px 1px 2px rgba(60, 64, 67, 0.3), 0px 1px 3px 1px rgba(60, 64, 67, 0.15);\n",
              "      fill: #174EA6;\n",
              "    }\n",
              "\n",
              "    [theme=dark] .colab-df-convert {\n",
              "      background-color: #3B4455;\n",
              "      fill: #D2E3FC;\n",
              "    }\n",
              "\n",
              "    [theme=dark] .colab-df-convert:hover {\n",
              "      background-color: #434B5C;\n",
              "      box-shadow: 0px 1px 3px 1px rgba(0, 0, 0, 0.15);\n",
              "      filter: drop-shadow(0px 1px 2px rgba(0, 0, 0, 0.3));\n",
              "      fill: #FFFFFF;\n",
              "    }\n",
              "  </style>\n",
              "\n",
              "      <script>\n",
              "        const buttonEl =\n",
              "          document.querySelector('#df-6b3e9502-6f33-411d-82f1-54388b28fc2f button.colab-df-convert');\n",
              "        buttonEl.style.display =\n",
              "          google.colab.kernel.accessAllowed ? 'block' : 'none';\n",
              "\n",
              "        async function convertToInteractive(key) {\n",
              "          const element = document.querySelector('#df-6b3e9502-6f33-411d-82f1-54388b28fc2f');\n",
              "          const dataTable =\n",
              "            await google.colab.kernel.invokeFunction('convertToInteractive',\n",
              "                                                     [key], {});\n",
              "          if (!dataTable) return;\n",
              "\n",
              "          const docLinkHtml = 'Like what you see? Visit the ' +\n",
              "            '<a target=\"_blank\" href=https://colab.research.google.com/notebooks/data_table.ipynb>data table notebook</a>'\n",
              "            + ' to learn more about interactive tables.';\n",
              "          element.innerHTML = '';\n",
              "          dataTable['output_type'] = 'display_data';\n",
              "          await google.colab.output.renderOutput(dataTable, element);\n",
              "          const docLink = document.createElement('div');\n",
              "          docLink.innerHTML = docLinkHtml;\n",
              "          element.appendChild(docLink);\n",
              "        }\n",
              "      </script>\n",
              "    </div>\n",
              "  </div>\n",
              "  "
            ]
          },
          "metadata": {},
          "execution_count": 879
        }
      ],
      "source": [
        "#Можно сказать, что новых игр гораздно больше чем старых в датасете\n",
        "#Давайте удалим все игры, которые имеют 0 дней с момента релиза, так как\n",
        "#мы не сможем расчитать для них наш показатель количество полученных ревью за 30 дней\n",
        "drop_rows(dsn,dsn[dsn.days_since_release == 0])\n",
        "dsn.days_since_release.describe().to_frame()"
      ]
    },
    {
      "cell_type": "code",
      "execution_count": null,
      "metadata": {
        "colab": {
          "base_uri": "https://localhost:8080/"
        },
        "id": "OLmXn003OpAC",
        "outputId": "2ac4513b-ef1b-49dc-8860-54ad0c4c6bd5"
      },
      "outputs": [
        {
          "output_type": "stream",
          "name": "stdout",
          "text": [
            "<class 'pandas.core.series.Series'>\n",
            "RangeIndex: 4740 entries, 0 to 4739\n",
            "Series name: days_since_release\n",
            "Non-Null Count  Dtype\n",
            "--------------  -----\n",
            "4740 non-null   int64\n",
            "dtypes: int64(1)\n",
            "memory usage: 37.2 KB\n"
          ]
        }
      ],
      "source": [
        "#Приведем к инт\n",
        "dsn['days_since_release'] = dsn.days_since_release.astype(int)\n",
        "dsn.days_since_release.info()"
      ]
    },
    {
      "cell_type": "code",
      "execution_count": null,
      "metadata": {
        "colab": {
          "base_uri": "https://localhost:8080/"
        },
        "id": "14PCdL6fM0Um",
        "outputId": "e9a62413-1bd7-4f5e-b37c-5d9677c57b3f"
      },
      "outputs": [
        {
          "output_type": "execute_result",
          "data": {
            "text/plain": [
              "(4740, 29)"
            ]
          },
          "metadata": {},
          "execution_count": 881
        }
      ],
      "source": [
        "#Все, теперь минимум дней с момента релиза у нас 1, проверим над датасет\n",
        "dsn.shape"
      ]
    },
    {
      "cell_type": "code",
      "execution_count": null,
      "metadata": {
        "colab": {
          "base_uri": "https://localhost:8080/"
        },
        "id": "U9quCZ1hNG1i",
        "outputId": "2bd38d6c-a768-4342-f423-6a56e522b04d"
      },
      "outputs": [
        {
          "output_type": "stream",
          "name": "stdout",
          "text": [
            "<class 'pandas.core.frame.DataFrame'>\n",
            "RangeIndex: 4740 entries, 0 to 4739\n",
            "Data columns (total 29 columns):\n",
            " #   Column              Non-Null Count  Dtype  \n",
            "---  ------              --------------  -----  \n",
            " 0   title               4740 non-null   object \n",
            " 1   url                 4740 non-null   object \n",
            " 2   image               4740 non-null   object \n",
            " 3   release_date        4740 non-null   object \n",
            " 4   platforms           4740 non-null   object \n",
            " 5   discount_rate       221 non-null    object \n",
            " 6   original_price      4691 non-null   object \n",
            " 7   discounted_price    221 non-null    object \n",
            " 8   developer           4737 non-null   object \n",
            " 9   publisher           4706 non-null   object \n",
            " 10  overall_reviews     4740 non-null   object \n",
            " 11  recent_reviews      4740 non-null   object \n",
            " 12  whole_reviews       4740 non-null   object \n",
            " 13  description         4576 non-null   object \n",
            " 14  tags                4740 non-null   object \n",
            " 15  genre               4733 non-null   object \n",
            " 16  processor           4545 non-null   object \n",
            " 17  ram                 4580 non-null   object \n",
            " 18  graphic_card        4316 non-null   object \n",
            " 19  rating              1448 non-null   object \n",
            " 20  language            4740 non-null   object \n",
            " 21  metacriticts        1033 non-null   float64\n",
            " 22  tags_list           4740 non-null   object \n",
            " 23  tags_count          4740 non-null   int64  \n",
            " 24  reviews_count       4740 non-null   int64  \n",
            " 25  release_day         4740 non-null   int64  \n",
            " 26  release_month       4740 non-null   int64  \n",
            " 27  release_year        4740 non-null   int64  \n",
            " 28  days_since_release  4740 non-null   int64  \n",
            "dtypes: float64(1), int64(6), object(22)\n",
            "memory usage: 1.0+ MB\n"
          ]
        }
      ],
      "source": [
        "dsn.info()"
      ]
    },
    {
      "cell_type": "code",
      "execution_count": null,
      "metadata": {
        "colab": {
          "base_uri": "https://localhost:8080/"
        },
        "id": "rWUvFZkTM-mD",
        "outputId": "820a1283-2393-4b70-c773-242a2270a01b"
      },
      "outputs": [
        {
          "output_type": "execute_result",
          "data": {
            "text/plain": [
              "                                                                    0  \\\n",
              "title                                                   Apex Legends™   \n",
              "url                 https://store.steampowered.com/app/1172470/Ape...   \n",
              "image               https://cdn.akamai.steamstatic.com/steam/apps/...   \n",
              "release_date                                              4 Nov, 2020   \n",
              "platforms                                                     Windows   \n",
              "discount_rate                                                     NaN   \n",
              "original_price                                           Free to Play   \n",
              "discounted_price                                                  NaN   \n",
              "developer                                       Respawn Entertainment   \n",
              "publisher                                             Electronic Arts   \n",
              "overall_reviews                                         Very Positive   \n",
              "recent_reviews      - 81% of the 15,998 user reviews in the last 3...   \n",
              "whole_reviews       - 86% of the 469,045 user reviews for this gam...   \n",
              "description         Apex Legends is the award-winning, free-to-pla...   \n",
              "tags                Free to Play,Battle Royale,Multiplayer,Shooter...   \n",
              "genre                                   Action,Adventure,Free to Play   \n",
              "processor            AMD FX 4350 or Equivalent, Intel Core i3 6300...   \n",
              "ram                                                          6 GB RAM   \n",
              "graphic_card              AMD Radeon™ HD 7730, NVIDIA GeForce® GT 640   \n",
              "rating              https://store.akamai.steamstatic.com/public/sh...   \n",
              "language            English,French,Italian,German,Spanish - Spain,...   \n",
              "metacriticts                                                     88.0   \n",
              "tags_list           [Free to Play, Battle Royale, Multiplayer, Sho...   \n",
              "tags_count                                                         20   \n",
              "reviews_count                                                  469045   \n",
              "release_day                                                         4   \n",
              "release_month                                                      11   \n",
              "release_year                                                     2020   \n",
              "days_since_release                                                594   \n",
              "\n",
              "                                                                    1  \\\n",
              "title                                                      God of War   \n",
              "url                 https://store.steampowered.com/app/1593500/God...   \n",
              "image               https://cdn.akamai.steamstatic.com/steam/apps/...   \n",
              "release_date                                             14 Jan, 2022   \n",
              "platforms                                                     Windows   \n",
              "discount_rate                                                    -20%   \n",
              "original_price                                             Rp 729 000   \n",
              "discounted_price                                           Rp 583 200   \n",
              "developer                                         Santa Monica Studio   \n",
              "publisher                                          PlayStation PC LLC   \n",
              "overall_reviews                               Overwhelmingly Positive   \n",
              "recent_reviews      - 96% of the 1,056 user reviews in the last 30...   \n",
              "whole_reviews       - 97% of the 34,533 user reviews for this game...   \n",
              "description         His vengeance against the Gods of Olympus year...   \n",
              "tags                Action,Adventure,Singleplayer,Story Rich,Mytho...   \n",
              "genre                                            Action,Adventure,RPG   \n",
              "processor            Intel i5-2500k (4 core 3.3 GHz) or AMD Ryzen ...   \n",
              "ram                                                          8 GB RAM   \n",
              "graphic_card                                                     <br>   \n",
              "rating              https://store.akamai.steamstatic.com/public/sh...   \n",
              "language            English,French,Italian,German,Spanish - Spain,...   \n",
              "metacriticts                                                     93.0   \n",
              "tags_list           [Action, Adventure, Singleplayer, Story Rich, ...   \n",
              "tags_count                                                         20   \n",
              "reviews_count                                                   34533   \n",
              "release_day                                                        14   \n",
              "release_month                                                       1   \n",
              "release_year                                                     2022   \n",
              "days_since_release                                                158   \n",
              "\n",
              "                                                                    2  \\\n",
              "title                                                      ELDEN RING   \n",
              "url                 https://store.steampowered.com/app/1245620/ELD...   \n",
              "image               https://cdn.akamai.steamstatic.com/steam/apps/...   \n",
              "release_date                                             24 Feb, 2022   \n",
              "platforms                                                     Windows   \n",
              "discount_rate                                                     NaN   \n",
              "original_price                                             Rp 599 000   \n",
              "discounted_price                                                  NaN   \n",
              "developer                                           FromSoftware Inc.   \n",
              "publisher                FromSoftware Inc.,Bandai Namco Entertainment   \n",
              "overall_reviews                                         Very Positive   \n",
              "recent_reviews      - 92% of the 14,027 user reviews in the last 3...   \n",
              "whole_reviews       - 90% of the 381,880 user reviews for this gam...   \n",
              "description         THE NEW FANTASY ACTION RPG. Rise, Tarnished, a...   \n",
              "tags                Souls-like,Relaxing,Dark Fantasy,RPG,Difficult...   \n",
              "genre                                                      Action,RPG   \n",
              "processor                     INTEL CORE I5-8400 or AMD RYZEN 3 3300X   \n",
              "ram                                                         12 GB RAM   \n",
              "graphic_card         NVIDIA GEFORCE GTX 1060 3 GB or AMD RADEON RX...   \n",
              "rating              https://store.akamai.steamstatic.com/public/sh...   \n",
              "language            English,French,Italian,German,Spanish - Spain,...   \n",
              "metacriticts                                                     94.0   \n",
              "tags_list           [Souls-like, Relaxing, Dark Fantasy, RPG, Diff...   \n",
              "tags_count                                                         20   \n",
              "reviews_count                                                  381880   \n",
              "release_day                                                        24   \n",
              "release_month                                                       2   \n",
              "release_year                                                     2022   \n",
              "days_since_release                                                117   \n",
              "\n",
              "                                                                    3  \\\n",
              "title                                              Grand Theft Auto V   \n",
              "url                 https://store.steampowered.com/app/271590/Gran...   \n",
              "image               https://cdn.akamai.steamstatic.com/steam/apps/...   \n",
              "release_date                                             13 Apr, 2015   \n",
              "platforms                                                     Windows   \n",
              "discount_rate                                                     NaN   \n",
              "original_price                                                    NaN   \n",
              "discounted_price                                                  NaN   \n",
              "developer                                              Rockstar North   \n",
              "publisher                                              Rockstar Games   \n",
              "overall_reviews                                         Very Positive   \n",
              "recent_reviews      - 90% of the 15,021 user reviews in the last 3...   \n",
              "whole_reviews       - 85% of the 1,226,760 user reviews for this g...   \n",
              "description         Grand Theft Auto V for PC offers players the o...   \n",
              "tags                Open World,Action,Multiplayer,Automobile Sim,C...   \n",
              "genre                                                Action,Adventure   \n",
              "processor            Intel Core 2 Quad CPU Q6600 @ 2.40GHz (4 CPUs...   \n",
              "ram                                                          4 GB RAM   \n",
              "graphic_card         NVIDIA 9800 GT 1GB / AMD HD 4870 1GB (DX 10, ...   \n",
              "rating              https://store.akamai.steamstatic.com/public/sh...   \n",
              "language            English,French,Italian,German,Spanish - Spain,...   \n",
              "metacriticts                                                     96.0   \n",
              "tags_list           [Open World, Action, Multiplayer, Automobile S...   \n",
              "tags_count                                                         20   \n",
              "reviews_count                                                 1226760   \n",
              "release_day                                                        13   \n",
              "release_month                                                       4   \n",
              "release_year                                                     2015   \n",
              "days_since_release                                               2626   \n",
              "\n",
              "                                                                    4  \n",
              "title                                                 Forza Horizon 5  \n",
              "url                 https://store.steampowered.com/app/1551360/For...  \n",
              "image               https://cdn.akamai.steamstatic.com/steam/apps/...  \n",
              "release_date                                              8 Nov, 2021  \n",
              "platforms                                                     Windows  \n",
              "discount_rate                                                    -20%  \n",
              "original_price                                             Rp 699 000  \n",
              "discounted_price                                           Rp 559 200  \n",
              "developer                                            Playground Games  \n",
              "publisher                                           Xbox Game Studios  \n",
              "overall_reviews                                         Very Positive  \n",
              "recent_reviews      - 88% of the 3,005 user reviews in the last 30...  \n",
              "whole_reviews       - 87% of the 70,919 user reviews for this game...  \n",
              "description         Blast off to the visually stunning, exhilarati...  \n",
              "tags                Racing,Open World,Driving,Multiplayer,Automobi...  \n",
              "genre                       Action,Adventure,Racing,Simulation,Sports  \n",
              "processor                           Intel i5-4460 or AMD Ryzen 3 1200  \n",
              "ram                                                          8 GB RAM  \n",
              "graphic_card                             NVidia GTX 970 OR AMD RX 470  \n",
              "rating                                                            NaN  \n",
              "language            English,French,Italian,German,Spanish - Spain,...  \n",
              "metacriticts                                                      NaN  \n",
              "tags_list           [Racing, Open World, Driving, Multiplayer, Aut...  \n",
              "tags_count                                                         20  \n",
              "reviews_count                                                   70919  \n",
              "release_day                                                         8  \n",
              "release_month                                                      11  \n",
              "release_year                                                     2021  \n",
              "days_since_release                                                225  "
            ],
            "text/html": [
              "\n",
              "  <div id=\"df-03621a8f-8ee6-42a7-879b-dee43bf1651d\">\n",
              "    <div class=\"colab-df-container\">\n",
              "      <div>\n",
              "<style scoped>\n",
              "    .dataframe tbody tr th:only-of-type {\n",
              "        vertical-align: middle;\n",
              "    }\n",
              "\n",
              "    .dataframe tbody tr th {\n",
              "        vertical-align: top;\n",
              "    }\n",
              "\n",
              "    .dataframe thead th {\n",
              "        text-align: right;\n",
              "    }\n",
              "</style>\n",
              "<table border=\"1\" class=\"dataframe\">\n",
              "  <thead>\n",
              "    <tr style=\"text-align: right;\">\n",
              "      <th></th>\n",
              "      <th>0</th>\n",
              "      <th>1</th>\n",
              "      <th>2</th>\n",
              "      <th>3</th>\n",
              "      <th>4</th>\n",
              "    </tr>\n",
              "  </thead>\n",
              "  <tbody>\n",
              "    <tr>\n",
              "      <th>title</th>\n",
              "      <td>Apex Legends™</td>\n",
              "      <td>God of War</td>\n",
              "      <td>ELDEN RING</td>\n",
              "      <td>Grand Theft Auto V</td>\n",
              "      <td>Forza Horizon 5</td>\n",
              "    </tr>\n",
              "    <tr>\n",
              "      <th>url</th>\n",
              "      <td>https://store.steampowered.com/app/1172470/Ape...</td>\n",
              "      <td>https://store.steampowered.com/app/1593500/God...</td>\n",
              "      <td>https://store.steampowered.com/app/1245620/ELD...</td>\n",
              "      <td>https://store.steampowered.com/app/271590/Gran...</td>\n",
              "      <td>https://store.steampowered.com/app/1551360/For...</td>\n",
              "    </tr>\n",
              "    <tr>\n",
              "      <th>image</th>\n",
              "      <td>https://cdn.akamai.steamstatic.com/steam/apps/...</td>\n",
              "      <td>https://cdn.akamai.steamstatic.com/steam/apps/...</td>\n",
              "      <td>https://cdn.akamai.steamstatic.com/steam/apps/...</td>\n",
              "      <td>https://cdn.akamai.steamstatic.com/steam/apps/...</td>\n",
              "      <td>https://cdn.akamai.steamstatic.com/steam/apps/...</td>\n",
              "    </tr>\n",
              "    <tr>\n",
              "      <th>release_date</th>\n",
              "      <td>4 Nov, 2020</td>\n",
              "      <td>14 Jan, 2022</td>\n",
              "      <td>24 Feb, 2022</td>\n",
              "      <td>13 Apr, 2015</td>\n",
              "      <td>8 Nov, 2021</td>\n",
              "    </tr>\n",
              "    <tr>\n",
              "      <th>platforms</th>\n",
              "      <td>Windows</td>\n",
              "      <td>Windows</td>\n",
              "      <td>Windows</td>\n",
              "      <td>Windows</td>\n",
              "      <td>Windows</td>\n",
              "    </tr>\n",
              "    <tr>\n",
              "      <th>discount_rate</th>\n",
              "      <td>NaN</td>\n",
              "      <td>-20%</td>\n",
              "      <td>NaN</td>\n",
              "      <td>NaN</td>\n",
              "      <td>-20%</td>\n",
              "    </tr>\n",
              "    <tr>\n",
              "      <th>original_price</th>\n",
              "      <td>Free to Play</td>\n",
              "      <td>Rp 729 000</td>\n",
              "      <td>Rp 599 000</td>\n",
              "      <td>NaN</td>\n",
              "      <td>Rp 699 000</td>\n",
              "    </tr>\n",
              "    <tr>\n",
              "      <th>discounted_price</th>\n",
              "      <td>NaN</td>\n",
              "      <td>Rp 583 200</td>\n",
              "      <td>NaN</td>\n",
              "      <td>NaN</td>\n",
              "      <td>Rp 559 200</td>\n",
              "    </tr>\n",
              "    <tr>\n",
              "      <th>developer</th>\n",
              "      <td>Respawn Entertainment</td>\n",
              "      <td>Santa Monica Studio</td>\n",
              "      <td>FromSoftware Inc.</td>\n",
              "      <td>Rockstar North</td>\n",
              "      <td>Playground Games</td>\n",
              "    </tr>\n",
              "    <tr>\n",
              "      <th>publisher</th>\n",
              "      <td>Electronic Arts</td>\n",
              "      <td>PlayStation PC LLC</td>\n",
              "      <td>FromSoftware Inc.,Bandai Namco Entertainment</td>\n",
              "      <td>Rockstar Games</td>\n",
              "      <td>Xbox Game Studios</td>\n",
              "    </tr>\n",
              "    <tr>\n",
              "      <th>overall_reviews</th>\n",
              "      <td>Very Positive</td>\n",
              "      <td>Overwhelmingly Positive</td>\n",
              "      <td>Very Positive</td>\n",
              "      <td>Very Positive</td>\n",
              "      <td>Very Positive</td>\n",
              "    </tr>\n",
              "    <tr>\n",
              "      <th>recent_reviews</th>\n",
              "      <td>- 81% of the 15,998 user reviews in the last 3...</td>\n",
              "      <td>- 96% of the 1,056 user reviews in the last 30...</td>\n",
              "      <td>- 92% of the 14,027 user reviews in the last 3...</td>\n",
              "      <td>- 90% of the 15,021 user reviews in the last 3...</td>\n",
              "      <td>- 88% of the 3,005 user reviews in the last 30...</td>\n",
              "    </tr>\n",
              "    <tr>\n",
              "      <th>whole_reviews</th>\n",
              "      <td>- 86% of the 469,045 user reviews for this gam...</td>\n",
              "      <td>- 97% of the 34,533 user reviews for this game...</td>\n",
              "      <td>- 90% of the 381,880 user reviews for this gam...</td>\n",
              "      <td>- 85% of the 1,226,760 user reviews for this g...</td>\n",
              "      <td>- 87% of the 70,919 user reviews for this game...</td>\n",
              "    </tr>\n",
              "    <tr>\n",
              "      <th>description</th>\n",
              "      <td>Apex Legends is the award-winning, free-to-pla...</td>\n",
              "      <td>His vengeance against the Gods of Olympus year...</td>\n",
              "      <td>THE NEW FANTASY ACTION RPG. Rise, Tarnished, a...</td>\n",
              "      <td>Grand Theft Auto V for PC offers players the o...</td>\n",
              "      <td>Blast off to the visually stunning, exhilarati...</td>\n",
              "    </tr>\n",
              "    <tr>\n",
              "      <th>tags</th>\n",
              "      <td>Free to Play,Battle Royale,Multiplayer,Shooter...</td>\n",
              "      <td>Action,Adventure,Singleplayer,Story Rich,Mytho...</td>\n",
              "      <td>Souls-like,Relaxing,Dark Fantasy,RPG,Difficult...</td>\n",
              "      <td>Open World,Action,Multiplayer,Automobile Sim,C...</td>\n",
              "      <td>Racing,Open World,Driving,Multiplayer,Automobi...</td>\n",
              "    </tr>\n",
              "    <tr>\n",
              "      <th>genre</th>\n",
              "      <td>Action,Adventure,Free to Play</td>\n",
              "      <td>Action,Adventure,RPG</td>\n",
              "      <td>Action,RPG</td>\n",
              "      <td>Action,Adventure</td>\n",
              "      <td>Action,Adventure,Racing,Simulation,Sports</td>\n",
              "    </tr>\n",
              "    <tr>\n",
              "      <th>processor</th>\n",
              "      <td>AMD FX 4350 or Equivalent, Intel Core i3 6300...</td>\n",
              "      <td>Intel i5-2500k (4 core 3.3 GHz) or AMD Ryzen ...</td>\n",
              "      <td>INTEL CORE I5-8400 or AMD RYZEN 3 3300X</td>\n",
              "      <td>Intel Core 2 Quad CPU Q6600 @ 2.40GHz (4 CPUs...</td>\n",
              "      <td>Intel i5-4460 or AMD Ryzen 3 1200</td>\n",
              "    </tr>\n",
              "    <tr>\n",
              "      <th>ram</th>\n",
              "      <td>6 GB RAM</td>\n",
              "      <td>8 GB RAM</td>\n",
              "      <td>12 GB RAM</td>\n",
              "      <td>4 GB RAM</td>\n",
              "      <td>8 GB RAM</td>\n",
              "    </tr>\n",
              "    <tr>\n",
              "      <th>graphic_card</th>\n",
              "      <td>AMD Radeon™ HD 7730, NVIDIA GeForce® GT 640</td>\n",
              "      <td>&lt;br&gt;</td>\n",
              "      <td>NVIDIA GEFORCE GTX 1060 3 GB or AMD RADEON RX...</td>\n",
              "      <td>NVIDIA 9800 GT 1GB / AMD HD 4870 1GB (DX 10, ...</td>\n",
              "      <td>NVidia GTX 970 OR AMD RX 470</td>\n",
              "    </tr>\n",
              "    <tr>\n",
              "      <th>rating</th>\n",
              "      <td>https://store.akamai.steamstatic.com/public/sh...</td>\n",
              "      <td>https://store.akamai.steamstatic.com/public/sh...</td>\n",
              "      <td>https://store.akamai.steamstatic.com/public/sh...</td>\n",
              "      <td>https://store.akamai.steamstatic.com/public/sh...</td>\n",
              "      <td>NaN</td>\n",
              "    </tr>\n",
              "    <tr>\n",
              "      <th>language</th>\n",
              "      <td>English,French,Italian,German,Spanish - Spain,...</td>\n",
              "      <td>English,French,Italian,German,Spanish - Spain,...</td>\n",
              "      <td>English,French,Italian,German,Spanish - Spain,...</td>\n",
              "      <td>English,French,Italian,German,Spanish - Spain,...</td>\n",
              "      <td>English,French,Italian,German,Spanish - Spain,...</td>\n",
              "    </tr>\n",
              "    <tr>\n",
              "      <th>metacriticts</th>\n",
              "      <td>88.0</td>\n",
              "      <td>93.0</td>\n",
              "      <td>94.0</td>\n",
              "      <td>96.0</td>\n",
              "      <td>NaN</td>\n",
              "    </tr>\n",
              "    <tr>\n",
              "      <th>tags_list</th>\n",
              "      <td>[Free to Play, Battle Royale, Multiplayer, Sho...</td>\n",
              "      <td>[Action, Adventure, Singleplayer, Story Rich, ...</td>\n",
              "      <td>[Souls-like, Relaxing, Dark Fantasy, RPG, Diff...</td>\n",
              "      <td>[Open World, Action, Multiplayer, Automobile S...</td>\n",
              "      <td>[Racing, Open World, Driving, Multiplayer, Aut...</td>\n",
              "    </tr>\n",
              "    <tr>\n",
              "      <th>tags_count</th>\n",
              "      <td>20</td>\n",
              "      <td>20</td>\n",
              "      <td>20</td>\n",
              "      <td>20</td>\n",
              "      <td>20</td>\n",
              "    </tr>\n",
              "    <tr>\n",
              "      <th>reviews_count</th>\n",
              "      <td>469045</td>\n",
              "      <td>34533</td>\n",
              "      <td>381880</td>\n",
              "      <td>1226760</td>\n",
              "      <td>70919</td>\n",
              "    </tr>\n",
              "    <tr>\n",
              "      <th>release_day</th>\n",
              "      <td>4</td>\n",
              "      <td>14</td>\n",
              "      <td>24</td>\n",
              "      <td>13</td>\n",
              "      <td>8</td>\n",
              "    </tr>\n",
              "    <tr>\n",
              "      <th>release_month</th>\n",
              "      <td>11</td>\n",
              "      <td>1</td>\n",
              "      <td>2</td>\n",
              "      <td>4</td>\n",
              "      <td>11</td>\n",
              "    </tr>\n",
              "    <tr>\n",
              "      <th>release_year</th>\n",
              "      <td>2020</td>\n",
              "      <td>2022</td>\n",
              "      <td>2022</td>\n",
              "      <td>2015</td>\n",
              "      <td>2021</td>\n",
              "    </tr>\n",
              "    <tr>\n",
              "      <th>days_since_release</th>\n",
              "      <td>594</td>\n",
              "      <td>158</td>\n",
              "      <td>117</td>\n",
              "      <td>2626</td>\n",
              "      <td>225</td>\n",
              "    </tr>\n",
              "  </tbody>\n",
              "</table>\n",
              "</div>\n",
              "      <button class=\"colab-df-convert\" onclick=\"convertToInteractive('df-03621a8f-8ee6-42a7-879b-dee43bf1651d')\"\n",
              "              title=\"Convert this dataframe to an interactive table.\"\n",
              "              style=\"display:none;\">\n",
              "        \n",
              "  <svg xmlns=\"http://www.w3.org/2000/svg\" height=\"24px\"viewBox=\"0 0 24 24\"\n",
              "       width=\"24px\">\n",
              "    <path d=\"M0 0h24v24H0V0z\" fill=\"none\"/>\n",
              "    <path d=\"M18.56 5.44l.94 2.06.94-2.06 2.06-.94-2.06-.94-.94-2.06-.94 2.06-2.06.94zm-11 1L8.5 8.5l.94-2.06 2.06-.94-2.06-.94L8.5 2.5l-.94 2.06-2.06.94zm10 10l.94 2.06.94-2.06 2.06-.94-2.06-.94-.94-2.06-.94 2.06-2.06.94z\"/><path d=\"M17.41 7.96l-1.37-1.37c-.4-.4-.92-.59-1.43-.59-.52 0-1.04.2-1.43.59L10.3 9.45l-7.72 7.72c-.78.78-.78 2.05 0 2.83L4 21.41c.39.39.9.59 1.41.59.51 0 1.02-.2 1.41-.59l7.78-7.78 2.81-2.81c.8-.78.8-2.07 0-2.86zM5.41 20L4 18.59l7.72-7.72 1.47 1.35L5.41 20z\"/>\n",
              "  </svg>\n",
              "      </button>\n",
              "      \n",
              "  <style>\n",
              "    .colab-df-container {\n",
              "      display:flex;\n",
              "      flex-wrap:wrap;\n",
              "      gap: 12px;\n",
              "    }\n",
              "\n",
              "    .colab-df-convert {\n",
              "      background-color: #E8F0FE;\n",
              "      border: none;\n",
              "      border-radius: 50%;\n",
              "      cursor: pointer;\n",
              "      display: none;\n",
              "      fill: #1967D2;\n",
              "      height: 32px;\n",
              "      padding: 0 0 0 0;\n",
              "      width: 32px;\n",
              "    }\n",
              "\n",
              "    .colab-df-convert:hover {\n",
              "      background-color: #E2EBFA;\n",
              "      box-shadow: 0px 1px 2px rgba(60, 64, 67, 0.3), 0px 1px 3px 1px rgba(60, 64, 67, 0.15);\n",
              "      fill: #174EA6;\n",
              "    }\n",
              "\n",
              "    [theme=dark] .colab-df-convert {\n",
              "      background-color: #3B4455;\n",
              "      fill: #D2E3FC;\n",
              "    }\n",
              "\n",
              "    [theme=dark] .colab-df-convert:hover {\n",
              "      background-color: #434B5C;\n",
              "      box-shadow: 0px 1px 3px 1px rgba(0, 0, 0, 0.15);\n",
              "      filter: drop-shadow(0px 1px 2px rgba(0, 0, 0, 0.3));\n",
              "      fill: #FFFFFF;\n",
              "    }\n",
              "  </style>\n",
              "\n",
              "      <script>\n",
              "        const buttonEl =\n",
              "          document.querySelector('#df-03621a8f-8ee6-42a7-879b-dee43bf1651d button.colab-df-convert');\n",
              "        buttonEl.style.display =\n",
              "          google.colab.kernel.accessAllowed ? 'block' : 'none';\n",
              "\n",
              "        async function convertToInteractive(key) {\n",
              "          const element = document.querySelector('#df-03621a8f-8ee6-42a7-879b-dee43bf1651d');\n",
              "          const dataTable =\n",
              "            await google.colab.kernel.invokeFunction('convertToInteractive',\n",
              "                                                     [key], {});\n",
              "          if (!dataTable) return;\n",
              "\n",
              "          const docLinkHtml = 'Like what you see? Visit the ' +\n",
              "            '<a target=\"_blank\" href=https://colab.research.google.com/notebooks/data_table.ipynb>data table notebook</a>'\n",
              "            + ' to learn more about interactive tables.';\n",
              "          element.innerHTML = '';\n",
              "          dataTable['output_type'] = 'display_data';\n",
              "          await google.colab.output.renderOutput(dataTable, element);\n",
              "          const docLink = document.createElement('div');\n",
              "          docLink.innerHTML = docLinkHtml;\n",
              "          element.appendChild(docLink);\n",
              "        }\n",
              "      </script>\n",
              "    </div>\n",
              "  </div>\n",
              "  "
            ]
          },
          "metadata": {},
          "execution_count": 883
        }
      ],
      "source": [
        "dsn.head().T"
      ]
    },
    {
      "cell_type": "code",
      "execution_count": null,
      "metadata": {
        "colab": {
          "base_uri": "https://localhost:8080/"
        },
        "id": "BdbpBOoCO7aD",
        "outputId": "e4c7e746-b1dd-44dd-9e4a-99bba8b5ba68"
      },
      "outputs": [
        {
          "output_type": "execute_result",
          "data": {
            "text/plain": [
              "      reviews_count  days_since_release                             dupl_check\n",
              "1639           5275                 784   StrategyTurn-BasedTurn-Based Tactics\n",
              "626            3188                1296   StrategyTurn-BasedTurn-Based Tactics\n",
              "4633          56957                2329  StrategyTurn-BasedTurn-Based Strategy\n",
              "2077           3875                5718  StrategyTurn-BasedTurn-Based Strategy\n",
              "3435         112856                4291  StrategyTurn-BasedTurn-Based Strategy\n",
              "...             ...                 ...                                    ...\n",
              "2109            146                 733               2D FighterActionFighting\n",
              "867            4333                 265                  2D FighterActionAnime\n",
              "1345           2566                 944                  2D FighterActionAnime\n",
              "4632           4687                 830                  2D FighterActionAnime\n",
              "561            1787                  97                  2D FighterActionAnime\n",
              "\n",
              "[2336 rows x 3 columns]"
            ],
            "text/html": [
              "\n",
              "  <div id=\"df-7eb35577-4786-4edb-a582-8d846a0a3b91\">\n",
              "    <div class=\"colab-df-container\">\n",
              "      <div>\n",
              "<style scoped>\n",
              "    .dataframe tbody tr th:only-of-type {\n",
              "        vertical-align: middle;\n",
              "    }\n",
              "\n",
              "    .dataframe tbody tr th {\n",
              "        vertical-align: top;\n",
              "    }\n",
              "\n",
              "    .dataframe thead th {\n",
              "        text-align: right;\n",
              "    }\n",
              "</style>\n",
              "<table border=\"1\" class=\"dataframe\">\n",
              "  <thead>\n",
              "    <tr style=\"text-align: right;\">\n",
              "      <th></th>\n",
              "      <th>reviews_count</th>\n",
              "      <th>days_since_release</th>\n",
              "      <th>dupl_check</th>\n",
              "    </tr>\n",
              "  </thead>\n",
              "  <tbody>\n",
              "    <tr>\n",
              "      <th>1639</th>\n",
              "      <td>5275</td>\n",
              "      <td>784</td>\n",
              "      <td>StrategyTurn-BasedTurn-Based Tactics</td>\n",
              "    </tr>\n",
              "    <tr>\n",
              "      <th>626</th>\n",
              "      <td>3188</td>\n",
              "      <td>1296</td>\n",
              "      <td>StrategyTurn-BasedTurn-Based Tactics</td>\n",
              "    </tr>\n",
              "    <tr>\n",
              "      <th>4633</th>\n",
              "      <td>56957</td>\n",
              "      <td>2329</td>\n",
              "      <td>StrategyTurn-BasedTurn-Based Strategy</td>\n",
              "    </tr>\n",
              "    <tr>\n",
              "      <th>2077</th>\n",
              "      <td>3875</td>\n",
              "      <td>5718</td>\n",
              "      <td>StrategyTurn-BasedTurn-Based Strategy</td>\n",
              "    </tr>\n",
              "    <tr>\n",
              "      <th>3435</th>\n",
              "      <td>112856</td>\n",
              "      <td>4291</td>\n",
              "      <td>StrategyTurn-BasedTurn-Based Strategy</td>\n",
              "    </tr>\n",
              "    <tr>\n",
              "      <th>...</th>\n",
              "      <td>...</td>\n",
              "      <td>...</td>\n",
              "      <td>...</td>\n",
              "    </tr>\n",
              "    <tr>\n",
              "      <th>2109</th>\n",
              "      <td>146</td>\n",
              "      <td>733</td>\n",
              "      <td>2D FighterActionFighting</td>\n",
              "    </tr>\n",
              "    <tr>\n",
              "      <th>867</th>\n",
              "      <td>4333</td>\n",
              "      <td>265</td>\n",
              "      <td>2D FighterActionAnime</td>\n",
              "    </tr>\n",
              "    <tr>\n",
              "      <th>1345</th>\n",
              "      <td>2566</td>\n",
              "      <td>944</td>\n",
              "      <td>2D FighterActionAnime</td>\n",
              "    </tr>\n",
              "    <tr>\n",
              "      <th>4632</th>\n",
              "      <td>4687</td>\n",
              "      <td>830</td>\n",
              "      <td>2D FighterActionAnime</td>\n",
              "    </tr>\n",
              "    <tr>\n",
              "      <th>561</th>\n",
              "      <td>1787</td>\n",
              "      <td>97</td>\n",
              "      <td>2D FighterActionAnime</td>\n",
              "    </tr>\n",
              "  </tbody>\n",
              "</table>\n",
              "<p>2336 rows × 3 columns</p>\n",
              "</div>\n",
              "      <button class=\"colab-df-convert\" onclick=\"convertToInteractive('df-7eb35577-4786-4edb-a582-8d846a0a3b91')\"\n",
              "              title=\"Convert this dataframe to an interactive table.\"\n",
              "              style=\"display:none;\">\n",
              "        \n",
              "  <svg xmlns=\"http://www.w3.org/2000/svg\" height=\"24px\"viewBox=\"0 0 24 24\"\n",
              "       width=\"24px\">\n",
              "    <path d=\"M0 0h24v24H0V0z\" fill=\"none\"/>\n",
              "    <path d=\"M18.56 5.44l.94 2.06.94-2.06 2.06-.94-2.06-.94-.94-2.06-.94 2.06-2.06.94zm-11 1L8.5 8.5l.94-2.06 2.06-.94-2.06-.94L8.5 2.5l-.94 2.06-2.06.94zm10 10l.94 2.06.94-2.06 2.06-.94-2.06-.94-.94-2.06-.94 2.06-2.06.94z\"/><path d=\"M17.41 7.96l-1.37-1.37c-.4-.4-.92-.59-1.43-.59-.52 0-1.04.2-1.43.59L10.3 9.45l-7.72 7.72c-.78.78-.78 2.05 0 2.83L4 21.41c.39.39.9.59 1.41.59.51 0 1.02-.2 1.41-.59l7.78-7.78 2.81-2.81c.8-.78.8-2.07 0-2.86zM5.41 20L4 18.59l7.72-7.72 1.47 1.35L5.41 20z\"/>\n",
              "  </svg>\n",
              "      </button>\n",
              "      \n",
              "  <style>\n",
              "    .colab-df-container {\n",
              "      display:flex;\n",
              "      flex-wrap:wrap;\n",
              "      gap: 12px;\n",
              "    }\n",
              "\n",
              "    .colab-df-convert {\n",
              "      background-color: #E8F0FE;\n",
              "      border: none;\n",
              "      border-radius: 50%;\n",
              "      cursor: pointer;\n",
              "      display: none;\n",
              "      fill: #1967D2;\n",
              "      height: 32px;\n",
              "      padding: 0 0 0 0;\n",
              "      width: 32px;\n",
              "    }\n",
              "\n",
              "    .colab-df-convert:hover {\n",
              "      background-color: #E2EBFA;\n",
              "      box-shadow: 0px 1px 2px rgba(60, 64, 67, 0.3), 0px 1px 3px 1px rgba(60, 64, 67, 0.15);\n",
              "      fill: #174EA6;\n",
              "    }\n",
              "\n",
              "    [theme=dark] .colab-df-convert {\n",
              "      background-color: #3B4455;\n",
              "      fill: #D2E3FC;\n",
              "    }\n",
              "\n",
              "    [theme=dark] .colab-df-convert:hover {\n",
              "      background-color: #434B5C;\n",
              "      box-shadow: 0px 1px 3px 1px rgba(0, 0, 0, 0.15);\n",
              "      filter: drop-shadow(0px 1px 2px rgba(0, 0, 0, 0.3));\n",
              "      fill: #FFFFFF;\n",
              "    }\n",
              "  </style>\n",
              "\n",
              "      <script>\n",
              "        const buttonEl =\n",
              "          document.querySelector('#df-7eb35577-4786-4edb-a582-8d846a0a3b91 button.colab-df-convert');\n",
              "        buttonEl.style.display =\n",
              "          google.colab.kernel.accessAllowed ? 'block' : 'none';\n",
              "\n",
              "        async function convertToInteractive(key) {\n",
              "          const element = document.querySelector('#df-7eb35577-4786-4edb-a582-8d846a0a3b91');\n",
              "          const dataTable =\n",
              "            await google.colab.kernel.invokeFunction('convertToInteractive',\n",
              "                                                     [key], {});\n",
              "          if (!dataTable) return;\n",
              "\n",
              "          const docLinkHtml = 'Like what you see? Visit the ' +\n",
              "            '<a target=\"_blank\" href=https://colab.research.google.com/notebooks/data_table.ipynb>data table notebook</a>'\n",
              "            + ' to learn more about interactive tables.';\n",
              "          element.innerHTML = '';\n",
              "          dataTable['output_type'] = 'display_data';\n",
              "          await google.colab.output.renderOutput(dataTable, element);\n",
              "          const docLink = document.createElement('div');\n",
              "          docLink.innerHTML = docLinkHtml;\n",
              "          element.appendChild(docLink);\n",
              "        }\n",
              "      </script>\n",
              "    </div>\n",
              "  </div>\n",
              "  "
            ]
          },
          "metadata": {},
          "execution_count": 884
        }
      ],
      "source": [
        "# Проверим на дупликаты исключительно по первым 3-м тагам\n",
        "dupl_ds = dsn.copy()\n",
        "dupl_ds['dupl_check'] =  dupl_ds.tags_list.apply(lambda x: ''.join(sorted(x[:3])))\n",
        "dupl_ds[dupl_ds.duplicated(subset=['dupl_check'],keep=False)][['reviews_count','days_since_release','dupl_check']].sort_values(by='dupl_check' ,ascending=False)"
      ]
    },
    {
      "cell_type": "code",
      "execution_count": null,
      "metadata": {
        "colab": {
          "base_uri": "https://localhost:8080/"
        },
        "id": "IYij2crUO1fz",
        "outputId": "086a6f8d-af34-491a-8aa1-bff581b7c097"
      },
      "outputs": [
        {
          "output_type": "execute_result",
          "data": {
            "text/plain": [
              "5"
            ]
          },
          "metadata": {},
          "execution_count": 885
        }
      ],
      "source": [
        "  #Как видим количество ревью у нас разное, однако первые 3 тага точно таки же\n",
        "#Что помешает нам проследить взаимосвязь между ревью и тагами в изоляции\n",
        "#Поэтому удалим все такие игры, чтобы все комбинации тагов в датасете были уникальны\n",
        "#А количество ревью и дней с момента выхода игры для единственной оставшейся записи-не дубликата,\n",
        "# сделаем как среднее между ним и удаленными дупликатами\n",
        "dup_sums = dupl_ds[dupl_ds.duplicated(subset=['dupl_check'],keep=False)].sort_values(by='dupl_check' ,ascending=False).groupby(['dupl_check']).sum()\n",
        "tag_duplicats = dupl_ds[dupl_ds.duplicated(subset=['dupl_check'],keep=False)].sort_values(by='dupl_check' ,ascending=False)\n",
        "tag_duplicats_count = dupl_ds[dupl_ds.duplicated(subset=['dupl_check'],keep=False)].sort_values(by='dupl_check' ,ascending=False).groupby(['dupl_check']).size()\n",
        "tag_duplicats_count['ActionAdventureCasual']"
      ]
    },
    {
      "cell_type": "code",
      "execution_count": null,
      "metadata": {
        "colab": {
          "base_uri": "https://localhost:8080/"
        },
        "id": "e-O7xYKnVYIN",
        "outputId": "c0101cbe-4b98-403f-b964-f04fb9f9af2b"
      },
      "outputs": [
        {
          "output_type": "execute_result",
          "data": {
            "text/plain": [
              "0    Battle RoyaleFree to PlayMultiplayer\n",
              "1             ActionAdventureSingleplayer\n",
              "2          Dark FantasyRelaxingSouls-like\n",
              "3             ActionMultiplayerOpen World\n",
              "4                 DrivingOpen WorldRacing\n",
              "Name: dupl_check, dtype: object"
            ]
          },
          "metadata": {},
          "execution_count": 886
        }
      ],
      "source": [
        "dsn['dupl_check'] = dsn.tags_list.apply(lambda x: ''.join(sorted(x[:3])))\n",
        "dsn['dupl_check'].head()"
      ]
    },
    {
      "cell_type": "code",
      "execution_count": null,
      "metadata": {
        "colab": {
          "base_uri": "https://localhost:8080/"
        },
        "id": "tT6s40KVV2s_",
        "outputId": "85a22296-9d61-43df-bf41-ed16a5b491b4"
      },
      "outputs": [
        {
          "output_type": "execute_result",
          "data": {
            "text/plain": [
              "Empty DataFrame\n",
              "Columns: [title, url, image, release_date, platforms, discount_rate, original_price, discounted_price, developer, publisher, overall_reviews, recent_reviews, whole_reviews, description, tags, genre, processor, ram, graphic_card, rating, language, metacriticts, tags_list, tags_count, reviews_count, release_day, release_month, release_year, days_since_release, dupl_check]\n",
              "Index: []\n",
              "\n",
              "[0 rows x 30 columns]"
            ],
            "text/html": [
              "\n",
              "  <div id=\"df-1d9925a6-08a0-46da-a7db-3b7a4396ea7e\">\n",
              "    <div class=\"colab-df-container\">\n",
              "      <div>\n",
              "<style scoped>\n",
              "    .dataframe tbody tr th:only-of-type {\n",
              "        vertical-align: middle;\n",
              "    }\n",
              "\n",
              "    .dataframe tbody tr th {\n",
              "        vertical-align: top;\n",
              "    }\n",
              "\n",
              "    .dataframe thead th {\n",
              "        text-align: right;\n",
              "    }\n",
              "</style>\n",
              "<table border=\"1\" class=\"dataframe\">\n",
              "  <thead>\n",
              "    <tr style=\"text-align: right;\">\n",
              "      <th></th>\n",
              "      <th>title</th>\n",
              "      <th>url</th>\n",
              "      <th>image</th>\n",
              "      <th>release_date</th>\n",
              "      <th>platforms</th>\n",
              "      <th>discount_rate</th>\n",
              "      <th>original_price</th>\n",
              "      <th>discounted_price</th>\n",
              "      <th>developer</th>\n",
              "      <th>publisher</th>\n",
              "      <th>...</th>\n",
              "      <th>language</th>\n",
              "      <th>metacriticts</th>\n",
              "      <th>tags_list</th>\n",
              "      <th>tags_count</th>\n",
              "      <th>reviews_count</th>\n",
              "      <th>release_day</th>\n",
              "      <th>release_month</th>\n",
              "      <th>release_year</th>\n",
              "      <th>days_since_release</th>\n",
              "      <th>dupl_check</th>\n",
              "    </tr>\n",
              "  </thead>\n",
              "  <tbody>\n",
              "  </tbody>\n",
              "</table>\n",
              "<p>0 rows × 30 columns</p>\n",
              "</div>\n",
              "      <button class=\"colab-df-convert\" onclick=\"convertToInteractive('df-1d9925a6-08a0-46da-a7db-3b7a4396ea7e')\"\n",
              "              title=\"Convert this dataframe to an interactive table.\"\n",
              "              style=\"display:none;\">\n",
              "        \n",
              "  <svg xmlns=\"http://www.w3.org/2000/svg\" height=\"24px\"viewBox=\"0 0 24 24\"\n",
              "       width=\"24px\">\n",
              "    <path d=\"M0 0h24v24H0V0z\" fill=\"none\"/>\n",
              "    <path d=\"M18.56 5.44l.94 2.06.94-2.06 2.06-.94-2.06-.94-.94-2.06-.94 2.06-2.06.94zm-11 1L8.5 8.5l.94-2.06 2.06-.94-2.06-.94L8.5 2.5l-.94 2.06-2.06.94zm10 10l.94 2.06.94-2.06 2.06-.94-2.06-.94-.94-2.06-.94 2.06-2.06.94z\"/><path d=\"M17.41 7.96l-1.37-1.37c-.4-.4-.92-.59-1.43-.59-.52 0-1.04.2-1.43.59L10.3 9.45l-7.72 7.72c-.78.78-.78 2.05 0 2.83L4 21.41c.39.39.9.59 1.41.59.51 0 1.02-.2 1.41-.59l7.78-7.78 2.81-2.81c.8-.78.8-2.07 0-2.86zM5.41 20L4 18.59l7.72-7.72 1.47 1.35L5.41 20z\"/>\n",
              "  </svg>\n",
              "      </button>\n",
              "      \n",
              "  <style>\n",
              "    .colab-df-container {\n",
              "      display:flex;\n",
              "      flex-wrap:wrap;\n",
              "      gap: 12px;\n",
              "    }\n",
              "\n",
              "    .colab-df-convert {\n",
              "      background-color: #E8F0FE;\n",
              "      border: none;\n",
              "      border-radius: 50%;\n",
              "      cursor: pointer;\n",
              "      display: none;\n",
              "      fill: #1967D2;\n",
              "      height: 32px;\n",
              "      padding: 0 0 0 0;\n",
              "      width: 32px;\n",
              "    }\n",
              "\n",
              "    .colab-df-convert:hover {\n",
              "      background-color: #E2EBFA;\n",
              "      box-shadow: 0px 1px 2px rgba(60, 64, 67, 0.3), 0px 1px 3px 1px rgba(60, 64, 67, 0.15);\n",
              "      fill: #174EA6;\n",
              "    }\n",
              "\n",
              "    [theme=dark] .colab-df-convert {\n",
              "      background-color: #3B4455;\n",
              "      fill: #D2E3FC;\n",
              "    }\n",
              "\n",
              "    [theme=dark] .colab-df-convert:hover {\n",
              "      background-color: #434B5C;\n",
              "      box-shadow: 0px 1px 3px 1px rgba(0, 0, 0, 0.15);\n",
              "      filter: drop-shadow(0px 1px 2px rgba(0, 0, 0, 0.3));\n",
              "      fill: #FFFFFF;\n",
              "    }\n",
              "  </style>\n",
              "\n",
              "      <script>\n",
              "        const buttonEl =\n",
              "          document.querySelector('#df-1d9925a6-08a0-46da-a7db-3b7a4396ea7e button.colab-df-convert');\n",
              "        buttonEl.style.display =\n",
              "          google.colab.kernel.accessAllowed ? 'block' : 'none';\n",
              "\n",
              "        async function convertToInteractive(key) {\n",
              "          const element = document.querySelector('#df-1d9925a6-08a0-46da-a7db-3b7a4396ea7e');\n",
              "          const dataTable =\n",
              "            await google.colab.kernel.invokeFunction('convertToInteractive',\n",
              "                                                     [key], {});\n",
              "          if (!dataTable) return;\n",
              "\n",
              "          const docLinkHtml = 'Like what you see? Visit the ' +\n",
              "            '<a target=\"_blank\" href=https://colab.research.google.com/notebooks/data_table.ipynb>data table notebook</a>'\n",
              "            + ' to learn more about interactive tables.';\n",
              "          element.innerHTML = '';\n",
              "          dataTable['output_type'] = 'display_data';\n",
              "          await google.colab.output.renderOutput(dataTable, element);\n",
              "          const docLink = document.createElement('div');\n",
              "          docLink.innerHTML = docLinkHtml;\n",
              "          element.appendChild(docLink);\n",
              "        }\n",
              "      </script>\n",
              "    </div>\n",
              "  </div>\n",
              "  "
            ]
          },
          "metadata": {},
          "execution_count": 887
        }
      ],
      "source": [
        "dsn_d = dsn.copy()\n",
        "\n",
        "dsn_d.drop_duplicates(subset=['dupl_check'], inplace=True)\n",
        "dsn_d[dsn_d.duplicated(subset=['dupl_check'])].sort_values(by='dupl_check' ,ascending=False)"
      ]
    },
    {
      "cell_type": "code",
      "execution_count": null,
      "metadata": {
        "colab": {
          "base_uri": "https://localhost:8080/"
        },
        "id": "f_cVvZirszd3",
        "outputId": "29a57001-26ff-4015-b660-f8538a586acc"
      },
      "outputs": [
        {
          "output_type": "execute_result",
          "data": {
            "text/plain": [
              "(1871.8, 601.4)"
            ]
          },
          "metadata": {},
          "execution_count": 888
        }
      ],
      "source": [
        "#А теперь, вставим вместо значений review_count и days_since_release наших бывших дупликатов их среднее\n",
        "dsn_d.reviews_count = dsn_d.reviews_count.astype(float)\n",
        "ex_duplicats = tag_duplicats[tag_duplicats.duplicated(subset=['dupl_check'])].dupl_check.unique()\n",
        "ex_duplicats_rev_count = dup_sums.reviews_count[ex_duplicats]/tag_duplicats_count[ex_duplicats]\n",
        "ex_duplicats_days_rel = dup_sums.days_since_release[ex_duplicats]/tag_duplicats_count[ex_duplicats]\n",
        "ex_duplicats_rev_count['ActionAdventureCasual'], ex_duplicats_days_rel['ActionAdventureCasual']"
      ]
    },
    {
      "cell_type": "code",
      "execution_count": null,
      "metadata": {
        "colab": {
          "base_uri": "https://localhost:8080/"
        },
        "id": "vHexaHeUs0Xi",
        "outputId": "2ca672d1-ac96-4ffc-ca3b-c77614f4a83f"
      },
      "outputs": [
        {
          "output_type": "stream",
          "name": "stdout",
          "text": [
            "<class 'pandas.core.series.Series'>\n",
            "Int64Index: 3051 entries, 0 to 4738\n",
            "Series name: reviews_count\n",
            "Non-Null Count  Dtype  \n",
            "--------------  -----  \n",
            "3051 non-null   float64\n",
            "dtypes: float64(1)\n",
            "memory usage: 47.7 KB\n"
          ]
        }
      ],
      "source": [
        "dsn_d.reviews_count.info()"
      ]
    },
    {
      "cell_type": "code",
      "execution_count": null,
      "metadata": {
        "colab": {
          "base_uri": "https://localhost:8080/"
        },
        "id": "a_9RkkGGs2e7",
        "outputId": "4975beef-1b2d-4b77-ff22-46c866eac44a"
      },
      "outputs": [
        {
          "output_type": "execute_result",
          "data": {
            "text/plain": [
              "count       3051.00\n",
              "mean       13680.17\n",
              "std        67533.00\n",
              "min           10.00\n",
              "25%          738.00\n",
              "50%         2312.00\n",
              "75%         7278.00\n",
              "max      2035559.00\n",
              "Name: reviews_count, dtype: float64"
            ]
          },
          "metadata": {},
          "execution_count": 890
        }
      ],
      "source": [
        "dsn_d.reviews_count.describe().round(2)"
      ]
    },
    {
      "cell_type": "code",
      "execution_count": null,
      "metadata": {
        "colab": {
          "base_uri": "https://localhost:8080/"
        },
        "id": "Clb4UQAns4Gs",
        "outputId": "7220a229-7975-4e91-fcee-a914a51ca046"
      },
      "outputs": [
        {
          "output_type": "execute_result",
          "data": {
            "text/plain": [
              "count       3051.00\n",
              "mean       13680.17\n",
              "std        67533.00\n",
              "min           10.00\n",
              "25%          738.00\n",
              "50%         2312.00\n",
              "75%         7278.00\n",
              "max      2035559.00\n",
              "Name: reviews_count, dtype: float64"
            ]
          },
          "metadata": {},
          "execution_count": 891
        }
      ],
      "source": [
        "for dpl in ex_duplicats:\n",
        "  dsn_d[dsn_d.dupl_check == dpl].review_count = ex_duplicats\n",
        "dsn_d.reviews_count.describe().round(2)"
      ]
    },
    {
      "cell_type": "code",
      "execution_count": null,
      "metadata": {
        "colab": {
          "base_uri": "https://localhost:8080/"
        },
        "id": "25q6MdVgs5z9",
        "outputId": "ac9bf442-c7db-4b1c-d012-45b9f076033f"
      },
      "outputs": [
        {
          "output_type": "execute_result",
          "data": {
            "text/plain": [
              "0"
            ]
          },
          "metadata": {},
          "execution_count": 892
        }
      ],
      "source": [
        "dsn_d.duplicated(subset=['dupl_check']).sum()"
      ]
    },
    {
      "cell_type": "code",
      "execution_count": null,
      "metadata": {
        "colab": {
          "base_uri": "https://localhost:8080/"
        },
        "id": "_Qprgw86s8r8",
        "outputId": "8891bec7-d299-4c23-faf5-687044eebdb0"
      },
      "outputs": [
        {
          "output_type": "execute_result",
          "data": {
            "text/plain": [
              "(3051, 29)"
            ]
          },
          "metadata": {},
          "execution_count": 893
        }
      ],
      "source": [
        "dsn = dsn_d.copy()\n",
        "dsn.drop(columns=['dupl_check'], inplace=True)\n",
        "dsn.shape"
      ]
    },
    {
      "cell_type": "code",
      "execution_count": null,
      "metadata": {
        "colab": {
          "base_uri": "https://localhost:8080/"
        },
        "id": "U-5cWwpmNFtM",
        "outputId": "fe173a92-10fd-4ab9-b174-acddad762b3b"
      },
      "outputs": [
        {
          "output_type": "execute_result",
          "data": {
            "text/plain": [
              "      days_since_release  reviews_count  reviews_per_30d\n",
              "0                    594       469045.0         23689.14\n",
              "1                    158        34533.0          6556.90\n",
              "2                    117       381880.0         97917.95\n",
              "3                   2626      1226760.0         14014.78\n",
              "4                    225        70919.0          9455.87\n",
              "...                  ...            ...              ...\n",
              "4731                 138        73950.0         16076.09\n",
              "4735                1856        99232.0          1603.97\n",
              "4736                 769       109673.0          4278.53\n",
              "4737                3375       480267.0          4269.04\n",
              "4738                  35        33032.0         28313.14\n",
              "\n",
              "[3051 rows x 3 columns]"
            ],
            "text/html": [
              "\n",
              "  <div id=\"df-a6ac3369-c65e-47f6-bd43-8154ce1c6120\">\n",
              "    <div class=\"colab-df-container\">\n",
              "      <div>\n",
              "<style scoped>\n",
              "    .dataframe tbody tr th:only-of-type {\n",
              "        vertical-align: middle;\n",
              "    }\n",
              "\n",
              "    .dataframe tbody tr th {\n",
              "        vertical-align: top;\n",
              "    }\n",
              "\n",
              "    .dataframe thead th {\n",
              "        text-align: right;\n",
              "    }\n",
              "</style>\n",
              "<table border=\"1\" class=\"dataframe\">\n",
              "  <thead>\n",
              "    <tr style=\"text-align: right;\">\n",
              "      <th></th>\n",
              "      <th>days_since_release</th>\n",
              "      <th>reviews_count</th>\n",
              "      <th>reviews_per_30d</th>\n",
              "    </tr>\n",
              "  </thead>\n",
              "  <tbody>\n",
              "    <tr>\n",
              "      <th>0</th>\n",
              "      <td>594</td>\n",
              "      <td>469045.0</td>\n",
              "      <td>23689.14</td>\n",
              "    </tr>\n",
              "    <tr>\n",
              "      <th>1</th>\n",
              "      <td>158</td>\n",
              "      <td>34533.0</td>\n",
              "      <td>6556.90</td>\n",
              "    </tr>\n",
              "    <tr>\n",
              "      <th>2</th>\n",
              "      <td>117</td>\n",
              "      <td>381880.0</td>\n",
              "      <td>97917.95</td>\n",
              "    </tr>\n",
              "    <tr>\n",
              "      <th>3</th>\n",
              "      <td>2626</td>\n",
              "      <td>1226760.0</td>\n",
              "      <td>14014.78</td>\n",
              "    </tr>\n",
              "    <tr>\n",
              "      <th>4</th>\n",
              "      <td>225</td>\n",
              "      <td>70919.0</td>\n",
              "      <td>9455.87</td>\n",
              "    </tr>\n",
              "    <tr>\n",
              "      <th>...</th>\n",
              "      <td>...</td>\n",
              "      <td>...</td>\n",
              "      <td>...</td>\n",
              "    </tr>\n",
              "    <tr>\n",
              "      <th>4731</th>\n",
              "      <td>138</td>\n",
              "      <td>73950.0</td>\n",
              "      <td>16076.09</td>\n",
              "    </tr>\n",
              "    <tr>\n",
              "      <th>4735</th>\n",
              "      <td>1856</td>\n",
              "      <td>99232.0</td>\n",
              "      <td>1603.97</td>\n",
              "    </tr>\n",
              "    <tr>\n",
              "      <th>4736</th>\n",
              "      <td>769</td>\n",
              "      <td>109673.0</td>\n",
              "      <td>4278.53</td>\n",
              "    </tr>\n",
              "    <tr>\n",
              "      <th>4737</th>\n",
              "      <td>3375</td>\n",
              "      <td>480267.0</td>\n",
              "      <td>4269.04</td>\n",
              "    </tr>\n",
              "    <tr>\n",
              "      <th>4738</th>\n",
              "      <td>35</td>\n",
              "      <td>33032.0</td>\n",
              "      <td>28313.14</td>\n",
              "    </tr>\n",
              "  </tbody>\n",
              "</table>\n",
              "<p>3051 rows × 3 columns</p>\n",
              "</div>\n",
              "      <button class=\"colab-df-convert\" onclick=\"convertToInteractive('df-a6ac3369-c65e-47f6-bd43-8154ce1c6120')\"\n",
              "              title=\"Convert this dataframe to an interactive table.\"\n",
              "              style=\"display:none;\">\n",
              "        \n",
              "  <svg xmlns=\"http://www.w3.org/2000/svg\" height=\"24px\"viewBox=\"0 0 24 24\"\n",
              "       width=\"24px\">\n",
              "    <path d=\"M0 0h24v24H0V0z\" fill=\"none\"/>\n",
              "    <path d=\"M18.56 5.44l.94 2.06.94-2.06 2.06-.94-2.06-.94-.94-2.06-.94 2.06-2.06.94zm-11 1L8.5 8.5l.94-2.06 2.06-.94-2.06-.94L8.5 2.5l-.94 2.06-2.06.94zm10 10l.94 2.06.94-2.06 2.06-.94-2.06-.94-.94-2.06-.94 2.06-2.06.94z\"/><path d=\"M17.41 7.96l-1.37-1.37c-.4-.4-.92-.59-1.43-.59-.52 0-1.04.2-1.43.59L10.3 9.45l-7.72 7.72c-.78.78-.78 2.05 0 2.83L4 21.41c.39.39.9.59 1.41.59.51 0 1.02-.2 1.41-.59l7.78-7.78 2.81-2.81c.8-.78.8-2.07 0-2.86zM5.41 20L4 18.59l7.72-7.72 1.47 1.35L5.41 20z\"/>\n",
              "  </svg>\n",
              "      </button>\n",
              "      \n",
              "  <style>\n",
              "    .colab-df-container {\n",
              "      display:flex;\n",
              "      flex-wrap:wrap;\n",
              "      gap: 12px;\n",
              "    }\n",
              "\n",
              "    .colab-df-convert {\n",
              "      background-color: #E8F0FE;\n",
              "      border: none;\n",
              "      border-radius: 50%;\n",
              "      cursor: pointer;\n",
              "      display: none;\n",
              "      fill: #1967D2;\n",
              "      height: 32px;\n",
              "      padding: 0 0 0 0;\n",
              "      width: 32px;\n",
              "    }\n",
              "\n",
              "    .colab-df-convert:hover {\n",
              "      background-color: #E2EBFA;\n",
              "      box-shadow: 0px 1px 2px rgba(60, 64, 67, 0.3), 0px 1px 3px 1px rgba(60, 64, 67, 0.15);\n",
              "      fill: #174EA6;\n",
              "    }\n",
              "\n",
              "    [theme=dark] .colab-df-convert {\n",
              "      background-color: #3B4455;\n",
              "      fill: #D2E3FC;\n",
              "    }\n",
              "\n",
              "    [theme=dark] .colab-df-convert:hover {\n",
              "      background-color: #434B5C;\n",
              "      box-shadow: 0px 1px 3px 1px rgba(0, 0, 0, 0.15);\n",
              "      filter: drop-shadow(0px 1px 2px rgba(0, 0, 0, 0.3));\n",
              "      fill: #FFFFFF;\n",
              "    }\n",
              "  </style>\n",
              "\n",
              "      <script>\n",
              "        const buttonEl =\n",
              "          document.querySelector('#df-a6ac3369-c65e-47f6-bd43-8154ce1c6120 button.colab-df-convert');\n",
              "        buttonEl.style.display =\n",
              "          google.colab.kernel.accessAllowed ? 'block' : 'none';\n",
              "\n",
              "        async function convertToInteractive(key) {\n",
              "          const element = document.querySelector('#df-a6ac3369-c65e-47f6-bd43-8154ce1c6120');\n",
              "          const dataTable =\n",
              "            await google.colab.kernel.invokeFunction('convertToInteractive',\n",
              "                                                     [key], {});\n",
              "          if (!dataTable) return;\n",
              "\n",
              "          const docLinkHtml = 'Like what you see? Visit the ' +\n",
              "            '<a target=\"_blank\" href=https://colab.research.google.com/notebooks/data_table.ipynb>data table notebook</a>'\n",
              "            + ' to learn more about interactive tables.';\n",
              "          element.innerHTML = '';\n",
              "          dataTable['output_type'] = 'display_data';\n",
              "          await google.colab.output.renderOutput(dataTable, element);\n",
              "          const docLink = document.createElement('div');\n",
              "          docLink.innerHTML = docLinkHtml;\n",
              "          element.appendChild(docLink);\n",
              "        }\n",
              "      </script>\n",
              "    </div>\n",
              "  </div>\n",
              "  "
            ]
          },
          "metadata": {},
          "execution_count": 894
        }
      ],
      "source": [
        "#Итак, давайте расчитаем нашу метрику по которой мы будем оценивать успешность игры\n",
        "#Среднее количество ревью полученных за 30 дней\n",
        "dsn['reviews_per_30d'] = (dsn.reviews_count / dsn.days_since_release) * 30\n",
        "dsn[['days_since_release', 'reviews_count', 'reviews_per_30d']].round(2)"
      ]
    },
    {
      "cell_type": "code",
      "execution_count": null,
      "metadata": {
        "colab": {
          "base_uri": "https://localhost:8080/"
        },
        "id": "rV9mEkMNOW8d",
        "outputId": "c7af94db-f278-4ef0-8eeb-28cad0a41acd"
      },
      "outputs": [
        {
          "output_type": "execute_result",
          "data": {
            "text/plain": [
              "       reviews_per_30d\n",
              "count          3050.00\n",
              "mean            507.21\n",
              "std            2512.16\n",
              "min               0.65\n",
              "25%              35.93\n",
              "50%              82.71\n",
              "75%             260.41\n",
              "max           97917.95"
            ],
            "text/html": [
              "\n",
              "  <div id=\"df-9c7e0aa1-31ca-4f15-820b-1226facb6d53\">\n",
              "    <div class=\"colab-df-container\">\n",
              "      <div>\n",
              "<style scoped>\n",
              "    .dataframe tbody tr th:only-of-type {\n",
              "        vertical-align: middle;\n",
              "    }\n",
              "\n",
              "    .dataframe tbody tr th {\n",
              "        vertical-align: top;\n",
              "    }\n",
              "\n",
              "    .dataframe thead th {\n",
              "        text-align: right;\n",
              "    }\n",
              "</style>\n",
              "<table border=\"1\" class=\"dataframe\">\n",
              "  <thead>\n",
              "    <tr style=\"text-align: right;\">\n",
              "      <th></th>\n",
              "      <th>reviews_per_30d</th>\n",
              "    </tr>\n",
              "  </thead>\n",
              "  <tbody>\n",
              "    <tr>\n",
              "      <th>count</th>\n",
              "      <td>3050.00</td>\n",
              "    </tr>\n",
              "    <tr>\n",
              "      <th>mean</th>\n",
              "      <td>507.21</td>\n",
              "    </tr>\n",
              "    <tr>\n",
              "      <th>std</th>\n",
              "      <td>2512.16</td>\n",
              "    </tr>\n",
              "    <tr>\n",
              "      <th>min</th>\n",
              "      <td>0.65</td>\n",
              "    </tr>\n",
              "    <tr>\n",
              "      <th>25%</th>\n",
              "      <td>35.93</td>\n",
              "    </tr>\n",
              "    <tr>\n",
              "      <th>50%</th>\n",
              "      <td>82.71</td>\n",
              "    </tr>\n",
              "    <tr>\n",
              "      <th>75%</th>\n",
              "      <td>260.41</td>\n",
              "    </tr>\n",
              "    <tr>\n",
              "      <th>max</th>\n",
              "      <td>97917.95</td>\n",
              "    </tr>\n",
              "  </tbody>\n",
              "</table>\n",
              "</div>\n",
              "      <button class=\"colab-df-convert\" onclick=\"convertToInteractive('df-9c7e0aa1-31ca-4f15-820b-1226facb6d53')\"\n",
              "              title=\"Convert this dataframe to an interactive table.\"\n",
              "              style=\"display:none;\">\n",
              "        \n",
              "  <svg xmlns=\"http://www.w3.org/2000/svg\" height=\"24px\"viewBox=\"0 0 24 24\"\n",
              "       width=\"24px\">\n",
              "    <path d=\"M0 0h24v24H0V0z\" fill=\"none\"/>\n",
              "    <path d=\"M18.56 5.44l.94 2.06.94-2.06 2.06-.94-2.06-.94-.94-2.06-.94 2.06-2.06.94zm-11 1L8.5 8.5l.94-2.06 2.06-.94-2.06-.94L8.5 2.5l-.94 2.06-2.06.94zm10 10l.94 2.06.94-2.06 2.06-.94-2.06-.94-.94-2.06-.94 2.06-2.06.94z\"/><path d=\"M17.41 7.96l-1.37-1.37c-.4-.4-.92-.59-1.43-.59-.52 0-1.04.2-1.43.59L10.3 9.45l-7.72 7.72c-.78.78-.78 2.05 0 2.83L4 21.41c.39.39.9.59 1.41.59.51 0 1.02-.2 1.41-.59l7.78-7.78 2.81-2.81c.8-.78.8-2.07 0-2.86zM5.41 20L4 18.59l7.72-7.72 1.47 1.35L5.41 20z\"/>\n",
              "  </svg>\n",
              "      </button>\n",
              "      \n",
              "  <style>\n",
              "    .colab-df-container {\n",
              "      display:flex;\n",
              "      flex-wrap:wrap;\n",
              "      gap: 12px;\n",
              "    }\n",
              "\n",
              "    .colab-df-convert {\n",
              "      background-color: #E8F0FE;\n",
              "      border: none;\n",
              "      border-radius: 50%;\n",
              "      cursor: pointer;\n",
              "      display: none;\n",
              "      fill: #1967D2;\n",
              "      height: 32px;\n",
              "      padding: 0 0 0 0;\n",
              "      width: 32px;\n",
              "    }\n",
              "\n",
              "    .colab-df-convert:hover {\n",
              "      background-color: #E2EBFA;\n",
              "      box-shadow: 0px 1px 2px rgba(60, 64, 67, 0.3), 0px 1px 3px 1px rgba(60, 64, 67, 0.15);\n",
              "      fill: #174EA6;\n",
              "    }\n",
              "\n",
              "    [theme=dark] .colab-df-convert {\n",
              "      background-color: #3B4455;\n",
              "      fill: #D2E3FC;\n",
              "    }\n",
              "\n",
              "    [theme=dark] .colab-df-convert:hover {\n",
              "      background-color: #434B5C;\n",
              "      box-shadow: 0px 1px 3px 1px rgba(0, 0, 0, 0.15);\n",
              "      filter: drop-shadow(0px 1px 2px rgba(0, 0, 0, 0.3));\n",
              "      fill: #FFFFFF;\n",
              "    }\n",
              "  </style>\n",
              "\n",
              "      <script>\n",
              "        const buttonEl =\n",
              "          document.querySelector('#df-9c7e0aa1-31ca-4f15-820b-1226facb6d53 button.colab-df-convert');\n",
              "        buttonEl.style.display =\n",
              "          google.colab.kernel.accessAllowed ? 'block' : 'none';\n",
              "\n",
              "        async function convertToInteractive(key) {\n",
              "          const element = document.querySelector('#df-9c7e0aa1-31ca-4f15-820b-1226facb6d53');\n",
              "          const dataTable =\n",
              "            await google.colab.kernel.invokeFunction('convertToInteractive',\n",
              "                                                     [key], {});\n",
              "          if (!dataTable) return;\n",
              "\n",
              "          const docLinkHtml = 'Like what you see? Visit the ' +\n",
              "            '<a target=\"_blank\" href=https://colab.research.google.com/notebooks/data_table.ipynb>data table notebook</a>'\n",
              "            + ' to learn more about interactive tables.';\n",
              "          element.innerHTML = '';\n",
              "          dataTable['output_type'] = 'display_data';\n",
              "          await google.colab.output.renderOutput(dataTable, element);\n",
              "          const docLink = document.createElement('div');\n",
              "          docLink.innerHTML = docLinkHtml;\n",
              "          element.appendChild(docLink);\n",
              "        }\n",
              "      </script>\n",
              "    </div>\n",
              "  </div>\n",
              "  "
            ]
          },
          "metadata": {},
          "execution_count": 895
        }
      ],
      "source": [
        "#Опишем нашу целевую переменную\n",
        "drop_rows(dsn, dsn[dsn.reviews_per_30d == dsn.reviews_per_30d.max()])\n",
        "dsn.reviews_per_30d.describe().to_frame().round(2)"
      ]
    },
    {
      "cell_type": "code",
      "execution_count": null,
      "metadata": {
        "colab": {
          "base_uri": "https://localhost:8080/"
        },
        "id": "EB4ZlZcgPYSI",
        "outputId": "baccd6c6-95b3-4cee-8ded-46bdc4b96095"
      },
      "outputs": [
        {
          "output_type": "execute_result",
          "data": {
            "text/plain": [
              "<Axes: xlabel='reviews_per_30d', ylabel='Count'>"
            ]
          },
          "metadata": {},
          "execution_count": 896
        },
        {
          "output_type": "display_data",
          "data": {
            "text/plain": [
              "<Figure size 504x288 with 1 Axes>"
            ],
            "image/png": "[encoded data removed]"
          },
          "metadata": {}
        }
      ],
      "source": [
        "#Построим гистограмму, слишком большой разброс, попробуем логарифмическое масштабирование\n",
        "sns.set(rc={'figure.figsize':(7,4)})\n",
        "sns.histplot(dsn.reviews_per_30d, log_scale=True, alpha=1)"
      ]
    },
    {
      "cell_type": "code",
      "execution_count": null,
      "metadata": {
        "id": "OqD3_KeNP4hk"
      },
      "outputs": [],
      "source": [
        "#Похоже наша целевая переменная распределена по Пуассону, с длинным хвостом с очень сильным разбросом\n",
        "#Большая часть значений между 10 и 1000"
      ]
    },
    {
      "cell_type": "markdown",
      "metadata": {
        "id": "puJyYHRmdDQL"
      },
      "source": [
        "Наша задача это подать на вход нашим моделям датасет с 3-мя столбцами, каждый содержит уникальный для этой игры таг, и получить на выходе класс успешности этой игры. У нас есть \"словарь\" всех уникальных тагов в нашем датасете и каждая колонка игры с тагом может принять одно из этих значений, при этом в комбинации из 3-х тагов для 1-й игры, они могут быть только уникальны.\n",
        "\n",
        "Однако одно и то же значение может встретиться много раз в рамках 1 колонки по всему датасету. Грубо говоря у нас словарь из уникальных слов и они могут втретится в датасете случайно с повторениями в каждой колонке, однако никогда они не повторятся для 1 ряда, то есть по сути у нас 3 одинаковых категориальных переменных, однако с тем правилом, что они не могут поторить свои значения в рамках одного ряда. \n",
        "\n",
        "Как категориальные переменные, перед подачей в модель их нужно закодировать. У нас 3 категориальные переменные, которые могут каждая принимать 400+ значений, и порядок нам не важен."
      ]
    },
    {
      "cell_type": "code",
      "execution_count": null,
      "metadata": {
        "colab": {
          "base_uri": "https://localhost:8080/"
        },
        "id": "6sRo8rl0TWeD",
        "outputId": "73770076-d62e-4c05-b3f1-15a3cc9a820d"
      },
      "outputs": [
        {
          "output_type": "execute_result",
          "data": {
            "text/plain": [
              "<Axes: >"
            ]
          },
          "metadata": {},
          "execution_count": 898
        },
        {
          "output_type": "display_data",
          "data": {
            "text/plain": [
              "<Figure size 504x288 with 1 Axes>"
            ],
            "image/png": "[encoded data removed]"
          },
          "metadata": {}
        }
      ],
      "source": [
        "#Но пока, давайте поисследуем еще целевую переменную, построим boxplot\n",
        "sns.set(rc={'figure.figsize':(7,4)})\n",
        "sns.boxplot(dsn.reviews_per_30d)"
      ]
    },
    {
      "cell_type": "code",
      "execution_count": null,
      "metadata": {
        "colab": {
          "base_uri": "https://localhost:8080/"
        },
        "id": "Z-jmNn2lb-Wv",
        "outputId": "0b45c7eb-f755-4400-df1d-d69f5f92ba6f"
      },
      "outputs": [
        {
          "output_type": "execute_result",
          "data": {
            "text/plain": [
              "<Axes: >"
            ]
          },
          "metadata": {},
          "execution_count": 899
        },
        {
          "output_type": "display_data",
          "data": {
            "text/plain": [
              "<Figure size 8280x288 with 1 Axes>"
            ],
            "image/png": "[encoded data removed]"
          },
          "metadata": {}
        }
      ],
      "source": [
        "#Явно у нас серьезные проблемы с выбросами, давайте перевернем график\n",
        "sns.set(rc={'figure.figsize':(115,4)})\n",
        "sns.boxplot(dsn.reviews_per_30d, orient='horizontal')"
      ]
    },
    {
      "cell_type": "code",
      "execution_count": null,
      "metadata": {
        "colab": {
          "base_uri": "https://localhost:8080/"
        },
        "id": "n1j3_-9WiCIA",
        "outputId": "6a39c9cc-e208-48a6-c0ec-0b6c242d7f37"
      },
      "outputs": [
        {
          "output_type": "execute_result",
          "data": {
            "text/plain": [
              "<Axes: xlabel='reviews_per_30d', ylabel='Count'>"
            ]
          },
          "metadata": {},
          "execution_count": 900
        },
        {
          "output_type": "display_data",
          "data": {
            "text/plain": [
              "<Figure size 504x288 with 1 Axes>"
            ],
            "image/png": "[encoded data removed]"
          },
          "metadata": {}
        }
      ],
      "source": [
        "#Я решил не избавляться от выбросов, так как мы можем потерять ценную информацию об успешных играх,\n",
        "#а проблему слишком большого диапазона мы разрешим логарифмированием целевой переменной\n",
        "y_log = np.log(dsn.reviews_per_30d)\n",
        "sns.set(rc={'figure.figsize':(7,4)})\n",
        "sns.histplot(y_log, alpha=1)"
      ]
    },
    {
      "cell_type": "code",
      "execution_count": null,
      "metadata": {
        "colab": {
          "base_uri": "https://localhost:8080/"
        },
        "id": "EihzAgS2o8OY",
        "outputId": "dacf5a10-6b41-4f7b-e3a1-8428822d9e40"
      },
      "outputs": [
        {
          "output_type": "execute_result",
          "data": {
            "text/plain": [
              "count    3050.000000\n",
              "mean        4.643745\n",
              "std         1.545644\n",
              "min        -0.425268\n",
              "25%         3.581450\n",
              "50%         4.415319\n",
              "75%         5.562262\n",
              "max        11.491885\n",
              "Name: reviews_per_30d, dtype: float64"
            ]
          },
          "metadata": {},
          "execution_count": 901
        }
      ],
      "source": [
        "#Я решил не избавляться от выбросов, так как мы можем потерять ценную информацию об успешных играх\n",
        "# опишем логаримированную целевую переменную\n",
        "y_log = np.log(dsn.reviews_per_30d)\n",
        "\n",
        "y_log.describe()"
      ]
    },
    {
      "cell_type": "code",
      "execution_count": null,
      "metadata": {
        "colab": {
          "base_uri": "https://localhost:8080/"
        },
        "id": "GSB382PbpzKe",
        "outputId": "7121648f-1307-4397-f512-a480390b76d4"
      },
      "outputs": [
        {
          "output_type": "execute_result",
          "data": {
            "text/plain": [
              "count     3050.000000\n",
              "mean       507.210433\n",
              "std       2512.158158\n",
              "min          0.653595\n",
              "25%         35.925620\n",
              "50%         82.708220\n",
              "75%        260.411220\n",
              "max      97917.948718\n",
              "Name: reviews_per_30d, dtype: float64"
            ]
          },
          "metadata": {},
          "execution_count": 902
        }
      ],
      "source": [
        "# Логарифмированная целевая переменная принимает отрицательные значения в минимуме\n",
        "# так как минимум ее в целом слишком мал, как видим ниже\n",
        "dsn.reviews_per_30d.describe()"
      ]
    },
    {
      "cell_type": "code",
      "execution_count": null,
      "metadata": {
        "colab": {
          "base_uri": "https://localhost:8080/"
        },
        "id": "bvixz6hTwYFl",
        "outputId": "a001c383-df8e-4144-825c-bf1db96076f2"
      },
      "outputs": [
        {
          "output_type": "execute_result",
          "data": {
            "text/plain": [
              "<Axes: >"
            ]
          },
          "metadata": {},
          "execution_count": 903
        },
        {
          "output_type": "display_data",
          "data": {
            "text/plain": [
              "<Figure size 504x288 with 1 Axes>"
            ],
            "image/png": "[encoded data removed]"
          },
          "metadata": {}
        }
      ],
      "source": [
        "#А теперь построим boxplot\n",
        "sns.set(rc={'figure.figsize':(7,4)})\n",
        "sns.boxplot(y_log)"
      ]
    },
    {
      "cell_type": "code",
      "execution_count": null,
      "metadata": {
        "colab": {
          "base_uri": "https://localhost:8080/"
        },
        "id": "MLdRqiKvwq02",
        "outputId": "2a1ea733-a971-4349-8df1-8649ca83be3b"
      },
      "outputs": [
        {
          "output_type": "execute_result",
          "data": {
            "text/plain": [
              "<Axes: >"
            ]
          },
          "metadata": {},
          "execution_count": 904
        },
        {
          "output_type": "display_data",
          "data": {
            "text/plain": [
              "<Figure size 3600x288 with 1 Axes>"
            ],
            "image/png": "[encoded data removed]"
          },
          "metadata": {}
        }
      ],
      "source": [
        "#Уже лучше,но мы видим что снизу даже есть отрицательные значения, теперь горизонтально\n",
        "sns.set(rc={'figure.figsize':(50,4)})\n",
        "sns.boxplot(y_log, orient='horizontal')"
      ]
    },
    {
      "cell_type": "code",
      "execution_count": null,
      "metadata": {
        "colab": {
          "base_uri": "https://localhost:8080/"
        },
        "id": "h7KcaJ7xw9KN",
        "outputId": "23978538-2547-42f3-ce5e-a8147ff4579c"
      },
      "outputs": [
        {
          "output_type": "execute_result",
          "data": {
            "text/plain": [
              "<Axes: >"
            ]
          },
          "metadata": {},
          "execution_count": 905
        },
        {
          "output_type": "display_data",
          "data": {
            "text/plain": [
              "<Figure size 3600x288 with 1 Axes>"
            ],
            "image/png": "[encoded data removed]"
          },
          "metadata": {}
        }
      ],
      "source": [
        "#Давайте попробуем всетаки обкорнать нашу переменную при помощи метода zscore\n",
        "def zscore_truncate_column(column):\n",
        "  return column[(np.abs(zscore(column)) < 3)]\n",
        "\n",
        "def zscore_truncate_ds(ds, column):\n",
        "  return ds.drop(ds[(np.abs(zscore(column)) > 3)].index)\n",
        "\n",
        "y_log_z = zscore_truncate_column(y_log)\n",
        "y_log_z.reset_index(drop=True, inplace=True)\n",
        "\n",
        "sns.set(rc={'figure.figsize':(50,4)})\n",
        "sns.boxplot(y_log_z, orient='horizontal')"
      ]
    },
    {
      "cell_type": "code",
      "execution_count": null,
      "metadata": {
        "colab": {
          "base_uri": "https://localhost:8080/"
        },
        "id": "gLOvjKoM2M0c",
        "outputId": "2a2635aa-dd65-4dd3-de09-b202d23b7d02"
      },
      "outputs": [
        {
          "output_type": "execute_result",
          "data": {
            "text/plain": [
              "<Axes: xlabel='reviews_per_30d', ylabel='Count'>"
            ]
          },
          "metadata": {},
          "execution_count": 906
        },
        {
          "output_type": "display_data",
          "data": {
            "text/plain": [
              "<Figure size 504x288 with 1 Axes>"
            ],
            "image/png": "[encoded data removed]"
          },
          "metadata": {}
        }
      ],
      "source": [
        "sns.set(rc={'figure.figsize':(7,4)})\n",
        "sns.histplot(y_log_z, alpha=1)"
      ]
    },
    {
      "cell_type": "code",
      "execution_count": null,
      "metadata": {
        "colab": {
          "base_uri": "https://localhost:8080/"
        },
        "id": "jKJM-roxzeOX",
        "outputId": "6aff3fdf-eaf9-4070-f0bd-fc85fe649be1"
      },
      "outputs": [
        {
          "output_type": "execute_result",
          "data": {
            "text/plain": [
              "<Axes: >"
            ]
          },
          "metadata": {},
          "execution_count": 907
        },
        {
          "output_type": "display_data",
          "data": {
            "text/plain": [
              "<Figure size 3600x288 with 1 Axes>"
            ],
            "image/png": "[encoded data removed]"
          },
          "metadata": {}
        }
      ],
      "source": [
        "#Распределение можно сказать, похоже на нормальное, теперь попробуем метод квантилей\n",
        "def quantile_truncate_column(column):\n",
        "  q1 = column.quantile(0.25)\n",
        "  q1\n",
        "  q3 = column.quantile(0.75)\n",
        "  q3\n",
        "  iqr = q3 - q1\n",
        "  max = q3 + 1.5 * iqr\n",
        "  min = q1 - 1.5 * iqr\n",
        "  return column[(column < max) & (column > min)]\n",
        "\n",
        "def quantile_truncate_ds(ds, column):\n",
        "  q1 = column.quantile(0.25)\n",
        "  q1\n",
        "  q3 = column.quantile(0.75)\n",
        "  q3\n",
        "  iqr = q3 - q1\n",
        "  max = q3 + 1.5 * iqr\n",
        "  min = q1 - 1.5 * iqr\n",
        "  return ds.drop(ds[(column > max) & (column < min)].index)\n",
        "\n",
        "y_log_q = quantile_truncate_column(y_log)\n",
        "y_log_q.reset_index(drop=True, inplace=True)\n",
        "\n",
        "sns.set(rc={'figure.figsize':(50,4)})\n",
        "sns.boxplot(y_log_q, orient='horizontal')"
      ]
    },
    {
      "cell_type": "code",
      "execution_count": null,
      "metadata": {
        "colab": {
          "base_uri": "https://localhost:8080/"
        },
        "id": "xlNwFIiyzSjv",
        "outputId": "de491fc8-953b-4563-b5d2-5bcd01cd38ca"
      },
      "outputs": [
        {
          "output_type": "execute_result",
          "data": {
            "text/plain": [
              "<Axes: xlabel='reviews_per_30d', ylabel='Count'>"
            ]
          },
          "metadata": {},
          "execution_count": 908
        },
        {
          "output_type": "display_data",
          "data": {
            "text/plain": [
              "<Figure size 504x288 with 1 Axes>"
            ],
            "image/png": "[encoded data removed]"
          },
          "metadata": {}
        }
      ],
      "source": [
        "sns.set(rc={'figure.figsize':(7,4)})\n",
        "sns.histplot(y_log_q, alpha=1)"
      ]
    },
    {
      "cell_type": "code",
      "execution_count": null,
      "metadata": {
        "colab": {
          "base_uri": "https://localhost:8080/"
        },
        "id": "oY0psFtG3xAv",
        "outputId": "44bf1463-4fb4-435e-eaa1-4b00c4c77545"
      },
      "outputs": [
        {
          "output_type": "stream",
          "name": "stdout",
          "text": [
            "original : (3050,)\n",
            "Zscore : (3024,)\n",
            "Quantile : (2993,)\n"
          ]
        }
      ],
      "source": [
        "#Выглядит еще нормальнее, и все отрицательные значения удалены,\n",
        "# однако давайте проверим сколько информации удалил каждый способ\n",
        "print(f\"original : {y_log.shape}\")\n",
        "print(f\"Zscore : {y_log_z.shape}\")\n",
        "print(f\"Quantile : {y_log_q.shape}\") "
      ]
    },
    {
      "cell_type": "code",
      "execution_count": null,
      "metadata": {
        "colab": {
          "base_uri": "https://localhost:8080/"
        },
        "id": "wvBS2dzzqmtj",
        "outputId": "087f08a5-319d-4ddb-920d-6f0652c2e18c"
      },
      "outputs": [
        {
          "output_type": "execute_result",
          "data": {
            "text/plain": [
              "count    3050.000000\n",
              "mean        4.643745\n",
              "std         1.545644\n",
              "min        -0.425268\n",
              "25%         3.581450\n",
              "50%         4.415319\n",
              "75%         5.562262\n",
              "max        11.491885\n",
              "Name: reviews_per_30d, dtype: float64"
            ]
          },
          "metadata": {},
          "execution_count": 910
        }
      ],
      "source": [
        "#Метод zscore не так сильно причесывает наши данные, однако оставляет больше информации, что нам вообще-то очень важно\n",
        "# давайте просто обрежем все те значения где у нас наша логарифмическая переменная принимает отрицательные значения,\n",
        "# вместо того чтобы делать полный обрез выбросов одним из способов\n",
        "y_log.describe()"
      ]
    },
    {
      "cell_type": "code",
      "execution_count": null,
      "metadata": {
        "colab": {
          "base_uri": "https://localhost:8080/"
        },
        "id": "DvDsCjCprH9O",
        "outputId": "a80c1a19-2cdb-4a1e-cbd9-e50a44d98378"
      },
      "outputs": [
        {
          "output_type": "execute_result",
          "data": {
            "text/plain": [
              "2163   -0.425268\n",
              "2166   -0.107359\n",
              "2167   -0.113329\n",
              "Name: reviews_per_30d, dtype: float64"
            ]
          },
          "metadata": {},
          "execution_count": 911
        }
      ],
      "source": [
        "y_log[y_log < 0]"
      ]
    },
    {
      "cell_type": "code",
      "execution_count": null,
      "metadata": {
        "colab": {
          "base_uri": "https://localhost:8080/"
        },
        "id": "UIQfuAJBq5w4",
        "outputId": "b29b202a-3610-4f08-b853-f35959b4575f"
      },
      "outputs": [
        {
          "output_type": "execute_result",
          "data": {
            "text/plain": [
              "count    3047.000000\n",
              "mean        4.648529\n",
              "std         1.538853\n",
              "min         0.003339\n",
              "25%         3.584765\n",
              "50%         4.417107\n",
              "75%         5.562763\n",
              "max        11.491885\n",
              "Name: reviews_per_30d, dtype: float64"
            ]
          },
          "metadata": {},
          "execution_count": 912
        }
      ],
      "source": [
        "# Обрежем все отрицательные значения\n",
        "y_log_pos = y_log[y_log > 0]\n",
        "y_log_pos.describe()"
      ]
    },
    {
      "cell_type": "code",
      "execution_count": null,
      "metadata": {
        "colab": {
          "base_uri": "https://localhost:8080/"
        },
        "id": "vEqH7GvV4E8E",
        "outputId": "26ab10c0-c57d-4331-f0ab-192709ecf537"
      },
      "outputs": [
        {
          "output_type": "execute_result",
          "data": {
            "text/plain": [
              "<Axes: xlabel='quants', ylabel='reviews_per_30d'>"
            ]
          },
          "metadata": {},
          "execution_count": 913
        },
        {
          "output_type": "display_data",
          "data": {
            "text/plain": [
              "<Figure size 1080x576 with 1 Axes>"
            ],
            "image/png": "[encoded data removed]"
          },
          "metadata": {}
        }
      ],
      "source": [
        "#Разобьем нашу целевую переменную на квантили и посмотрим, как она делится на категории\n",
        "dst = dsn.copy()\n",
        "\n",
        "price_bins = dst.reviews_per_30d.quantile([0, 0.1, 0.2, 0.3, 0.4, 0.5, 0.6, 0.7, 0.8, 0.9, 1])\n",
        "dst[\"quants\"] = pd.cut(dst.reviews_per_30d, price_bins, labels = ['1', '2', '3', '4', '5', '6', '7', '8', '9', '10'], right=True, include_lowest=True)\n",
        "plt.figure(figsize=(15, 8))\n",
        "sns.boxplot(data = dst, x = 'quants', y = 'reviews_per_30d', hue='quants')"
      ]
    },
    {
      "cell_type": "code",
      "execution_count": null,
      "metadata": {
        "colab": {
          "base_uri": "https://localhost:8080/"
        },
        "id": "dxqdY5uOoYKD",
        "outputId": "cec99622-6d50-4dca-ee41-bb6aa3b98b33"
      },
      "outputs": [
        {
          "output_type": "stream",
          "name": "stdout",
          "text": [
            "Mean of quantile 1 - 11.66\n",
            "Mean of quantile 2 - 23.4\n",
            "Mean of quantile 3 - 35.69\n",
            "Mean of quantile 4 - 49.62\n",
            "Mean of quantile 5 - 69.78\n",
            "Mean of quantile 6 - 102.08\n",
            "Mean of quantile 7 - 158.35\n",
            "Mean of quantile 8 - 264.45\n",
            "Mean of quantile 9 - 548.97\n",
            "Mean of quantile 10 - 3808.11\n"
          ]
        }
      ],
      "source": [
        "#Слишком большой диапазон, нужно логарифмировать, однако уже виден сильный дисбаланс\n",
        "#значений целевой\n",
        "for i in range(1, 11):\n",
        "  print(f\"Mean of quantile {i} - {dst[dst.quants==f'{i}']['reviews_per_30d'].mean().round(2)}\")"
      ]
    },
    {
      "cell_type": "code",
      "execution_count": null,
      "metadata": {
        "colab": {
          "base_uri": "https://localhost:8080/"
        },
        "id": "WB1lHCMc0fBu",
        "outputId": "d6657b11-757d-480e-bc0d-76359dd09edd"
      },
      "outputs": [
        {
          "output_type": "stream",
          "name": "stdout",
          "text": [
            "Min of quantile 10 - 852.39\n"
          ]
        }
      ],
      "source": [
        "# Можно охарактеризовать все что ниже  6 - как плохо,\n",
        "# а 7 - 8 - нормально, 9 - хорошо, а 10 - отлично \n",
        "print(f\"Min of quantile {10} - {dst[dst.quants==f'{10}']['reviews_per_30d'].min().round(2)}\")"
      ]
    },
    {
      "cell_type": "code",
      "execution_count": null,
      "metadata": {
        "colab": {
          "base_uri": "https://localhost:8080/"
        },
        "id": "567pYG22w0ON",
        "outputId": "a5f0fb8f-82a8-4437-8eab-74d06e92756a"
      },
      "outputs": [
        {
          "output_type": "execute_result",
          "data": {
            "text/plain": [
              "<Axes: xlabel='quants', ylabel='reviews_per_30d'>"
            ]
          },
          "metadata": {},
          "execution_count": 916
        },
        {
          "output_type": "display_data",
          "data": {
            "text/plain": [
              "<Figure size 1080x576 with 1 Axes>"
            ],
            "image/png": "[encoded data removed]"
          },
          "metadata": {}
        }
      ],
      "source": [
        "#Давайте логарифмируем\n",
        "dst = dsn.copy()\n",
        "\n",
        "dst['reviews_per_30d'] = np.log(dst['reviews_per_30d'])\n",
        "\n",
        "price_bins = dst.reviews_per_30d.quantile([0, 0.1, 0.2, 0.3, 0.4, 0.5, 0.6, 0.7, 0.8, 0.9, 1])\n",
        "dst[\"quants\"] = pd.cut(dst.reviews_per_30d, price_bins, labels = ['1', '2', '3', '4', '5', '6', '7', '8', '9', '10'], right=True, include_lowest=True)\n",
        "plt.figure(figsize=(15, 8))\n",
        "sns.boxplot(data = dst, x = 'quants', y = 'reviews_per_30d', hue='quants')"
      ]
    },
    {
      "cell_type": "code",
      "execution_count": null,
      "metadata": {
        "colab": {
          "base_uri": "https://localhost:8080/"
        },
        "id": "bSRk-EJKCbkn",
        "outputId": "726c3179-8380-4504-9252-968153d5b531"
      },
      "outputs": [
        {
          "output_type": "execute_result",
          "data": {
            "text/plain": [
              "<Axes: xlabel='quants', ylabel='reviews_per_30d'>"
            ]
          },
          "metadata": {},
          "execution_count": 917
        },
        {
          "output_type": "display_data",
          "data": {
            "text/plain": [
              "<Figure size 1080x576 with 1 Axes>"
            ],
            "image/png": "[encoded data removed]"
          },
          "metadata": {}
        }
      ],
      "source": [
        "#Теперь лучше, видно что большая часть данных у нас имеет слабую волатильность,\n",
        "#и только по краям, особенно на 10-м квантиле диапазон значений сильно возрастает\n",
        "# давайте попробуем без выбросов, сначала zscore\n",
        "dst_z = zscore_truncate_ds(dst, dst['reviews_per_30d'])\n",
        "\n",
        "price_bins = dst_z.reviews_per_30d.quantile([0, 0.1, 0.2, 0.3, 0.4, 0.5, 0.6, 0.7, 0.8, 0.9, 1])\n",
        "dst_z[\"quants\"] = pd.cut(dst_z.reviews_per_30d, price_bins, labels = ['1', '2', '3', '4', '5', '6', '7', '8', '9', '10'], right=True, include_lowest=True)\n",
        "plt.figure(figsize=(15, 8))\n",
        "sns.boxplot(data = dst_z, x = 'quants', y = 'reviews_per_30d', hue='quants')"
      ]
    },
    {
      "cell_type": "code",
      "execution_count": null,
      "metadata": {
        "colab": {
          "base_uri": "https://localhost:8080/"
        },
        "id": "GmafLPU5DYvt",
        "outputId": "4a158c99-abdc-48d1-fe33-8d07d68aa378"
      },
      "outputs": [
        {
          "output_type": "execute_result",
          "data": {
            "text/plain": [
              "<Axes: xlabel='quants', ylabel='reviews_per_30d'>"
            ]
          },
          "metadata": {},
          "execution_count": 918
        },
        {
          "output_type": "display_data",
          "data": {
            "text/plain": [
              "<Figure size 1080x576 with 1 Axes>"
            ],
            "image/png": "[encoded data removed]"
          },
          "metadata": {}
        }
      ],
      "source": [
        "#Много наших бесценных супер-успешных игр было нещадно порезано zscore\n",
        "#Определенно нехорошо, протестируем quantile\n",
        "dst_q = quantile_truncate_ds(dst, dst['reviews_per_30d'])\n",
        "\n",
        "price_bins = dst_q.reviews_per_30d.quantile([0, 0.1, 0.2, 0.3, 0.4, 0.5, 0.6, 0.7, 0.8, 0.9, 1])\n",
        "dst_q[\"quants\"] = pd.cut(dst_q.reviews_per_30d, price_bins, labels = ['1', '2', '3', '4', '5', '6', '7', '8', '9', '10'], right=True, include_lowest=True)\n",
        "plt.figure(figsize=(15, 8))\n",
        "sns.boxplot(data = dst_q, x = 'quants', y = 'reviews_per_30d', hue='quants')"
      ]
    },
    {
      "cell_type": "code",
      "execution_count": null,
      "metadata": {
        "id": "2u-Lu33yr-wt"
      },
      "outputs": [],
      "source": [
        "#Как видим, больше супер-успешных игр осталось\n",
        "#Мы будем пробовать использовать эти квантили для определения нашего класса,\n",
        "#который будет определять успех игры\n",
        "dst = dsn.copy()\n",
        "\n",
        "quants = dst.reviews_per_30d.quantile([0, 0.1, 0.2, 0.3, 0.4, 0.5, 0.6, 0.7, 0.8, 0.9, 1])\n",
        "dst[\"rating\"] = pd.cut(dst.reviews_per_30d, quants, labels = [1, 2, 3, 4, 5, 6, 7, 8, 9, 10], right=True, include_lowest=True)"
      ]
    },
    {
      "cell_type": "markdown",
      "metadata": {
        "id": "6196DiMPLLzp"
      },
      "source": [
        "# Работа с моделями"
      ]
    },
    {
      "cell_type": "markdown",
      "metadata": {
        "id": "oV-Oc2CnLQqL"
      },
      "source": [
        "## Подготовка данных к работе с моделями"
      ]
    },
    {
      "cell_type": "markdown",
      "metadata": {
        "id": "D8xPzYbUsQTL"
      },
      "source": [
        "Составим итоговый датасет, который по подадим в модель.\n"
      ]
    },
    {
      "cell_type": "code",
      "execution_count": null,
      "metadata": {
        "colab": {
          "base_uri": "https://localhost:8080/"
        },
        "id": "6ixqaYU314ce",
        "outputId": "a5557b2b-991e-4883-c290-859d12c7b837"
      },
      "outputs": [
        {
          "output_type": "execute_result",
          "data": {
            "text/plain": [
              "610"
            ]
          },
          "metadata": {},
          "execution_count": 920
        }
      ],
      "source": [
        "#Используем последние 2 квантиля, как бинарный класс определяющий \"успех\"\n",
        "dst['is_successful'] = dst.rating > 8\n",
        "dst['is_successful'].sum()"
      ]
    },
    {
      "cell_type": "code",
      "execution_count": null,
      "metadata": {
        "colab": {
          "base_uri": "https://localhost:8080/"
        },
        "id": "zOACNCn12l8R",
        "outputId": "b2043664-6549-45ea-ed07-e35595ad7bd8"
      },
      "outputs": [
        {
          "output_type": "display_data",
          "data": {
            "text/plain": [
              "<Figure size 504x288 with 1 Axes>"
            ],
            "image/png": "[encoded data removed]"
          },
          "metadata": {}
        }
      ],
      "source": [
        "#Взглянем на дсибаланс\n",
        "pd.value_counts(dst['is_successful']).plot.bar()\n",
        "plt.title('Гистограмма классов')\n",
        "plt.show()"
      ]
    },
    {
      "cell_type": "code",
      "execution_count": null,
      "metadata": {
        "colab": {
          "base_uri": "https://localhost:8080/"
        },
        "id": "LtowM3n44XrZ",
        "outputId": "405ee25d-d5e8-48e6-9602-ebd3d4970891"
      },
      "outputs": [
        {
          "output_type": "execute_result",
          "data": {
            "text/plain": [
              "0.25"
            ]
          },
          "metadata": {},
          "execution_count": 922
        }
      ],
      "source": [
        "dst['is_successful'].sum()/(dst['is_successful'] == False).sum()"
      ]
    },
    {
      "cell_type": "code",
      "execution_count": null,
      "metadata": {
        "id": "-0X6XwPi2LGf"
      },
      "outputs": [],
      "source": [
        "dsn = dst"
      ]
    },
    {
      "cell_type": "code",
      "execution_count": null,
      "metadata": {
        "colab": {
          "base_uri": "https://localhost:8080/"
        },
        "id": "F762OTB0UJhf",
        "outputId": "95a5968d-1da4-4eac-d09b-138bd11d781d"
      },
      "outputs": [
        {
          "output_type": "execute_result",
          "data": {
            "text/plain": [
              "369"
            ]
          },
          "metadata": {},
          "execution_count": 924
        }
      ],
      "source": [
        "#Еще раз составим словарь из всех слов первых трех тагов наших игр\n",
        "#Мы уже это делали, но манипуляции по удалению после того раза могли\n",
        "#уменьшить количество наших тагов\n",
        "all_tags = []\n",
        "\n",
        "for tag_list in dsn.tags_list:\n",
        "  all_tags += tag_list[:3]\n",
        "\n",
        "all_tags = list(set(all_tags))\n",
        "len(all_tags)"
      ]
    },
    {
      "cell_type": "code",
      "execution_count": null,
      "metadata": {
        "colab": {
          "base_uri": "https://localhost:8080/"
        },
        "id": "j-s09bszU89y",
        "outputId": "f7cd5180-0607-4cf8-8d1a-3def54014405"
      },
      "outputs": [
        {
          "output_type": "execute_result",
          "data": {
            "text/plain": [
              "3050"
            ]
          },
          "metadata": {},
          "execution_count": 925
        }
      ],
      "source": [
        "# Теперь сделаем список из всех списков тагов для каждой игры\n",
        "all_lists_of_tags = []\n",
        "for lst in dsn.tags_list:\n",
        "  all_lists_of_tags.append(lst[:3])\n",
        "\n",
        "len(all_lists_of_tags)"
      ]
    },
    {
      "cell_type": "code",
      "execution_count": null,
      "metadata": {
        "colab": {
          "base_uri": "https://localhost:8080/"
        },
        "id": "ZmLC1xMfcv1O",
        "outputId": "f8573b40-7d65-4c1d-e45e-9d8f1ab828c6"
      },
      "outputs": [
        {
          "output_type": "execute_result",
          "data": {
            "text/plain": [
              "[['Free to Play', 'Battle Royale', 'Multiplayer'],\n",
              " ['Action', 'Adventure', 'Singleplayer'],\n",
              " ['Souls-like', 'Relaxing', 'Dark Fantasy'],\n",
              " ['Open World', 'Action', 'Multiplayer'],\n",
              " ['Racing', 'Open World', 'Driving']]"
            ]
          },
          "metadata": {},
          "execution_count": 926
        }
      ],
      "source": [
        "all_lists_of_tags[:5]"
      ]
    },
    {
      "cell_type": "markdown",
      "metadata": {
        "id": "u0gqkSISseko"
      },
      "source": [
        "Давайте создадим наш итоговый датасет, который мы затем будет подавать в наши модели классификации."
      ]
    },
    {
      "cell_type": "code",
      "execution_count": null,
      "metadata": {
        "colab": {
          "base_uri": "https://localhost:8080/"
        },
        "id": "TAjGtBng_5JX",
        "outputId": "75a9d19c-1768-40dd-df9a-93391872a1b0"
      },
      "outputs": [
        {
          "output_type": "stream",
          "name": "stdout",
          "text": [
            "<class 'pandas.core.frame.DataFrame'>\n",
            "RangeIndex: 3050 entries, 0 to 3049\n",
            "Data columns (total 3 columns):\n",
            " #   Column  Non-Null Count  Dtype \n",
            "---  ------  --------------  ----- \n",
            " 0   tag1    3050 non-null   object\n",
            " 1   tag2    3050 non-null   object\n",
            " 2   tag3    3050 non-null   object\n",
            "dtypes: object(3)\n",
            "memory usage: 71.6+ KB\n"
          ]
        }
      ],
      "source": [
        "X = pd.DataFrame(all_lists_of_tags, columns=['tag1', 'tag2', 'tag3'])\n",
        "\n",
        "X.info()"
      ]
    },
    {
      "cell_type": "code",
      "execution_count": null,
      "metadata": {
        "colab": {
          "base_uri": "https://localhost:8080/"
        },
        "id": "3FO6YE67lKRL",
        "outputId": "4fb7f1ea-5d76-4c18-ac8d-ba407fb8e0c5"
      },
      "outputs": [
        {
          "output_type": "execute_result",
          "data": {
            "text/plain": [
              "           tag1           tag2          tag3\n",
              "0  Free to Play  Battle Royale   Multiplayer\n",
              "1        Action      Adventure  Singleplayer\n",
              "2    Souls-like       Relaxing  Dark Fantasy\n",
              "3    Open World         Action   Multiplayer\n",
              "4        Racing     Open World       Driving"
            ],
            "text/html": [
              "\n",
              "  <div id=\"df-177fca69-6091-475b-a5ab-9f3349c72122\">\n",
              "    <div class=\"colab-df-container\">\n",
              "      <div>\n",
              "<style scoped>\n",
              "    .dataframe tbody tr th:only-of-type {\n",
              "        vertical-align: middle;\n",
              "    }\n",
              "\n",
              "    .dataframe tbody tr th {\n",
              "        vertical-align: top;\n",
              "    }\n",
              "\n",
              "    .dataframe thead th {\n",
              "        text-align: right;\n",
              "    }\n",
              "</style>\n",
              "<table border=\"1\" class=\"dataframe\">\n",
              "  <thead>\n",
              "    <tr style=\"text-align: right;\">\n",
              "      <th></th>\n",
              "      <th>tag1</th>\n",
              "      <th>tag2</th>\n",
              "      <th>tag3</th>\n",
              "    </tr>\n",
              "  </thead>\n",
              "  <tbody>\n",
              "    <tr>\n",
              "      <th>0</th>\n",
              "      <td>Free to Play</td>\n",
              "      <td>Battle Royale</td>\n",
              "      <td>Multiplayer</td>\n",
              "    </tr>\n",
              "    <tr>\n",
              "      <th>1</th>\n",
              "      <td>Action</td>\n",
              "      <td>Adventure</td>\n",
              "      <td>Singleplayer</td>\n",
              "    </tr>\n",
              "    <tr>\n",
              "      <th>2</th>\n",
              "      <td>Souls-like</td>\n",
              "      <td>Relaxing</td>\n",
              "      <td>Dark Fantasy</td>\n",
              "    </tr>\n",
              "    <tr>\n",
              "      <th>3</th>\n",
              "      <td>Open World</td>\n",
              "      <td>Action</td>\n",
              "      <td>Multiplayer</td>\n",
              "    </tr>\n",
              "    <tr>\n",
              "      <th>4</th>\n",
              "      <td>Racing</td>\n",
              "      <td>Open World</td>\n",
              "      <td>Driving</td>\n",
              "    </tr>\n",
              "  </tbody>\n",
              "</table>\n",
              "</div>\n",
              "      <button class=\"colab-df-convert\" onclick=\"convertToInteractive('df-177fca69-6091-475b-a5ab-9f3349c72122')\"\n",
              "              title=\"Convert this dataframe to an interactive table.\"\n",
              "              style=\"display:none;\">\n",
              "        \n",
              "  <svg xmlns=\"http://www.w3.org/2000/svg\" height=\"24px\"viewBox=\"0 0 24 24\"\n",
              "       width=\"24px\">\n",
              "    <path d=\"M0 0h24v24H0V0z\" fill=\"none\"/>\n",
              "    <path d=\"M18.56 5.44l.94 2.06.94-2.06 2.06-.94-2.06-.94-.94-2.06-.94 2.06-2.06.94zm-11 1L8.5 8.5l.94-2.06 2.06-.94-2.06-.94L8.5 2.5l-.94 2.06-2.06.94zm10 10l.94 2.06.94-2.06 2.06-.94-2.06-.94-.94-2.06-.94 2.06-2.06.94z\"/><path d=\"M17.41 7.96l-1.37-1.37c-.4-.4-.92-.59-1.43-.59-.52 0-1.04.2-1.43.59L10.3 9.45l-7.72 7.72c-.78.78-.78 2.05 0 2.83L4 21.41c.39.39.9.59 1.41.59.51 0 1.02-.2 1.41-.59l7.78-7.78 2.81-2.81c.8-.78.8-2.07 0-2.86zM5.41 20L4 18.59l7.72-7.72 1.47 1.35L5.41 20z\"/>\n",
              "  </svg>\n",
              "      </button>\n",
              "      \n",
              "  <style>\n",
              "    .colab-df-container {\n",
              "      display:flex;\n",
              "      flex-wrap:wrap;\n",
              "      gap: 12px;\n",
              "    }\n",
              "\n",
              "    .colab-df-convert {\n",
              "      background-color: #E8F0FE;\n",
              "      border: none;\n",
              "      border-radius: 50%;\n",
              "      cursor: pointer;\n",
              "      display: none;\n",
              "      fill: #1967D2;\n",
              "      height: 32px;\n",
              "      padding: 0 0 0 0;\n",
              "      width: 32px;\n",
              "    }\n",
              "\n",
              "    .colab-df-convert:hover {\n",
              "      background-color: #E2EBFA;\n",
              "      box-shadow: 0px 1px 2px rgba(60, 64, 67, 0.3), 0px 1px 3px 1px rgba(60, 64, 67, 0.15);\n",
              "      fill: #174EA6;\n",
              "    }\n",
              "\n",
              "    [theme=dark] .colab-df-convert {\n",
              "      background-color: #3B4455;\n",
              "      fill: #D2E3FC;\n",
              "    }\n",
              "\n",
              "    [theme=dark] .colab-df-convert:hover {\n",
              "      background-color: #434B5C;\n",
              "      box-shadow: 0px 1px 3px 1px rgba(0, 0, 0, 0.15);\n",
              "      filter: drop-shadow(0px 1px 2px rgba(0, 0, 0, 0.3));\n",
              "      fill: #FFFFFF;\n",
              "    }\n",
              "  </style>\n",
              "\n",
              "      <script>\n",
              "        const buttonEl =\n",
              "          document.querySelector('#df-177fca69-6091-475b-a5ab-9f3349c72122 button.colab-df-convert');\n",
              "        buttonEl.style.display =\n",
              "          google.colab.kernel.accessAllowed ? 'block' : 'none';\n",
              "\n",
              "        async function convertToInteractive(key) {\n",
              "          const element = document.querySelector('#df-177fca69-6091-475b-a5ab-9f3349c72122');\n",
              "          const dataTable =\n",
              "            await google.colab.kernel.invokeFunction('convertToInteractive',\n",
              "                                                     [key], {});\n",
              "          if (!dataTable) return;\n",
              "\n",
              "          const docLinkHtml = 'Like what you see? Visit the ' +\n",
              "            '<a target=\"_blank\" href=https://colab.research.google.com/notebooks/data_table.ipynb>data table notebook</a>'\n",
              "            + ' to learn more about interactive tables.';\n",
              "          element.innerHTML = '';\n",
              "          dataTable['output_type'] = 'display_data';\n",
              "          await google.colab.output.renderOutput(dataTable, element);\n",
              "          const docLink = document.createElement('div');\n",
              "          docLink.innerHTML = docLinkHtml;\n",
              "          element.appendChild(docLink);\n",
              "        }\n",
              "      </script>\n",
              "    </div>\n",
              "  </div>\n",
              "  "
            ]
          },
          "metadata": {},
          "execution_count": 928
        }
      ],
      "source": [
        "X.head()"
      ]
    },
    {
      "cell_type": "code",
      "execution_count": null,
      "metadata": {
        "colab": {
          "base_uri": "https://localhost:8080/"
        },
        "id": "F2Vf8vJxmEie",
        "outputId": "3c9c1c3d-2ecb-48f9-9a8f-0d4ec5bb8e92"
      },
      "outputs": [
        {
          "output_type": "execute_result",
          "data": {
            "text/plain": [
              "0       1\n",
              "1       1\n",
              "2       1\n",
              "3       1\n",
              "4       1\n",
              "       ..\n",
              "3045    1\n",
              "3046    1\n",
              "3047    1\n",
              "3048    1\n",
              "3049    1\n",
              "Name: is_successful, Length: 3050, dtype: int64"
            ]
          },
          "metadata": {},
          "execution_count": 929
        }
      ],
      "source": [
        "y = dsn.is_successful.replace({True : 1, False : 0})\n",
        "y"
      ]
    },
    {
      "cell_type": "code",
      "execution_count": null,
      "metadata": {
        "colab": {
          "base_uri": "https://localhost:8080/"
        },
        "id": "tRsUEVcn7IsC",
        "outputId": "bf669dd4-99dc-43df-8a8f-50dc7a18ab56"
      },
      "outputs": [
        {
          "output_type": "execute_result",
          "data": {
            "text/plain": [
              "       tag1      tag2      tag3\n",
              "0  0.251462  0.240508  0.429923\n",
              "1  0.114504  0.114505  0.200000\n",
              "2  0.255683  0.194745  0.241337\n",
              "3  0.662418  0.220126  0.429923\n",
              "4  0.152152  0.306509  0.173106"
            ],
            "text/html": [
              "\n",
              "  <div id=\"df-b64cba25-7165-46d1-bfc1-9b1a622a373e\">\n",
              "    <div class=\"colab-df-container\">\n",
              "      <div>\n",
              "<style scoped>\n",
              "    .dataframe tbody tr th:only-of-type {\n",
              "        vertical-align: middle;\n",
              "    }\n",
              "\n",
              "    .dataframe tbody tr th {\n",
              "        vertical-align: top;\n",
              "    }\n",
              "\n",
              "    .dataframe thead th {\n",
              "        text-align: right;\n",
              "    }\n",
              "</style>\n",
              "<table border=\"1\" class=\"dataframe\">\n",
              "  <thead>\n",
              "    <tr style=\"text-align: right;\">\n",
              "      <th></th>\n",
              "      <th>tag1</th>\n",
              "      <th>tag2</th>\n",
              "      <th>tag3</th>\n",
              "    </tr>\n",
              "  </thead>\n",
              "  <tbody>\n",
              "    <tr>\n",
              "      <th>0</th>\n",
              "      <td>0.251462</td>\n",
              "      <td>0.240508</td>\n",
              "      <td>0.429923</td>\n",
              "    </tr>\n",
              "    <tr>\n",
              "      <th>1</th>\n",
              "      <td>0.114504</td>\n",
              "      <td>0.114505</td>\n",
              "      <td>0.200000</td>\n",
              "    </tr>\n",
              "    <tr>\n",
              "      <th>2</th>\n",
              "      <td>0.255683</td>\n",
              "      <td>0.194745</td>\n",
              "      <td>0.241337</td>\n",
              "    </tr>\n",
              "    <tr>\n",
              "      <th>3</th>\n",
              "      <td>0.662418</td>\n",
              "      <td>0.220126</td>\n",
              "      <td>0.429923</td>\n",
              "    </tr>\n",
              "    <tr>\n",
              "      <th>4</th>\n",
              "      <td>0.152152</td>\n",
              "      <td>0.306509</td>\n",
              "      <td>0.173106</td>\n",
              "    </tr>\n",
              "  </tbody>\n",
              "</table>\n",
              "</div>\n",
              "      <button class=\"colab-df-convert\" onclick=\"convertToInteractive('df-b64cba25-7165-46d1-bfc1-9b1a622a373e')\"\n",
              "              title=\"Convert this dataframe to an interactive table.\"\n",
              "              style=\"display:none;\">\n",
              "        \n",
              "  <svg xmlns=\"http://www.w3.org/2000/svg\" height=\"24px\"viewBox=\"0 0 24 24\"\n",
              "       width=\"24px\">\n",
              "    <path d=\"M0 0h24v24H0V0z\" fill=\"none\"/>\n",
              "    <path d=\"M18.56 5.44l.94 2.06.94-2.06 2.06-.94-2.06-.94-.94-2.06-.94 2.06-2.06.94zm-11 1L8.5 8.5l.94-2.06 2.06-.94-2.06-.94L8.5 2.5l-.94 2.06-2.06.94zm10 10l.94 2.06.94-2.06 2.06-.94-2.06-.94-.94-2.06-.94 2.06-2.06.94z\"/><path d=\"M17.41 7.96l-1.37-1.37c-.4-.4-.92-.59-1.43-.59-.52 0-1.04.2-1.43.59L10.3 9.45l-7.72 7.72c-.78.78-.78 2.05 0 2.83L4 21.41c.39.39.9.59 1.41.59.51 0 1.02-.2 1.41-.59l7.78-7.78 2.81-2.81c.8-.78.8-2.07 0-2.86zM5.41 20L4 18.59l7.72-7.72 1.47 1.35L5.41 20z\"/>\n",
              "  </svg>\n",
              "      </button>\n",
              "      \n",
              "  <style>\n",
              "    .colab-df-container {\n",
              "      display:flex;\n",
              "      flex-wrap:wrap;\n",
              "      gap: 12px;\n",
              "    }\n",
              "\n",
              "    .colab-df-convert {\n",
              "      background-color: #E8F0FE;\n",
              "      border: none;\n",
              "      border-radius: 50%;\n",
              "      cursor: pointer;\n",
              "      display: none;\n",
              "      fill: #1967D2;\n",
              "      height: 32px;\n",
              "      padding: 0 0 0 0;\n",
              "      width: 32px;\n",
              "    }\n",
              "\n",
              "    .colab-df-convert:hover {\n",
              "      background-color: #E2EBFA;\n",
              "      box-shadow: 0px 1px 2px rgba(60, 64, 67, 0.3), 0px 1px 3px 1px rgba(60, 64, 67, 0.15);\n",
              "      fill: #174EA6;\n",
              "    }\n",
              "\n",
              "    [theme=dark] .colab-df-convert {\n",
              "      background-color: #3B4455;\n",
              "      fill: #D2E3FC;\n",
              "    }\n",
              "\n",
              "    [theme=dark] .colab-df-convert:hover {\n",
              "      background-color: #434B5C;\n",
              "      box-shadow: 0px 1px 3px 1px rgba(0, 0, 0, 0.15);\n",
              "      filter: drop-shadow(0px 1px 2px rgba(0, 0, 0, 0.3));\n",
              "      fill: #FFFFFF;\n",
              "    }\n",
              "  </style>\n",
              "\n",
              "      <script>\n",
              "        const buttonEl =\n",
              "          document.querySelector('#df-b64cba25-7165-46d1-bfc1-9b1a622a373e button.colab-df-convert');\n",
              "        buttonEl.style.display =\n",
              "          google.colab.kernel.accessAllowed ? 'block' : 'none';\n",
              "\n",
              "        async function convertToInteractive(key) {\n",
              "          const element = document.querySelector('#df-b64cba25-7165-46d1-bfc1-9b1a622a373e');\n",
              "          const dataTable =\n",
              "            await google.colab.kernel.invokeFunction('convertToInteractive',\n",
              "                                                     [key], {});\n",
              "          if (!dataTable) return;\n",
              "\n",
              "          const docLinkHtml = 'Like what you see? Visit the ' +\n",
              "            '<a target=\"_blank\" href=https://colab.research.google.com/notebooks/data_table.ipynb>data table notebook</a>'\n",
              "            + ' to learn more about interactive tables.';\n",
              "          element.innerHTML = '';\n",
              "          dataTable['output_type'] = 'display_data';\n",
              "          await google.colab.output.renderOutput(dataTable, element);\n",
              "          const docLink = document.createElement('div');\n",
              "          docLink.innerHTML = docLinkHtml;\n",
              "          element.appendChild(docLink);\n",
              "        }\n",
              "      </script>\n",
              "    </div>\n",
              "  </div>\n",
              "  "
            ]
          },
          "metadata": {},
          "execution_count": 930
        }
      ],
      "source": [
        "encoder = ce.TargetEncoder(return_df=True, smoothing = 10)\n",
        "\n",
        "X.tag1 = pd.Categorical(X.tag1, categories=all_tags)\n",
        "X.tag2 = pd.Categorical(X.tag2, categories=all_tags)\n",
        "X.tag3 = pd.Categorical(X.tag3, categories=all_tags)\n",
        "\n",
        "X = encoder.fit_transform(X, y)\n",
        "X.head()"
      ]
    },
    {
      "cell_type": "code",
      "execution_count": null,
      "metadata": {
        "colab": {
          "base_uri": "https://localhost:8080/"
        },
        "id": "4yCq0ZQ9lkh8",
        "outputId": "5416810f-5285-416e-8eef-ef746e147a09"
      },
      "outputs": [
        {
          "output_type": "execute_result",
          "data": {
            "text/plain": [
              "((2440, 3), (610, 3), (2440,), (610,))"
            ]
          },
          "metadata": {},
          "execution_count": 931
        }
      ],
      "source": [
        "X_train, X_test, y_train, y_test = train_test_split(\n",
        "    X, y,\n",
        "    test_size = 0.2,\n",
        "    random_state = 42,\n",
        "    stratify=y)\n",
        "\n",
        "X_train.shape, X_test.shape, y_train.shape, y_test.shape"
      ]
    },
    {
      "cell_type": "code",
      "execution_count": null,
      "metadata": {
        "colab": {
          "base_uri": "https://localhost:8080/"
        },
        "id": "GKfs_ze15VN7",
        "outputId": "0fc0f81e-55ac-4550-d7b9-67b0f671215a"
      },
      "outputs": [
        {
          "output_type": "display_data",
          "data": {
            "text/plain": [
              "<Figure size 504x288 with 1 Axes>"
            ],
            "image/png": "[encoded data removed]"
          },
          "metadata": {}
        }
      ],
      "source": [
        "pd.value_counts(y_train).plot.bar()\n",
        "plt.title('y_train')\n",
        "plt.show()"
      ]
    },
    {
      "cell_type": "code",
      "execution_count": null,
      "metadata": {
        "colab": {
          "base_uri": "https://localhost:8080/"
        },
        "id": "V9g0cQ3d5fvk",
        "outputId": "d15fa0b6-b9ba-4465-b78d-25ceb7c755f3"
      },
      "outputs": [
        {
          "output_type": "display_data",
          "data": {
            "text/plain": [
              "<Figure size 504x288 with 1 Axes>"
            ],
            "image/png": "[encoded data removed]"
          },
          "metadata": {}
        }
      ],
      "source": [
        "pd.value_counts(y_test).plot.bar()\n",
        "plt.title('y_test')\n",
        "plt.show()"
      ]
    },
    {
      "cell_type": "code",
      "execution_count": null,
      "metadata": {
        "colab": {
          "base_uri": "https://localhost:8080/"
        },
        "id": "DJ5zJCCrJbs9",
        "outputId": "e37239ba-b3ce-489c-b0e5-34b01fe50f81"
      },
      "outputs": [
        {
          "output_type": "execute_result",
          "data": {
            "text/plain": [
              "count    2440.000000\n",
              "mean        0.192547\n",
              "std         0.081701\n",
              "min         0.040065\n",
              "25%         0.147727\n",
              "50%         0.171630\n",
              "75%         0.233299\n",
              "max         0.662418\n",
              "Name: tag1, dtype: float64"
            ]
          },
          "metadata": {},
          "execution_count": 934
        }
      ],
      "source": [
        "X_train.tag1.describe()"
      ]
    },
    {
      "cell_type": "code",
      "execution_count": null,
      "metadata": {
        "colab": {
          "base_uri": "https://localhost:8080/"
        },
        "id": "R9vGCl5uF1Q9",
        "outputId": "24c38161-f822-4721-ba39-db6ac028cc74"
      },
      "outputs": [
        {
          "output_type": "stream",
          "name": "stdout",
          "text": [
            "<class 'pandas.core.frame.DataFrame'>\n",
            "Int64Index: 2440 entries, 177 to 1997\n",
            "Data columns (total 3 columns):\n",
            " #   Column  Non-Null Count  Dtype  \n",
            "---  ------  --------------  -----  \n",
            " 0   tag1    2440 non-null   float64\n",
            " 1   tag2    2440 non-null   float64\n",
            " 2   tag3    2440 non-null   float64\n",
            "dtypes: float64(3)\n",
            "memory usage: 76.2 KB\n"
          ]
        }
      ],
      "source": [
        "X_train.info()"
      ]
    },
    {
      "cell_type": "markdown",
      "metadata": {
        "id": "P8gLHPoDF6lh"
      },
      "source": [
        "##Обучение и тестирование моделей классификации"
      ]
    },
    {
      "cell_type": "markdown",
      "metadata": {
        "id": "uRxk34BLJFR2"
      },
      "source": [
        "Обучаем, тестируем и оцениваем модели классификации. Не забываем, что у нас дисабаланс классов 80 к 20, и классификация у нас бинарная, поэтому метрика accuracy - бесполезна.\n",
        "Она просто будет равна пропорции наших классов, если мы просто все данные классифицируем как мажоритарный класс - мы получим показатель accuracy равный пропорции этого класса в отношении к миноритарному. Мы используем другие показатели, описанные и осуществленные в коде ниже в ячейке"
      ]
    },
    {
      "cell_type": "code",
      "execution_count": null,
      "metadata": {
        "id": "1JR-sdL8uH2R"
      },
      "outputs": [],
      "source": [
        "#Создадим датасет для оценки итоговых результатов наших моделей \n",
        "results = []"
      ]
    },
    {
      "cell_type": "markdown",
      "metadata": {
        "id": "SwgVujZNGghn"
      },
      "source": [
        "### Logistic regression"
      ]
    },
    {
      "cell_type": "code",
      "execution_count": null,
      "metadata": {
        "colab": {
          "base_uri": "https://localhost:8080/"
        },
        "id": "Eqf5ubLu1HMP",
        "outputId": "a626b979-19bf-435d-f189-84fe694f2f51"
      },
      "outputs": [
        {
          "output_type": "stream",
          "name": "stdout",
          "text": [
            "f1 score 0.5092024539877301\n",
            "Precision:  0.4068627450980392\n",
            "Recall:  0.680327868852459\n",
            "Matthews corrcoef:  0.3665847203459963\n"
          ]
        },
        {
          "output_type": "execute_result",
          "data": {
            "text/plain": [
              "      Actual  Predicted  Probability [0]  Probability [1]\n",
              "2923       1          0         0.685026         0.314974\n",
              "2725       0          1         0.423876         0.576124\n",
              "2585       0          1         0.308864         0.691136\n",
              "1345       0          0         0.679091         0.320909\n",
              "1531       0          0         0.733220         0.266780"
            ],
            "text/html": [
              "\n",
              "  <div id=\"df-932cc800-ed29-485e-abc3-8e12225520e3\">\n",
              "    <div class=\"colab-df-container\">\n",
              "      <div>\n",
              "<style scoped>\n",
              "    .dataframe tbody tr th:only-of-type {\n",
              "        vertical-align: middle;\n",
              "    }\n",
              "\n",
              "    .dataframe tbody tr th {\n",
              "        vertical-align: top;\n",
              "    }\n",
              "\n",
              "    .dataframe thead th {\n",
              "        text-align: right;\n",
              "    }\n",
              "</style>\n",
              "<table border=\"1\" class=\"dataframe\">\n",
              "  <thead>\n",
              "    <tr style=\"text-align: right;\">\n",
              "      <th></th>\n",
              "      <th>Actual</th>\n",
              "      <th>Predicted</th>\n",
              "      <th>Probability [0]</th>\n",
              "      <th>Probability [1]</th>\n",
              "    </tr>\n",
              "  </thead>\n",
              "  <tbody>\n",
              "    <tr>\n",
              "      <th>2923</th>\n",
              "      <td>1</td>\n",
              "      <td>0</td>\n",
              "      <td>0.685026</td>\n",
              "      <td>0.314974</td>\n",
              "    </tr>\n",
              "    <tr>\n",
              "      <th>2725</th>\n",
              "      <td>0</td>\n",
              "      <td>1</td>\n",
              "      <td>0.423876</td>\n",
              "      <td>0.576124</td>\n",
              "    </tr>\n",
              "    <tr>\n",
              "      <th>2585</th>\n",
              "      <td>0</td>\n",
              "      <td>1</td>\n",
              "      <td>0.308864</td>\n",
              "      <td>0.691136</td>\n",
              "    </tr>\n",
              "    <tr>\n",
              "      <th>1345</th>\n",
              "      <td>0</td>\n",
              "      <td>0</td>\n",
              "      <td>0.679091</td>\n",
              "      <td>0.320909</td>\n",
              "    </tr>\n",
              "    <tr>\n",
              "      <th>1531</th>\n",
              "      <td>0</td>\n",
              "      <td>0</td>\n",
              "      <td>0.733220</td>\n",
              "      <td>0.266780</td>\n",
              "    </tr>\n",
              "  </tbody>\n",
              "</table>\n",
              "</div>\n",
              "      <button class=\"colab-df-convert\" onclick=\"convertToInteractive('df-932cc800-ed29-485e-abc3-8e12225520e3')\"\n",
              "              title=\"Convert this dataframe to an interactive table.\"\n",
              "              style=\"display:none;\">\n",
              "        \n",
              "  <svg xmlns=\"http://www.w3.org/2000/svg\" height=\"24px\"viewBox=\"0 0 24 24\"\n",
              "       width=\"24px\">\n",
              "    <path d=\"M0 0h24v24H0V0z\" fill=\"none\"/>\n",
              "    <path d=\"M18.56 5.44l.94 2.06.94-2.06 2.06-.94-2.06-.94-.94-2.06-.94 2.06-2.06.94zm-11 1L8.5 8.5l.94-2.06 2.06-.94-2.06-.94L8.5 2.5l-.94 2.06-2.06.94zm10 10l.94 2.06.94-2.06 2.06-.94-2.06-.94-.94-2.06-.94 2.06-2.06.94z\"/><path d=\"M17.41 7.96l-1.37-1.37c-.4-.4-.92-.59-1.43-.59-.52 0-1.04.2-1.43.59L10.3 9.45l-7.72 7.72c-.78.78-.78 2.05 0 2.83L4 21.41c.39.39.9.59 1.41.59.51 0 1.02-.2 1.41-.59l7.78-7.78 2.81-2.81c.8-.78.8-2.07 0-2.86zM5.41 20L4 18.59l7.72-7.72 1.47 1.35L5.41 20z\"/>\n",
              "  </svg>\n",
              "      </button>\n",
              "      \n",
              "  <style>\n",
              "    .colab-df-container {\n",
              "      display:flex;\n",
              "      flex-wrap:wrap;\n",
              "      gap: 12px;\n",
              "    }\n",
              "\n",
              "    .colab-df-convert {\n",
              "      background-color: #E8F0FE;\n",
              "      border: none;\n",
              "      border-radius: 50%;\n",
              "      cursor: pointer;\n",
              "      display: none;\n",
              "      fill: #1967D2;\n",
              "      height: 32px;\n",
              "      padding: 0 0 0 0;\n",
              "      width: 32px;\n",
              "    }\n",
              "\n",
              "    .colab-df-convert:hover {\n",
              "      background-color: #E2EBFA;\n",
              "      box-shadow: 0px 1px 2px rgba(60, 64, 67, 0.3), 0px 1px 3px 1px rgba(60, 64, 67, 0.15);\n",
              "      fill: #174EA6;\n",
              "    }\n",
              "\n",
              "    [theme=dark] .colab-df-convert {\n",
              "      background-color: #3B4455;\n",
              "      fill: #D2E3FC;\n",
              "    }\n",
              "\n",
              "    [theme=dark] .colab-df-convert:hover {\n",
              "      background-color: #434B5C;\n",
              "      box-shadow: 0px 1px 3px 1px rgba(0, 0, 0, 0.15);\n",
              "      filter: drop-shadow(0px 1px 2px rgba(0, 0, 0, 0.3));\n",
              "      fill: #FFFFFF;\n",
              "    }\n",
              "  </style>\n",
              "\n",
              "      <script>\n",
              "        const buttonEl =\n",
              "          document.querySelector('#df-932cc800-ed29-485e-abc3-8e12225520e3 button.colab-df-convert');\n",
              "        buttonEl.style.display =\n",
              "          google.colab.kernel.accessAllowed ? 'block' : 'none';\n",
              "\n",
              "        async function convertToInteractive(key) {\n",
              "          const element = document.querySelector('#df-932cc800-ed29-485e-abc3-8e12225520e3');\n",
              "          const dataTable =\n",
              "            await google.colab.kernel.invokeFunction('convertToInteractive',\n",
              "                                                     [key], {});\n",
              "          if (!dataTable) return;\n",
              "\n",
              "          const docLinkHtml = 'Like what you see? Visit the ' +\n",
              "            '<a target=\"_blank\" href=https://colab.research.google.com/notebooks/data_table.ipynb>data table notebook</a>'\n",
              "            + ' to learn more about interactive tables.';\n",
              "          element.innerHTML = '';\n",
              "          dataTable['output_type'] = 'display_data';\n",
              "          await google.colab.output.renderOutput(dataTable, element);\n",
              "          const docLink = document.createElement('div');\n",
              "          docLink.innerHTML = docLinkHtml;\n",
              "          element.appendChild(docLink);\n",
              "        }\n",
              "      </script>\n",
              "    </div>\n",
              "  </div>\n",
              "  "
            ]
          },
          "metadata": {},
          "execution_count": 937
        },
        {
          "output_type": "display_data",
          "data": {
            "text/plain": [
              "<Figure size 504x288 with 2 Axes>"
            ],
            "image/png": "[encoded data removed]"
          },
          "metadata": {}
        }
      ],
      "source": [
        "lgr = LogisticRegression(random_state=42, class_weight={0:1, 1:4})\n",
        "\n",
        "lgr.fit(X_train, y_train);\n",
        "\n",
        "model = lgr\n",
        "\n",
        "y_pred = model.predict(X_test)\n",
        "y_prob = model.predict_proba(X_test)\n",
        "\n",
        "sns.set(font_scale=1.2)\n",
        "cm = confusion_matrix(y_test, y_pred)\n",
        "tn, fp, fn, tp = cm.ravel()\n",
        "\n",
        "#Harmonic mean between precision and recall\n",
        "#f1 score: Среднее гармоническое между точностью и полнотой\n",
        "print('f1 score', f1_score(y_test, y_pred))\n",
        "print('Precision: ', tp/(tp + fp))\n",
        "print('Recall: ', tp/(tp + fn))\n",
        "#It’s a correlation between predicted classes and ground truth\n",
        "#Отражает корреляцию между предсказаниями и правдой\n",
        "print('Matthews corrcoef: ', matthews_corrcoef(y_test, y_pred))\n",
        "\n",
        "results.append([\n",
        "                 'Logistic regression',\n",
        "                 f1_score(y_test, y_pred),\n",
        "                 tp/(tp + fp), tp/(tp + fn),\n",
        "                 matthews_corrcoef(y_test, y_pred)\n",
        "               ])\n",
        "\n",
        "sns.heatmap(cm, \n",
        "            annot=True, \n",
        "            fmt = '.3g',\n",
        "            linewidths=0.1,\n",
        "            linecolor='black',\n",
        "            );\n",
        "plt.xlabel('Predicted values')\n",
        "plt.ylabel('True values');\n",
        "\n",
        "compare_ds = pd.DataFrame({'Actual': y_test, 'Predicted': y_pred,\n",
        "                           'Probability [0]' : y_prob[:, 0], 'Probability [1]' : y_prob[:, 1]})\n",
        "compare_ds.head()"
      ]
    },
    {
      "cell_type": "markdown",
      "metadata": {
        "id": "XCgbiKRRnqR0"
      },
      "source": [
        "### Decision tree"
      ]
    },
    {
      "cell_type": "code",
      "execution_count": null,
      "metadata": {
        "colab": {
          "base_uri": "https://localhost:8080/"
        },
        "id": "EBGEANBuqYI_",
        "outputId": "fe5e948f-f17e-488f-fc8b-2ad129b30723"
      },
      "outputs": [
        {
          "output_type": "stream",
          "name": "stdout",
          "text": [
            "Best params:  {'max_depth': 200}\n",
            "f1 score 0.35856573705179284\n",
            "Precision:  0.3488372093023256\n",
            "Recall:  0.36885245901639346\n",
            "Matthews corrcoef:  0.19269650777501987\n"
          ]
        },
        {
          "output_type": "execute_result",
          "data": {
            "text/plain": [
              "      Actual  Predicted  Probability [0]  Probability [1]\n",
              "2923       1          0              1.0              0.0\n",
              "2725       0          0              1.0              0.0\n",
              "2585       0          0              1.0              0.0\n",
              "1345       0          0              1.0              0.0\n",
              "1531       0          0              1.0              0.0"
            ],
            "text/html": [
              "\n",
              "  <div id=\"df-c4aae8a0-6c1f-42a3-b71a-0638de850a2e\">\n",
              "    <div class=\"colab-df-container\">\n",
              "      <div>\n",
              "<style scoped>\n",
              "    .dataframe tbody tr th:only-of-type {\n",
              "        vertical-align: middle;\n",
              "    }\n",
              "\n",
              "    .dataframe tbody tr th {\n",
              "        vertical-align: top;\n",
              "    }\n",
              "\n",
              "    .dataframe thead th {\n",
              "        text-align: right;\n",
              "    }\n",
              "</style>\n",
              "<table border=\"1\" class=\"dataframe\">\n",
              "  <thead>\n",
              "    <tr style=\"text-align: right;\">\n",
              "      <th></th>\n",
              "      <th>Actual</th>\n",
              "      <th>Predicted</th>\n",
              "      <th>Probability [0]</th>\n",
              "      <th>Probability [1]</th>\n",
              "    </tr>\n",
              "  </thead>\n",
              "  <tbody>\n",
              "    <tr>\n",
              "      <th>2923</th>\n",
              "      <td>1</td>\n",
              "      <td>0</td>\n",
              "      <td>1.0</td>\n",
              "      <td>0.0</td>\n",
              "    </tr>\n",
              "    <tr>\n",
              "      <th>2725</th>\n",
              "      <td>0</td>\n",
              "      <td>0</td>\n",
              "      <td>1.0</td>\n",
              "      <td>0.0</td>\n",
              "    </tr>\n",
              "    <tr>\n",
              "      <th>2585</th>\n",
              "      <td>0</td>\n",
              "      <td>0</td>\n",
              "      <td>1.0</td>\n",
              "      <td>0.0</td>\n",
              "    </tr>\n",
              "    <tr>\n",
              "      <th>1345</th>\n",
              "      <td>0</td>\n",
              "      <td>0</td>\n",
              "      <td>1.0</td>\n",
              "      <td>0.0</td>\n",
              "    </tr>\n",
              "    <tr>\n",
              "      <th>1531</th>\n",
              "      <td>0</td>\n",
              "      <td>0</td>\n",
              "      <td>1.0</td>\n",
              "      <td>0.0</td>\n",
              "    </tr>\n",
              "  </tbody>\n",
              "</table>\n",
              "</div>\n",
              "      <button class=\"colab-df-convert\" onclick=\"convertToInteractive('df-c4aae8a0-6c1f-42a3-b71a-0638de850a2e')\"\n",
              "              title=\"Convert this dataframe to an interactive table.\"\n",
              "              style=\"display:none;\">\n",
              "        \n",
              "  <svg xmlns=\"http://www.w3.org/2000/svg\" height=\"24px\"viewBox=\"0 0 24 24\"\n",
              "       width=\"24px\">\n",
              "    <path d=\"M0 0h24v24H0V0z\" fill=\"none\"/>\n",
              "    <path d=\"M18.56 5.44l.94 2.06.94-2.06 2.06-.94-2.06-.94-.94-2.06-.94 2.06-2.06.94zm-11 1L8.5 8.5l.94-2.06 2.06-.94-2.06-.94L8.5 2.5l-.94 2.06-2.06.94zm10 10l.94 2.06.94-2.06 2.06-.94-2.06-.94-.94-2.06-.94 2.06-2.06.94z\"/><path d=\"M17.41 7.96l-1.37-1.37c-.4-.4-.92-.59-1.43-.59-.52 0-1.04.2-1.43.59L10.3 9.45l-7.72 7.72c-.78.78-.78 2.05 0 2.83L4 21.41c.39.39.9.59 1.41.59.51 0 1.02-.2 1.41-.59l7.78-7.78 2.81-2.81c.8-.78.8-2.07 0-2.86zM5.41 20L4 18.59l7.72-7.72 1.47 1.35L5.41 20z\"/>\n",
              "  </svg>\n",
              "      </button>\n",
              "      \n",
              "  <style>\n",
              "    .colab-df-container {\n",
              "      display:flex;\n",
              "      flex-wrap:wrap;\n",
              "      gap: 12px;\n",
              "    }\n",
              "\n",
              "    .colab-df-convert {\n",
              "      background-color: #E8F0FE;\n",
              "      border: none;\n",
              "      border-radius: 50%;\n",
              "      cursor: pointer;\n",
              "      display: none;\n",
              "      fill: #1967D2;\n",
              "      height: 32px;\n",
              "      padding: 0 0 0 0;\n",
              "      width: 32px;\n",
              "    }\n",
              "\n",
              "    .colab-df-convert:hover {\n",
              "      background-color: #E2EBFA;\n",
              "      box-shadow: 0px 1px 2px rgba(60, 64, 67, 0.3), 0px 1px 3px 1px rgba(60, 64, 67, 0.15);\n",
              "      fill: #174EA6;\n",
              "    }\n",
              "\n",
              "    [theme=dark] .colab-df-convert {\n",
              "      background-color: #3B4455;\n",
              "      fill: #D2E3FC;\n",
              "    }\n",
              "\n",
              "    [theme=dark] .colab-df-convert:hover {\n",
              "      background-color: #434B5C;\n",
              "      box-shadow: 0px 1px 3px 1px rgba(0, 0, 0, 0.15);\n",
              "      filter: drop-shadow(0px 1px 2px rgba(0, 0, 0, 0.3));\n",
              "      fill: #FFFFFF;\n",
              "    }\n",
              "  </style>\n",
              "\n",
              "      <script>\n",
              "        const buttonEl =\n",
              "          document.querySelector('#df-c4aae8a0-6c1f-42a3-b71a-0638de850a2e button.colab-df-convert');\n",
              "        buttonEl.style.display =\n",
              "          google.colab.kernel.accessAllowed ? 'block' : 'none';\n",
              "\n",
              "        async function convertToInteractive(key) {\n",
              "          const element = document.querySelector('#df-c4aae8a0-6c1f-42a3-b71a-0638de850a2e');\n",
              "          const dataTable =\n",
              "            await google.colab.kernel.invokeFunction('convertToInteractive',\n",
              "                                                     [key], {});\n",
              "          if (!dataTable) return;\n",
              "\n",
              "          const docLinkHtml = 'Like what you see? Visit the ' +\n",
              "            '<a target=\"_blank\" href=https://colab.research.google.com/notebooks/data_table.ipynb>data table notebook</a>'\n",
              "            + ' to learn more about interactive tables.';\n",
              "          element.innerHTML = '';\n",
              "          dataTable['output_type'] = 'display_data';\n",
              "          await google.colab.output.renderOutput(dataTable, element);\n",
              "          const docLink = document.createElement('div');\n",
              "          docLink.innerHTML = docLinkHtml;\n",
              "          element.appendChild(docLink);\n",
              "        }\n",
              "      </script>\n",
              "    </div>\n",
              "  </div>\n",
              "  "
            ]
          },
          "metadata": {},
          "execution_count": 938
        },
        {
          "output_type": "display_data",
          "data": {
            "text/plain": [
              "<Figure size 504x288 with 2 Axes>"
            ],
            "image/png": "[encoded data removed]"
          },
          "metadata": {}
        }
      ],
      "source": [
        "dtr = tree.DecisionTreeClassifier(class_weight={0:1, 1:4})\n",
        "\n",
        "parameters = {\n",
        "    'max_depth': [10, 20, 30, 50, 100, 200],\n",
        "};\n",
        "\n",
        "grid_search_dtr = GridSearchCV(estimator = dtr, scoring='f1_weighted', param_grid = parameters, cv=10)\n",
        "\n",
        "grid_search_dtr.fit(X_train, y_train);\n",
        "\n",
        "print('Best params: ', grid_search_dtr.best_params_)\n",
        "\n",
        "model = grid_search_dtr\n",
        "\n",
        "y_pred = model.predict(X_test)\n",
        "y_prob = model.predict_proba(X_test)\n",
        "\n",
        "sns.set(font_scale=1.2)\n",
        "cm = confusion_matrix(y_test, y_pred)\n",
        "tn, fp, fn, tp = cm.ravel()\n",
        "\n",
        "#Harmonic mean between precision and recall\n",
        "#f1 score: Среднее гармоническое между точностью и полнотой\n",
        "print('f1 score', f1_score(y_test, y_pred))\n",
        "print('Precision: ', tp/(tp + fp))\n",
        "print('Recall: ', tp/(tp + fn))\n",
        "#It’s a correlation between predicted classes and ground truth\n",
        "#Отражает корреляцию между предсказаниями и правдой\n",
        "print('Matthews corrcoef: ', matthews_corrcoef(y_test, y_pred))\n",
        "\n",
        "results.append([\n",
        "                 'Decision Tree Classifier',\n",
        "                 f1_score(y_test, y_pred),\n",
        "                 tp/(tp + fp), tp/(tp + fn),\n",
        "                 matthews_corrcoef(y_test, y_pred)\n",
        "               ])\n",
        "\n",
        "sns.heatmap(cm, \n",
        "            annot=True, \n",
        "            fmt = '.3g',\n",
        "            linewidths=0.1,\n",
        "            linecolor='black',\n",
        "            );\n",
        "plt.xlabel('Predicted values')\n",
        "plt.ylabel('True values');\n",
        "\n",
        "compare_ds = pd.DataFrame({'Actual': y_test, 'Predicted': y_pred,\n",
        "                           'Probability [0]' : y_prob[:, 0], 'Probability [1]' : y_prob[:, 1]})\n",
        "compare_ds.head()"
      ]
    },
    {
      "cell_type": "markdown",
      "metadata": {
        "id": "6jzgUmQcQbK2"
      },
      "source": [
        "### Gaussian Bayes"
      ]
    },
    {
      "cell_type": "code",
      "execution_count": null,
      "metadata": {
        "colab": {
          "base_uri": "https://localhost:8080/"
        },
        "id": "IlkW1OYAQ5we",
        "outputId": "a858ca10-53e9-4539-92d5-6a2d875b8963"
      },
      "outputs": [
        {
          "output_type": "stream",
          "name": "stdout",
          "text": [
            "f1 score 0.34196891191709844\n",
            "Precision:  0.4647887323943662\n",
            "Recall:  0.27049180327868855\n",
            "Matthews corrcoef:  0.2402560324809437\n"
          ]
        },
        {
          "output_type": "execute_result",
          "data": {
            "text/plain": [
              "      Actual  Predicted  Probability [0]  Probability [1]\n",
              "2923       1          0         0.719140         0.280860\n",
              "2725       0          0         0.795930         0.204070\n",
              "2585       0          0         0.543314         0.456686\n",
              "1345       0          0         0.951791         0.048209\n",
              "1531       0          0         0.965589         0.034411"
            ],
            "text/html": [
              "\n",
              "  <div id=\"df-1b23ea0d-d0ba-42d5-b3da-9f6da5370406\">\n",
              "    <div class=\"colab-df-container\">\n",
              "      <div>\n",
              "<style scoped>\n",
              "    .dataframe tbody tr th:only-of-type {\n",
              "        vertical-align: middle;\n",
              "    }\n",
              "\n",
              "    .dataframe tbody tr th {\n",
              "        vertical-align: top;\n",
              "    }\n",
              "\n",
              "    .dataframe thead th {\n",
              "        text-align: right;\n",
              "    }\n",
              "</style>\n",
              "<table border=\"1\" class=\"dataframe\">\n",
              "  <thead>\n",
              "    <tr style=\"text-align: right;\">\n",
              "      <th></th>\n",
              "      <th>Actual</th>\n",
              "      <th>Predicted</th>\n",
              "      <th>Probability [0]</th>\n",
              "      <th>Probability [1]</th>\n",
              "    </tr>\n",
              "  </thead>\n",
              "  <tbody>\n",
              "    <tr>\n",
              "      <th>2923</th>\n",
              "      <td>1</td>\n",
              "      <td>0</td>\n",
              "      <td>0.719140</td>\n",
              "      <td>0.280860</td>\n",
              "    </tr>\n",
              "    <tr>\n",
              "      <th>2725</th>\n",
              "      <td>0</td>\n",
              "      <td>0</td>\n",
              "      <td>0.795930</td>\n",
              "      <td>0.204070</td>\n",
              "    </tr>\n",
              "    <tr>\n",
              "      <th>2585</th>\n",
              "      <td>0</td>\n",
              "      <td>0</td>\n",
              "      <td>0.543314</td>\n",
              "      <td>0.456686</td>\n",
              "    </tr>\n",
              "    <tr>\n",
              "      <th>1345</th>\n",
              "      <td>0</td>\n",
              "      <td>0</td>\n",
              "      <td>0.951791</td>\n",
              "      <td>0.048209</td>\n",
              "    </tr>\n",
              "    <tr>\n",
              "      <th>1531</th>\n",
              "      <td>0</td>\n",
              "      <td>0</td>\n",
              "      <td>0.965589</td>\n",
              "      <td>0.034411</td>\n",
              "    </tr>\n",
              "  </tbody>\n",
              "</table>\n",
              "</div>\n",
              "      <button class=\"colab-df-convert\" onclick=\"convertToInteractive('df-1b23ea0d-d0ba-42d5-b3da-9f6da5370406')\"\n",
              "              title=\"Convert this dataframe to an interactive table.\"\n",
              "              style=\"display:none;\">\n",
              "        \n",
              "  <svg xmlns=\"http://www.w3.org/2000/svg\" height=\"24px\"viewBox=\"0 0 24 24\"\n",
              "       width=\"24px\">\n",
              "    <path d=\"M0 0h24v24H0V0z\" fill=\"none\"/>\n",
              "    <path d=\"M18.56 5.44l.94 2.06.94-2.06 2.06-.94-2.06-.94-.94-2.06-.94 2.06-2.06.94zm-11 1L8.5 8.5l.94-2.06 2.06-.94-2.06-.94L8.5 2.5l-.94 2.06-2.06.94zm10 10l.94 2.06.94-2.06 2.06-.94-2.06-.94-.94-2.06-.94 2.06-2.06.94z\"/><path d=\"M17.41 7.96l-1.37-1.37c-.4-.4-.92-.59-1.43-.59-.52 0-1.04.2-1.43.59L10.3 9.45l-7.72 7.72c-.78.78-.78 2.05 0 2.83L4 21.41c.39.39.9.59 1.41.59.51 0 1.02-.2 1.41-.59l7.78-7.78 2.81-2.81c.8-.78.8-2.07 0-2.86zM5.41 20L4 18.59l7.72-7.72 1.47 1.35L5.41 20z\"/>\n",
              "  </svg>\n",
              "      </button>\n",
              "      \n",
              "  <style>\n",
              "    .colab-df-container {\n",
              "      display:flex;\n",
              "      flex-wrap:wrap;\n",
              "      gap: 12px;\n",
              "    }\n",
              "\n",
              "    .colab-df-convert {\n",
              "      background-color: #E8F0FE;\n",
              "      border: none;\n",
              "      border-radius: 50%;\n",
              "      cursor: pointer;\n",
              "      display: none;\n",
              "      fill: #1967D2;\n",
              "      height: 32px;\n",
              "      padding: 0 0 0 0;\n",
              "      width: 32px;\n",
              "    }\n",
              "\n",
              "    .colab-df-convert:hover {\n",
              "      background-color: #E2EBFA;\n",
              "      box-shadow: 0px 1px 2px rgba(60, 64, 67, 0.3), 0px 1px 3px 1px rgba(60, 64, 67, 0.15);\n",
              "      fill: #174EA6;\n",
              "    }\n",
              "\n",
              "    [theme=dark] .colab-df-convert {\n",
              "      background-color: #3B4455;\n",
              "      fill: #D2E3FC;\n",
              "    }\n",
              "\n",
              "    [theme=dark] .colab-df-convert:hover {\n",
              "      background-color: #434B5C;\n",
              "      box-shadow: 0px 1px 3px 1px rgba(0, 0, 0, 0.15);\n",
              "      filter: drop-shadow(0px 1px 2px rgba(0, 0, 0, 0.3));\n",
              "      fill: #FFFFFF;\n",
              "    }\n",
              "  </style>\n",
              "\n",
              "      <script>\n",
              "        const buttonEl =\n",
              "          document.querySelector('#df-1b23ea0d-d0ba-42d5-b3da-9f6da5370406 button.colab-df-convert');\n",
              "        buttonEl.style.display =\n",
              "          google.colab.kernel.accessAllowed ? 'block' : 'none';\n",
              "\n",
              "        async function convertToInteractive(key) {\n",
              "          const element = document.querySelector('#df-1b23ea0d-d0ba-42d5-b3da-9f6da5370406');\n",
              "          const dataTable =\n",
              "            await google.colab.kernel.invokeFunction('convertToInteractive',\n",
              "                                                     [key], {});\n",
              "          if (!dataTable) return;\n",
              "\n",
              "          const docLinkHtml = 'Like what you see? Visit the ' +\n",
              "            '<a target=\"_blank\" href=https://colab.research.google.com/notebooks/data_table.ipynb>data table notebook</a>'\n",
              "            + ' to learn more about interactive tables.';\n",
              "          element.innerHTML = '';\n",
              "          dataTable['output_type'] = 'display_data';\n",
              "          await google.colab.output.renderOutput(dataTable, element);\n",
              "          const docLink = document.createElement('div');\n",
              "          docLink.innerHTML = docLinkHtml;\n",
              "          element.appendChild(docLink);\n",
              "        }\n",
              "      </script>\n",
              "    </div>\n",
              "  </div>\n",
              "  "
            ]
          },
          "metadata": {},
          "execution_count": 939
        },
        {
          "output_type": "display_data",
          "data": {
            "text/plain": [
              "<Figure size 504x288 with 2 Axes>"
            ],
            "image/png": "[encoded data removed]"
          },
          "metadata": {}
        }
      ],
      "source": [
        "cnb = GaussianNB()\n",
        "\n",
        "model = cnb.fit(X_train, y_train)\n",
        "\n",
        "y_pred = model.predict(X_test)\n",
        "y_prob = model.predict_proba(X_test)\n",
        "\n",
        "sns.set(font_scale=1.2)\n",
        "cm = confusion_matrix(y_test, y_pred)\n",
        "tn, fp, fn, tp = cm.ravel()\n",
        "\n",
        "#Harmonic mean between precision and recall\n",
        "#f1 score: Среднее гармоническое между точностью и полнотой\n",
        "print('f1 score', f1_score(y_test, y_pred))\n",
        "print('Precision: ', tp/(tp + fp))\n",
        "print('Recall: ', tp/(tp + fn))\n",
        "#It’s a correlation between predicted classes and ground truth\n",
        "#Отражает корреляцию между предсказаниями и правдой\n",
        "print('Matthews corrcoef: ', matthews_corrcoef(y_test, y_pred))\n",
        "\n",
        "results.append([\n",
        "                 'Gaussian Naive Bayes',\n",
        "                 f1_score(y_test, y_pred),\n",
        "                 tp/(tp + fp), tp/(tp + fn),\n",
        "                 matthews_corrcoef(y_test, y_pred)\n",
        "               ])\n",
        "\n",
        "sns.heatmap(cm, \n",
        "            annot=True, \n",
        "            fmt = '.3g',\n",
        "            linewidths=0.1,\n",
        "            linecolor='black',\n",
        "            );\n",
        "plt.xlabel('Predicted values')\n",
        "plt.ylabel('True values');\n",
        "\n",
        "compare_ds = pd.DataFrame({'Actual': y_test, 'Predicted': y_pred,\n",
        "                           'Probability [0]' : y_prob[:, 0], 'Probability [1]' : y_prob[:, 1]})\n",
        "compare_ds.head()"
      ]
    },
    {
      "cell_type": "markdown",
      "metadata": {
        "id": "XuUR53gSipSi"
      },
      "source": [
        "### K-Nearest neighbors"
      ]
    },
    {
      "cell_type": "code",
      "execution_count": null,
      "metadata": {
        "colab": {
          "base_uri": "https://localhost:8080/"
        },
        "id": "rmAHwOeQJOS4",
        "outputId": "560555d5-0bd2-4e3b-cfb9-7e27eef23928"
      },
      "outputs": [
        {
          "output_type": "stream",
          "name": "stdout",
          "text": [
            "Best params:  {'n_neighbors': 10}\n",
            "f1 score 0.44565217391304346\n",
            "Precision:  0.6612903225806451\n",
            "Recall:  0.3360655737704918\n",
            "Matthews corrcoef:  0.3879001234451698\n"
          ]
        },
        {
          "output_type": "execute_result",
          "data": {
            "text/plain": [
              "      Actual  Predicted  Probability [0]  Probability [1]\n",
              "2923       1          0              1.0              0.0\n",
              "2725       0          0              0.8              0.2\n",
              "2585       0          0              0.8              0.2\n",
              "1345       0          0              1.0              0.0\n",
              "1531       0          0              1.0              0.0"
            ],
            "text/html": [
              "\n",
              "  <div id=\"df-8f1a4a45-6254-4dc8-8630-e470006fe645\">\n",
              "    <div class=\"colab-df-container\">\n",
              "      <div>\n",
              "<style scoped>\n",
              "    .dataframe tbody tr th:only-of-type {\n",
              "        vertical-align: middle;\n",
              "    }\n",
              "\n",
              "    .dataframe tbody tr th {\n",
              "        vertical-align: top;\n",
              "    }\n",
              "\n",
              "    .dataframe thead th {\n",
              "        text-align: right;\n",
              "    }\n",
              "</style>\n",
              "<table border=\"1\" class=\"dataframe\">\n",
              "  <thead>\n",
              "    <tr style=\"text-align: right;\">\n",
              "      <th></th>\n",
              "      <th>Actual</th>\n",
              "      <th>Predicted</th>\n",
              "      <th>Probability [0]</th>\n",
              "      <th>Probability [1]</th>\n",
              "    </tr>\n",
              "  </thead>\n",
              "  <tbody>\n",
              "    <tr>\n",
              "      <th>2923</th>\n",
              "      <td>1</td>\n",
              "      <td>0</td>\n",
              "      <td>1.0</td>\n",
              "      <td>0.0</td>\n",
              "    </tr>\n",
              "    <tr>\n",
              "      <th>2725</th>\n",
              "      <td>0</td>\n",
              "      <td>0</td>\n",
              "      <td>0.8</td>\n",
              "      <td>0.2</td>\n",
              "    </tr>\n",
              "    <tr>\n",
              "      <th>2585</th>\n",
              "      <td>0</td>\n",
              "      <td>0</td>\n",
              "      <td>0.8</td>\n",
              "      <td>0.2</td>\n",
              "    </tr>\n",
              "    <tr>\n",
              "      <th>1345</th>\n",
              "      <td>0</td>\n",
              "      <td>0</td>\n",
              "      <td>1.0</td>\n",
              "      <td>0.0</td>\n",
              "    </tr>\n",
              "    <tr>\n",
              "      <th>1531</th>\n",
              "      <td>0</td>\n",
              "      <td>0</td>\n",
              "      <td>1.0</td>\n",
              "      <td>0.0</td>\n",
              "    </tr>\n",
              "  </tbody>\n",
              "</table>\n",
              "</div>\n",
              "      <button class=\"colab-df-convert\" onclick=\"convertToInteractive('df-8f1a4a45-6254-4dc8-8630-e470006fe645')\"\n",
              "              title=\"Convert this dataframe to an interactive table.\"\n",
              "              style=\"display:none;\">\n",
              "        \n",
              "  <svg xmlns=\"http://www.w3.org/2000/svg\" height=\"24px\"viewBox=\"0 0 24 24\"\n",
              "       width=\"24px\">\n",
              "    <path d=\"M0 0h24v24H0V0z\" fill=\"none\"/>\n",
              "    <path d=\"M18.56 5.44l.94 2.06.94-2.06 2.06-.94-2.06-.94-.94-2.06-.94 2.06-2.06.94zm-11 1L8.5 8.5l.94-2.06 2.06-.94-2.06-.94L8.5 2.5l-.94 2.06-2.06.94zm10 10l.94 2.06.94-2.06 2.06-.94-2.06-.94-.94-2.06-.94 2.06-2.06.94z\"/><path d=\"M17.41 7.96l-1.37-1.37c-.4-.4-.92-.59-1.43-.59-.52 0-1.04.2-1.43.59L10.3 9.45l-7.72 7.72c-.78.78-.78 2.05 0 2.83L4 21.41c.39.39.9.59 1.41.59.51 0 1.02-.2 1.41-.59l7.78-7.78 2.81-2.81c.8-.78.8-2.07 0-2.86zM5.41 20L4 18.59l7.72-7.72 1.47 1.35L5.41 20z\"/>\n",
              "  </svg>\n",
              "      </button>\n",
              "      \n",
              "  <style>\n",
              "    .colab-df-container {\n",
              "      display:flex;\n",
              "      flex-wrap:wrap;\n",
              "      gap: 12px;\n",
              "    }\n",
              "\n",
              "    .colab-df-convert {\n",
              "      background-color: #E8F0FE;\n",
              "      border: none;\n",
              "      border-radius: 50%;\n",
              "      cursor: pointer;\n",
              "      display: none;\n",
              "      fill: #1967D2;\n",
              "      height: 32px;\n",
              "      padding: 0 0 0 0;\n",
              "      width: 32px;\n",
              "    }\n",
              "\n",
              "    .colab-df-convert:hover {\n",
              "      background-color: #E2EBFA;\n",
              "      box-shadow: 0px 1px 2px rgba(60, 64, 67, 0.3), 0px 1px 3px 1px rgba(60, 64, 67, 0.15);\n",
              "      fill: #174EA6;\n",
              "    }\n",
              "\n",
              "    [theme=dark] .colab-df-convert {\n",
              "      background-color: #3B4455;\n",
              "      fill: #D2E3FC;\n",
              "    }\n",
              "\n",
              "    [theme=dark] .colab-df-convert:hover {\n",
              "      background-color: #434B5C;\n",
              "      box-shadow: 0px 1px 3px 1px rgba(0, 0, 0, 0.15);\n",
              "      filter: drop-shadow(0px 1px 2px rgba(0, 0, 0, 0.3));\n",
              "      fill: #FFFFFF;\n",
              "    }\n",
              "  </style>\n",
              "\n",
              "      <script>\n",
              "        const buttonEl =\n",
              "          document.querySelector('#df-8f1a4a45-6254-4dc8-8630-e470006fe645 button.colab-df-convert');\n",
              "        buttonEl.style.display =\n",
              "          google.colab.kernel.accessAllowed ? 'block' : 'none';\n",
              "\n",
              "        async function convertToInteractive(key) {\n",
              "          const element = document.querySelector('#df-8f1a4a45-6254-4dc8-8630-e470006fe645');\n",
              "          const dataTable =\n",
              "            await google.colab.kernel.invokeFunction('convertToInteractive',\n",
              "                                                     [key], {});\n",
              "          if (!dataTable) return;\n",
              "\n",
              "          const docLinkHtml = 'Like what you see? Visit the ' +\n",
              "            '<a target=\"_blank\" href=https://colab.research.google.com/notebooks/data_table.ipynb>data table notebook</a>'\n",
              "            + ' to learn more about interactive tables.';\n",
              "          element.innerHTML = '';\n",
              "          dataTable['output_type'] = 'display_data';\n",
              "          await google.colab.output.renderOutput(dataTable, element);\n",
              "          const docLink = document.createElement('div');\n",
              "          docLink.innerHTML = docLinkHtml;\n",
              "          element.appendChild(docLink);\n",
              "        }\n",
              "      </script>\n",
              "    </div>\n",
              "  </div>\n",
              "  "
            ]
          },
          "metadata": {},
          "execution_count": 940
        },
        {
          "output_type": "display_data",
          "data": {
            "text/plain": [
              "<Figure size 504x288 with 2 Axes>"
            ],
            "image/png": "[encoded data removed]"
          },
          "metadata": {}
        }
      ],
      "source": [
        "knn = KNeighborsClassifier()\n",
        "\n",
        "parameters = {\n",
        "    'n_neighbors' : [1, 5, 10, 20],\n",
        "};\n",
        "\n",
        "grid_search_knn = GridSearchCV(estimator = knn, scoring='f1_weighted', param_grid = parameters, cv=10)\n",
        "\n",
        "grid_search_knn.fit(X_train, y_train);\n",
        "\n",
        "print('Best params: ', grid_search_knn.best_params_)\n",
        "\n",
        "model = grid_search_knn\n",
        "\n",
        "y_pred = model.predict(X_test)\n",
        "y_prob = model.predict_proba(X_test)\n",
        "\n",
        "sns.set(font_scale=1.2)\n",
        "cm = confusion_matrix(y_test, y_pred)\n",
        "tn, fp, fn, tp = cm.ravel()\n",
        "\n",
        "#Harmonic mean between precision and recall\n",
        "#f1 score: Среднее гармоническое между точностью и полнотой\n",
        "print('f1 score', f1_score(y_test, y_pred))\n",
        "print('Precision: ', tp/(tp + fp))\n",
        "print('Recall: ', tp/(tp + fn))\n",
        "#It’s a correlation between predicted classes and ground truth\n",
        "#Отражает корреляцию между предсказаниями и правдой\n",
        "print('Matthews corrcoef: ', matthews_corrcoef(y_test, y_pred))\n",
        "\n",
        "results.append([\n",
        "                 'K-Nearest neighbors',\n",
        "                 f1_score(y_test, y_pred),\n",
        "                 tp/(tp + fp), tp/(tp + fn),\n",
        "                 matthews_corrcoef(y_test, y_pred)\n",
        "               ])\n",
        "\n",
        "sns.heatmap(cm, \n",
        "            annot=True, \n",
        "            fmt = '.3g',\n",
        "            linewidths=0.1,\n",
        "            linecolor='black',\n",
        "            );\n",
        "plt.xlabel('Predicted values')\n",
        "plt.ylabel('True values');\n",
        "\n",
        "compare_ds = pd.DataFrame({'Actual': y_test, 'Predicted': y_pred,\n",
        "                           'Probability [0]' : y_prob[:, 0], 'Probability [1]' : y_prob[:, 1]})\n",
        "compare_ds.head()"
      ]
    },
    {
      "cell_type": "markdown",
      "metadata": {
        "id": "tGDSLcBIlvOx"
      },
      "source": [
        "### SVC"
      ]
    },
    {
      "cell_type": "code",
      "execution_count": null,
      "metadata": {
        "colab": {
          "base_uri": "https://localhost:8080/"
        },
        "id": "a4qccR3jltZu",
        "outputId": "63246a1d-ee23-461d-915e-17277509220c"
      },
      "outputs": [
        {
          "output_type": "stream",
          "name": "stdout",
          "text": [
            "Best params:  {'C': 15, 'gamma': 0.001, 'kernel': 'rbf'}\n",
            "f1 score 0.47413793103448276\n",
            "Precision:  0.5\n",
            "Recall:  0.45081967213114754\n",
            "Matthews corrcoef:  0.35178118198675723\n"
          ]
        },
        {
          "output_type": "execute_result",
          "data": {
            "text/plain": [
              "      Actual  Predicted\n",
              "2923       1          0\n",
              "2725       0          0\n",
              "2585       0          1\n",
              "1345       0          0\n",
              "1531       0          0"
            ],
            "text/html": [
              "\n",
              "  <div id=\"df-30d3c295-6150-4e4c-aba1-39b2d07985ac\">\n",
              "    <div class=\"colab-df-container\">\n",
              "      <div>\n",
              "<style scoped>\n",
              "    .dataframe tbody tr th:only-of-type {\n",
              "        vertical-align: middle;\n",
              "    }\n",
              "\n",
              "    .dataframe tbody tr th {\n",
              "        vertical-align: top;\n",
              "    }\n",
              "\n",
              "    .dataframe thead th {\n",
              "        text-align: right;\n",
              "    }\n",
              "</style>\n",
              "<table border=\"1\" class=\"dataframe\">\n",
              "  <thead>\n",
              "    <tr style=\"text-align: right;\">\n",
              "      <th></th>\n",
              "      <th>Actual</th>\n",
              "      <th>Predicted</th>\n",
              "    </tr>\n",
              "  </thead>\n",
              "  <tbody>\n",
              "    <tr>\n",
              "      <th>2923</th>\n",
              "      <td>1</td>\n",
              "      <td>0</td>\n",
              "    </tr>\n",
              "    <tr>\n",
              "      <th>2725</th>\n",
              "      <td>0</td>\n",
              "      <td>0</td>\n",
              "    </tr>\n",
              "    <tr>\n",
              "      <th>2585</th>\n",
              "      <td>0</td>\n",
              "      <td>1</td>\n",
              "    </tr>\n",
              "    <tr>\n",
              "      <th>1345</th>\n",
              "      <td>0</td>\n",
              "      <td>0</td>\n",
              "    </tr>\n",
              "    <tr>\n",
              "      <th>1531</th>\n",
              "      <td>0</td>\n",
              "      <td>0</td>\n",
              "    </tr>\n",
              "  </tbody>\n",
              "</table>\n",
              "</div>\n",
              "      <button class=\"colab-df-convert\" onclick=\"convertToInteractive('df-30d3c295-6150-4e4c-aba1-39b2d07985ac')\"\n",
              "              title=\"Convert this dataframe to an interactive table.\"\n",
              "              style=\"display:none;\">\n",
              "        \n",
              "  <svg xmlns=\"http://www.w3.org/2000/svg\" height=\"24px\"viewBox=\"0 0 24 24\"\n",
              "       width=\"24px\">\n",
              "    <path d=\"M0 0h24v24H0V0z\" fill=\"none\"/>\n",
              "    <path d=\"M18.56 5.44l.94 2.06.94-2.06 2.06-.94-2.06-.94-.94-2.06-.94 2.06-2.06.94zm-11 1L8.5 8.5l.94-2.06 2.06-.94-2.06-.94L8.5 2.5l-.94 2.06-2.06.94zm10 10l.94 2.06.94-2.06 2.06-.94-2.06-.94-.94-2.06-.94 2.06-2.06.94z\"/><path d=\"M17.41 7.96l-1.37-1.37c-.4-.4-.92-.59-1.43-.59-.52 0-1.04.2-1.43.59L10.3 9.45l-7.72 7.72c-.78.78-.78 2.05 0 2.83L4 21.41c.39.39.9.59 1.41.59.51 0 1.02-.2 1.41-.59l7.78-7.78 2.81-2.81c.8-.78.8-2.07 0-2.86zM5.41 20L4 18.59l7.72-7.72 1.47 1.35L5.41 20z\"/>\n",
              "  </svg>\n",
              "      </button>\n",
              "      \n",
              "  <style>\n",
              "    .colab-df-container {\n",
              "      display:flex;\n",
              "      flex-wrap:wrap;\n",
              "      gap: 12px;\n",
              "    }\n",
              "\n",
              "    .colab-df-convert {\n",
              "      background-color: #E8F0FE;\n",
              "      border: none;\n",
              "      border-radius: 50%;\n",
              "      cursor: pointer;\n",
              "      display: none;\n",
              "      fill: #1967D2;\n",
              "      height: 32px;\n",
              "      padding: 0 0 0 0;\n",
              "      width: 32px;\n",
              "    }\n",
              "\n",
              "    .colab-df-convert:hover {\n",
              "      background-color: #E2EBFA;\n",
              "      box-shadow: 0px 1px 2px rgba(60, 64, 67, 0.3), 0px 1px 3px 1px rgba(60, 64, 67, 0.15);\n",
              "      fill: #174EA6;\n",
              "    }\n",
              "\n",
              "    [theme=dark] .colab-df-convert {\n",
              "      background-color: #3B4455;\n",
              "      fill: #D2E3FC;\n",
              "    }\n",
              "\n",
              "    [theme=dark] .colab-df-convert:hover {\n",
              "      background-color: #434B5C;\n",
              "      box-shadow: 0px 1px 3px 1px rgba(0, 0, 0, 0.15);\n",
              "      filter: drop-shadow(0px 1px 2px rgba(0, 0, 0, 0.3));\n",
              "      fill: #FFFFFF;\n",
              "    }\n",
              "  </style>\n",
              "\n",
              "      <script>\n",
              "        const buttonEl =\n",
              "          document.querySelector('#df-30d3c295-6150-4e4c-aba1-39b2d07985ac button.colab-df-convert');\n",
              "        buttonEl.style.display =\n",
              "          google.colab.kernel.accessAllowed ? 'block' : 'none';\n",
              "\n",
              "        async function convertToInteractive(key) {\n",
              "          const element = document.querySelector('#df-30d3c295-6150-4e4c-aba1-39b2d07985ac');\n",
              "          const dataTable =\n",
              "            await google.colab.kernel.invokeFunction('convertToInteractive',\n",
              "                                                     [key], {});\n",
              "          if (!dataTable) return;\n",
              "\n",
              "          const docLinkHtml = 'Like what you see? Visit the ' +\n",
              "            '<a target=\"_blank\" href=https://colab.research.google.com/notebooks/data_table.ipynb>data table notebook</a>'\n",
              "            + ' to learn more about interactive tables.';\n",
              "          element.innerHTML = '';\n",
              "          dataTable['output_type'] = 'display_data';\n",
              "          await google.colab.output.renderOutput(dataTable, element);\n",
              "          const docLink = document.createElement('div');\n",
              "          docLink.innerHTML = docLinkHtml;\n",
              "          element.appendChild(docLink);\n",
              "        }\n",
              "      </script>\n",
              "    </div>\n",
              "  </div>\n",
              "  "
            ]
          },
          "metadata": {},
          "execution_count": 941
        },
        {
          "output_type": "display_data",
          "data": {
            "text/plain": [
              "<Figure size 504x288 with 2 Axes>"
            ],
            "image/png": "[encoded data removed]"
          },
          "metadata": {}
        }
      ],
      "source": [
        "svc = SVC(class_weight={0:1, 1:4})\n",
        "\n",
        "parameters = {\n",
        "    'C':[1, 5, 10, 15],'gamma':[1,0.1,0.001,0.0001], 'kernel':['linear','rbf'],\n",
        "};\n",
        "\n",
        "grid_search_svc = GridSearchCV(estimator = svc, scoring='f1_weighted', param_grid = parameters, cv=10)\n",
        "\n",
        "grid_search_svc.fit(X_train, y_train);\n",
        "\n",
        "print('Best params: ', grid_search_svc.best_params_)\n",
        "\n",
        "model = grid_search_svc\n",
        "\n",
        "y_pred = model.predict(X_test)\n",
        "\n",
        "sns.set(font_scale=1.2)\n",
        "cm = confusion_matrix(y_test, y_pred)\n",
        "tn, fp, fn, tp = cm.ravel()\n",
        "\n",
        "#Harmonic mean between precision and recall\n",
        "#f1 score: Среднее гармоническое между точностью и полнотой\n",
        "print('f1 score', f1_score(y_test, y_pred))\n",
        "print('Precision: ', tp/(tp + fp))\n",
        "print('Recall: ', tp/(tp + fn))\n",
        "#It’s a correlation between predicted classes and ground truth\n",
        "#Отражает корреляцию между предсказаниями и правдой\n",
        "print('Matthews corrcoef: ', matthews_corrcoef(y_test, y_pred))\n",
        "\n",
        "results.append([\n",
        "                 'SVC',\n",
        "                 f1_score(y_test, y_pred),\n",
        "                 tp/(tp + fp), tp/(tp + fn),\n",
        "                 matthews_corrcoef(y_test, y_pred)\n",
        "               ])\n",
        "\n",
        "sns.heatmap(cm, \n",
        "            annot=True, \n",
        "            fmt = '.3g',\n",
        "            linewidths=0.1,\n",
        "            linecolor='black',\n",
        "            );\n",
        "plt.xlabel('Predicted values')\n",
        "plt.ylabel('True values');\n",
        "\n",
        "compare_ds = pd.DataFrame({'Actual': y_test, 'Predicted': y_pred,})\n",
        "compare_ds.head()"
      ]
    },
    {
      "cell_type": "markdown",
      "metadata": {
        "id": "bbE-0xzel5P3"
      },
      "source": [
        "### Random forest"
      ]
    },
    {
      "cell_type": "code",
      "execution_count": null,
      "metadata": {
        "colab": {
          "base_uri": "https://localhost:8080/"
        },
        "id": "s0bM3Et7quZG",
        "outputId": "9ed9ddfb-f17d-4efb-d57b-423c68ea337e"
      },
      "outputs": [
        {
          "output_type": "stream",
          "name": "stdout",
          "text": [
            "Best params:  {'max_depth': 50, 'n_estimators': 70}\n",
            "f1 score 0.39603960396039606\n",
            "Precision:  0.5\n",
            "Recall:  0.32786885245901637\n",
            "Matthews corrcoef:  0.29138575870717925\n"
          ]
        },
        {
          "output_type": "execute_result",
          "data": {
            "text/plain": [
              "      Actual  Predicted  Probability [0]  Probability [1]\n",
              "2923       1          0         0.928571         0.071429\n",
              "2725       0          0         0.885714         0.114286\n",
              "2585       0          0         0.885714         0.114286\n",
              "1345       0          0         0.928571         0.071429\n",
              "1531       0          0         0.942857         0.057143"
            ],
            "text/html": [
              "\n",
              "  <div id=\"df-583085cf-fb8b-44c6-a09e-6abcba317905\">\n",
              "    <div class=\"colab-df-container\">\n",
              "      <div>\n",
              "<style scoped>\n",
              "    .dataframe tbody tr th:only-of-type {\n",
              "        vertical-align: middle;\n",
              "    }\n",
              "\n",
              "    .dataframe tbody tr th {\n",
              "        vertical-align: top;\n",
              "    }\n",
              "\n",
              "    .dataframe thead th {\n",
              "        text-align: right;\n",
              "    }\n",
              "</style>\n",
              "<table border=\"1\" class=\"dataframe\">\n",
              "  <thead>\n",
              "    <tr style=\"text-align: right;\">\n",
              "      <th></th>\n",
              "      <th>Actual</th>\n",
              "      <th>Predicted</th>\n",
              "      <th>Probability [0]</th>\n",
              "      <th>Probability [1]</th>\n",
              "    </tr>\n",
              "  </thead>\n",
              "  <tbody>\n",
              "    <tr>\n",
              "      <th>2923</th>\n",
              "      <td>1</td>\n",
              "      <td>0</td>\n",
              "      <td>0.928571</td>\n",
              "      <td>0.071429</td>\n",
              "    </tr>\n",
              "    <tr>\n",
              "      <th>2725</th>\n",
              "      <td>0</td>\n",
              "      <td>0</td>\n",
              "      <td>0.885714</td>\n",
              "      <td>0.114286</td>\n",
              "    </tr>\n",
              "    <tr>\n",
              "      <th>2585</th>\n",
              "      <td>0</td>\n",
              "      <td>0</td>\n",
              "      <td>0.885714</td>\n",
              "      <td>0.114286</td>\n",
              "    </tr>\n",
              "    <tr>\n",
              "      <th>1345</th>\n",
              "      <td>0</td>\n",
              "      <td>0</td>\n",
              "      <td>0.928571</td>\n",
              "      <td>0.071429</td>\n",
              "    </tr>\n",
              "    <tr>\n",
              "      <th>1531</th>\n",
              "      <td>0</td>\n",
              "      <td>0</td>\n",
              "      <td>0.942857</td>\n",
              "      <td>0.057143</td>\n",
              "    </tr>\n",
              "  </tbody>\n",
              "</table>\n",
              "</div>\n",
              "      <button class=\"colab-df-convert\" onclick=\"convertToInteractive('df-583085cf-fb8b-44c6-a09e-6abcba317905')\"\n",
              "              title=\"Convert this dataframe to an interactive table.\"\n",
              "              style=\"display:none;\">\n",
              "        \n",
              "  <svg xmlns=\"http://www.w3.org/2000/svg\" height=\"24px\"viewBox=\"0 0 24 24\"\n",
              "       width=\"24px\">\n",
              "    <path d=\"M0 0h24v24H0V0z\" fill=\"none\"/>\n",
              "    <path d=\"M18.56 5.44l.94 2.06.94-2.06 2.06-.94-2.06-.94-.94-2.06-.94 2.06-2.06.94zm-11 1L8.5 8.5l.94-2.06 2.06-.94-2.06-.94L8.5 2.5l-.94 2.06-2.06.94zm10 10l.94 2.06.94-2.06 2.06-.94-2.06-.94-.94-2.06-.94 2.06-2.06.94z\"/><path d=\"M17.41 7.96l-1.37-1.37c-.4-.4-.92-.59-1.43-.59-.52 0-1.04.2-1.43.59L10.3 9.45l-7.72 7.72c-.78.78-.78 2.05 0 2.83L4 21.41c.39.39.9.59 1.41.59.51 0 1.02-.2 1.41-.59l7.78-7.78 2.81-2.81c.8-.78.8-2.07 0-2.86zM5.41 20L4 18.59l7.72-7.72 1.47 1.35L5.41 20z\"/>\n",
              "  </svg>\n",
              "      </button>\n",
              "      \n",
              "  <style>\n",
              "    .colab-df-container {\n",
              "      display:flex;\n",
              "      flex-wrap:wrap;\n",
              "      gap: 12px;\n",
              "    }\n",
              "\n",
              "    .colab-df-convert {\n",
              "      background-color: #E8F0FE;\n",
              "      border: none;\n",
              "      border-radius: 50%;\n",
              "      cursor: pointer;\n",
              "      display: none;\n",
              "      fill: #1967D2;\n",
              "      height: 32px;\n",
              "      padding: 0 0 0 0;\n",
              "      width: 32px;\n",
              "    }\n",
              "\n",
              "    .colab-df-convert:hover {\n",
              "      background-color: #E2EBFA;\n",
              "      box-shadow: 0px 1px 2px rgba(60, 64, 67, 0.3), 0px 1px 3px 1px rgba(60, 64, 67, 0.15);\n",
              "      fill: #174EA6;\n",
              "    }\n",
              "\n",
              "    [theme=dark] .colab-df-convert {\n",
              "      background-color: #3B4455;\n",
              "      fill: #D2E3FC;\n",
              "    }\n",
              "\n",
              "    [theme=dark] .colab-df-convert:hover {\n",
              "      background-color: #434B5C;\n",
              "      box-shadow: 0px 1px 3px 1px rgba(0, 0, 0, 0.15);\n",
              "      filter: drop-shadow(0px 1px 2px rgba(0, 0, 0, 0.3));\n",
              "      fill: #FFFFFF;\n",
              "    }\n",
              "  </style>\n",
              "\n",
              "      <script>\n",
              "        const buttonEl =\n",
              "          document.querySelector('#df-583085cf-fb8b-44c6-a09e-6abcba317905 button.colab-df-convert');\n",
              "        buttonEl.style.display =\n",
              "          google.colab.kernel.accessAllowed ? 'block' : 'none';\n",
              "\n",
              "        async function convertToInteractive(key) {\n",
              "          const element = document.querySelector('#df-583085cf-fb8b-44c6-a09e-6abcba317905');\n",
              "          const dataTable =\n",
              "            await google.colab.kernel.invokeFunction('convertToInteractive',\n",
              "                                                     [key], {});\n",
              "          if (!dataTable) return;\n",
              "\n",
              "          const docLinkHtml = 'Like what you see? Visit the ' +\n",
              "            '<a target=\"_blank\" href=https://colab.research.google.com/notebooks/data_table.ipynb>data table notebook</a>'\n",
              "            + ' to learn more about interactive tables.';\n",
              "          element.innerHTML = '';\n",
              "          dataTable['output_type'] = 'display_data';\n",
              "          await google.colab.output.renderOutput(dataTable, element);\n",
              "          const docLink = document.createElement('div');\n",
              "          docLink.innerHTML = docLinkHtml;\n",
              "          element.appendChild(docLink);\n",
              "        }\n",
              "      </script>\n",
              "    </div>\n",
              "  </div>\n",
              "  "
            ]
          },
          "metadata": {},
          "execution_count": 942
        },
        {
          "output_type": "display_data",
          "data": {
            "text/plain": [
              "<Figure size 504x288 with 2 Axes>"
            ],
            "image/png": "[encoded data removed]"
          },
          "metadata": {}
        }
      ],
      "source": [
        "rfc = RandomForestClassifier(class_weight={0:1, 1:4})\n",
        "\n",
        "parameters = {\n",
        "    'max_depth': [5, 10, 15, 20, 30, 50],\n",
        "    'n_estimators': [10, 20, 30, 50, 60, 70, 80, 90, 100, 150, 200, 300]\n",
        "};\n",
        "\n",
        "grid_search_rfc = GridSearchCV(estimator = rfc, scoring='f1_weighted', param_grid = parameters, cv=10)\n",
        "\n",
        "grid_search_rfc.fit(X_train, y_train);\n",
        "\n",
        "print('Best params: ', grid_search_rfc.best_params_)\n",
        "\n",
        "model = grid_search_rfc\n",
        "\n",
        "y_pred = model.predict(X_test)\n",
        "y_prob = model.predict_proba(X_test)\n",
        "\n",
        "sns.set(font_scale=1.2)\n",
        "cm = confusion_matrix(y_test, y_pred)\n",
        "tn, fp, fn, tp = cm.ravel()\n",
        "\n",
        "#Harmonic mean between precision and recall\n",
        "# f1 score: Среднее гармоническое между точностью и полнотой\n",
        "print('f1 score', f1_score(y_test, y_pred))\n",
        "print('Precision: ', tp/(tp + fp))\n",
        "print('Recall: ', tp/(tp + fn))\n",
        "#It’s a correlation between predicted classes and ground truth\n",
        "#Отражает корреляцию между предсказаниями и правдой\n",
        "print('Matthews corrcoef: ', matthews_corrcoef(y_test, y_pred))\n",
        "\n",
        "results.append([\n",
        "                 'Random forest classifier',\n",
        "                 f1_score(y_test, y_pred),\n",
        "                 tp/(tp + fp), tp/(tp + fn),\n",
        "                 matthews_corrcoef(y_test, y_pred)\n",
        "               ])\n",
        "\n",
        "sns.heatmap(cm, \n",
        "            annot=True, \n",
        "            fmt = '.3g',\n",
        "            linewidths=0.1,\n",
        "            linecolor='black',\n",
        "            );\n",
        "plt.xlabel('Predicted values')\n",
        "plt.ylabel('True values');\n",
        "\n",
        "compare_ds = pd.DataFrame({'Actual': y_test, 'Predicted': y_pred,\n",
        "                           'Probability [0]' : y_prob[:, 0], 'Probability [1]' : y_prob[:, 1]})\n",
        "compare_ds.head()"
      ]
    },
    {
      "cell_type": "markdown",
      "metadata": {
        "id": "ONnTyxKZo878"
      },
      "source": [
        "## Нейронная сеть"
      ]
    },
    {
      "cell_type": "code",
      "execution_count": null,
      "metadata": {
        "colab": {
          "base_uri": "https://localhost:8080/"
        },
        "id": "-sKioLBz4ia5",
        "outputId": "e4c54cbd-fda6-48c7-eece-2ed2ff54040d"
      },
      "outputs": [
        {
          "output_type": "stream",
          "name": "stdout",
          "text": [
            "Model: \"sequential_2\"\n",
            "_________________________________________________________________\n",
            " Layer (type)                Output Shape              Param #   \n",
            "=================================================================\n",
            " dense_6 (Dense)             (None, 512)               2048      \n",
            "                                                                 \n",
            " dense_7 (Dense)             (None, 512)               262656    \n",
            "                                                                 \n",
            " dense_8 (Dense)             (None, 1)                 513       \n",
            "                                                                 \n",
            "=================================================================\n",
            "Total params: 265,217\n",
            "Trainable params: 265,217\n",
            "Non-trainable params: 0\n",
            "_________________________________________________________________\n",
            "Epoch 1/40\n",
            "61/61 [==============================] - 1s 9ms/step - loss: 0.5404 - val_loss: 0.5041\n",
            "Epoch 2/40\n",
            "61/61 [==============================] - 0s 7ms/step - loss: 0.4705 - val_loss: 0.4381\n",
            "Epoch 3/40\n",
            "61/61 [==============================] - 0s 8ms/step - loss: 0.4232 - val_loss: 0.4208\n",
            "Epoch 4/40\n",
            "61/61 [==============================] - 0s 7ms/step - loss: 0.4044 - val_loss: 0.4241\n",
            "Epoch 5/40\n",
            "61/61 [==============================] - 0s 7ms/step - loss: 0.4024 - val_loss: 0.4302\n",
            "Epoch 6/40\n",
            "61/61 [==============================] - 0s 7ms/step - loss: 0.4003 - val_loss: 0.4200\n",
            "Epoch 7/40\n",
            "61/61 [==============================] - 0s 8ms/step - loss: 0.3995 - val_loss: 0.4326\n",
            "Epoch 8/40\n",
            "61/61 [==============================] - 0s 7ms/step - loss: 0.4002 - val_loss: 0.4175\n",
            "Epoch 9/40\n",
            "61/61 [==============================] - 0s 7ms/step - loss: 0.3961 - val_loss: 0.4192\n",
            "Epoch 10/40\n",
            "61/61 [==============================] - 0s 7ms/step - loss: 0.3937 - val_loss: 0.4174\n",
            "Epoch 11/40\n",
            "61/61 [==============================] - 0s 7ms/step - loss: 0.3937 - val_loss: 0.4177\n",
            "Epoch 12/40\n",
            "61/61 [==============================] - 0s 7ms/step - loss: 0.3953 - val_loss: 0.4168\n",
            "Epoch 13/40\n",
            "61/61 [==============================] - 0s 7ms/step - loss: 0.3941 - val_loss: 0.4196\n",
            "Epoch 14/40\n",
            "61/61 [==============================] - 0s 7ms/step - loss: 0.4001 - val_loss: 0.4305\n",
            "Epoch 15/40\n",
            "61/61 [==============================] - 0s 8ms/step - loss: 0.3951 - val_loss: 0.4176\n",
            "Epoch 16/40\n",
            "61/61 [==============================] - 0s 8ms/step - loss: 0.4007 - val_loss: 0.4264\n",
            "Epoch 17/40\n",
            "61/61 [==============================] - 0s 8ms/step - loss: 0.3990 - val_loss: 0.4257\n",
            "Epoch 18/40\n",
            "61/61 [==============================] - 1s 11ms/step - loss: 0.3966 - val_loss: 0.4406\n",
            "Epoch 19/40\n",
            "61/61 [==============================] - 1s 11ms/step - loss: 0.3915 - val_loss: 0.4190\n",
            "Epoch 20/40\n",
            "61/61 [==============================] - 1s 11ms/step - loss: 0.3979 - val_loss: 0.4189\n",
            "Epoch 21/40\n",
            "61/61 [==============================] - 1s 11ms/step - loss: 0.3914 - val_loss: 0.4183\n",
            "Epoch 22/40\n",
            "61/61 [==============================] - 0s 7ms/step - loss: 0.3955 - val_loss: 0.4210\n",
            "Epoch 23/40\n",
            "61/61 [==============================] - 0s 7ms/step - loss: 0.3968 - val_loss: 0.4176\n",
            "Epoch 24/40\n",
            "61/61 [==============================] - 0s 7ms/step - loss: 0.3928 - val_loss: 0.4166\n",
            "Epoch 25/40\n",
            "61/61 [==============================] - 0s 7ms/step - loss: 0.3900 - val_loss: 0.4220\n",
            "Epoch 26/40\n",
            "61/61 [==============================] - 0s 7ms/step - loss: 0.3906 - val_loss: 0.4230\n",
            "Epoch 27/40\n",
            "61/61 [==============================] - 0s 7ms/step - loss: 0.3948 - val_loss: 0.4195\n",
            "Epoch 28/40\n",
            "61/61 [==============================] - 0s 7ms/step - loss: 0.3913 - val_loss: 0.4193\n",
            "Epoch 29/40\n",
            "61/61 [==============================] - 0s 7ms/step - loss: 0.3938 - val_loss: 0.4165\n",
            "Epoch 30/40\n",
            "61/61 [==============================] - 0s 7ms/step - loss: 0.3929 - val_loss: 0.4196\n",
            "Epoch 31/40\n",
            "61/61 [==============================] - 0s 7ms/step - loss: 0.3918 - val_loss: 0.4193\n",
            "Epoch 32/40\n",
            "61/61 [==============================] - 0s 7ms/step - loss: 0.3911 - val_loss: 0.4206\n",
            "Epoch 33/40\n",
            "61/61 [==============================] - 0s 7ms/step - loss: 0.3937 - val_loss: 0.4233\n",
            "Epoch 34/40\n",
            "61/61 [==============================] - 0s 8ms/step - loss: 0.3907 - val_loss: 0.4193\n",
            "Epoch 35/40\n",
            "61/61 [==============================] - 0s 7ms/step - loss: 0.3957 - val_loss: 0.4186\n",
            "Epoch 36/40\n",
            "61/61 [==============================] - 0s 7ms/step - loss: 0.3941 - val_loss: 0.4173\n",
            "Epoch 37/40\n",
            "61/61 [==============================] - 0s 7ms/step - loss: 0.3924 - val_loss: 0.4283\n",
            "Epoch 38/40\n",
            "61/61 [==============================] - 0s 7ms/step - loss: 0.3923 - val_loss: 0.4175\n",
            "Epoch 39/40\n",
            "61/61 [==============================] - 0s 7ms/step - loss: 0.3899 - val_loss: 0.4229\n",
            "Epoch 40/40\n",
            "61/61 [==============================] - 0s 7ms/step - loss: 0.3894 - val_loss: 0.4199\n"
          ]
        },
        {
          "output_type": "display_data",
          "data": {
            "text/plain": [
              "<Figure size 504x288 with 1 Axes>"
            ],
            "image/png": "[encoded data removed]"
          },
          "metadata": {}
        }
      ],
      "source": [
        "model = Sequential()\n",
        "model.add(Dense(512, activation='relu', input_dim=3))\n",
        "model.add(Dense(512, activation='relu'))\n",
        "model.add(Dense(1, activation='sigmoid'))\n",
        "model.compile(optimizer='adam', loss='binary_crossentropy')\n",
        "\n",
        "model.summary()\n",
        "\n",
        "history = model.fit(\n",
        "    X_train,\n",
        "    y_train,\n",
        "    epochs=40,\n",
        "    validation_split = 0.2)\n",
        "\n",
        "plt.plot(history.history['loss'], label='loss')\n",
        "plt.plot(history.history['val_loss'], label='val_loss')\n",
        "plt.xlabel('Epoch')\n",
        "plt.ylabel('log loss')\n",
        "plt.legend()\n",
        "plt.grid(True)"
      ]
    },
    {
      "cell_type": "code",
      "execution_count": null,
      "metadata": {
        "colab": {
          "base_uri": "https://localhost:8080/"
        },
        "id": "LhwGBiJ5e0AA",
        "outputId": "091e2ab7-743c-4852-fe8c-60f5cbaa0c5e"
      },
      "outputs": [
        {
          "output_type": "stream",
          "name": "stdout",
          "text": [
            "20/20 [==============================] - 0s 2ms/step\n",
            "f1 score 0.4\n",
            "Precision:  0.6206896551724138\n",
            "Recall:  0.29508196721311475\n",
            "Matthews corrcoef:  0.3409151484325456\n"
          ]
        },
        {
          "output_type": "display_data",
          "data": {
            "text/plain": [
              "<Figure size 504x288 with 2 Axes>"
            ],
            "image/png": "[encoded data removed]"
          },
          "metadata": {}
        }
      ],
      "source": [
        "y_pred = model.predict(X_test)\n",
        "y_pred = [1 if i > 0.5 else 0 for i in y_pred]\n",
        "\n",
        "sns.set(font_scale=1.2)\n",
        "cm = confusion_matrix(y_test, y_pred)\n",
        "tn, fp, fn, tp = cm.ravel()\n",
        "\n",
        "#f1 score: Среднее гармоническое между точностью и полнотой\n",
        "print('f1 score', f1_score(y_test, y_pred))\n",
        "print('Precision: ', tp/(tp + fp))\n",
        "print('Recall: ', tp/(tp + fn))\n",
        "#It’s a correlation between predicted classes and ground truth\n",
        "#Отражает корреляцию между предсказаниями и правдой\n",
        "print('Matthews corrcoef: ', matthews_corrcoef(y_test, y_pred))\n",
        "\n",
        "results.append([\n",
        "                 'Neural network',\n",
        "                 f1_score(y_test, y_pred),\n",
        "                 tp/(tp + fp), tp/(tp + fn),\n",
        "                 matthews_corrcoef(y_test, y_pred)\n",
        "               ])\n",
        "\n",
        "sns.heatmap(cm, \n",
        "            annot=True, \n",
        "            fmt = '.3g',\n",
        "            linewidths=0.1,\n",
        "            linecolor='black',\n",
        "            );\n",
        "plt.xlabel('Predicted values')\n",
        "plt.ylabel('True values');"
      ]
    },
    {
      "cell_type": "markdown",
      "metadata": {
        "id": "gBu6wKxAv3Lw"
      },
      "source": [
        "# Итоговая оценка алгоритмов"
      ]
    },
    {
      "cell_type": "code",
      "execution_count": null,
      "metadata": {
        "colab": {
          "base_uri": "https://localhost:8080/"
        },
        "id": "r29IhJ2Fv7-k",
        "outputId": "b2e61e38-fa76-4969-814c-8c457968f05a"
      },
      "outputs": [
        {
          "output_type": "execute_result",
          "data": {
            "text/plain": [
              "                 model_name  f1_score precision    recall matthews_corr_coef\n",
              "0       Logistic regression  0.509202  0.406863  0.680328           0.366585\n",
              "1  Decision Tree Classifier  0.358566  0.348837  0.368852           0.192697\n",
              "2      Gaussian Naive Bayes  0.341969  0.464789  0.270492           0.240256\n",
              "3       K-Nearest neighbors  0.445652  0.661290  0.336066           0.387900\n",
              "4                       SVC  0.474138  0.500000  0.450820           0.351781\n",
              "5  Random forest classifier  0.396040  0.500000  0.327869           0.291386\n",
              "6            Neural network  0.400000  0.620690  0.295082           0.340915"
            ],
            "text/html": [
              "\n",
              "  <div id=\"df-38dd1edc-cc04-44b9-891c-fda2194705de\">\n",
              "    <div class=\"colab-df-container\">\n",
              "      <div>\n",
              "<style scoped>\n",
              "    .dataframe tbody tr th:only-of-type {\n",
              "        vertical-align: middle;\n",
              "    }\n",
              "\n",
              "    .dataframe tbody tr th {\n",
              "        vertical-align: top;\n",
              "    }\n",
              "\n",
              "    .dataframe thead tr th {\n",
              "        text-align: left;\n",
              "    }\n",
              "</style>\n",
              "<table border=\"1\" class=\"dataframe\">\n",
              "  <thead>\n",
              "    <tr>\n",
              "      <th></th>\n",
              "      <th>model_name</th>\n",
              "      <th>f1_score</th>\n",
              "      <th>precision</th>\n",
              "      <th>recall</th>\n",
              "      <th>matthews_corr_coef</th>\n",
              "    </tr>\n",
              "  </thead>\n",
              "  <tbody>\n",
              "    <tr>\n",
              "      <th>0</th>\n",
              "      <td>Logistic regression</td>\n",
              "      <td>0.509202</td>\n",
              "      <td>0.406863</td>\n",
              "      <td>0.680328</td>\n",
              "      <td>0.366585</td>\n",
              "    </tr>\n",
              "    <tr>\n",
              "      <th>1</th>\n",
              "      <td>Decision Tree Classifier</td>\n",
              "      <td>0.358566</td>\n",
              "      <td>0.348837</td>\n",
              "      <td>0.368852</td>\n",
              "      <td>0.192697</td>\n",
              "    </tr>\n",
              "    <tr>\n",
              "      <th>2</th>\n",
              "      <td>Gaussian Naive Bayes</td>\n",
              "      <td>0.341969</td>\n",
              "      <td>0.464789</td>\n",
              "      <td>0.270492</td>\n",
              "      <td>0.240256</td>\n",
              "    </tr>\n",
              "    <tr>\n",
              "      <th>3</th>\n",
              "      <td>K-Nearest neighbors</td>\n",
              "      <td>0.445652</td>\n",
              "      <td>0.661290</td>\n",
              "      <td>0.336066</td>\n",
              "      <td>0.387900</td>\n",
              "    </tr>\n",
              "    <tr>\n",
              "      <th>4</th>\n",
              "      <td>SVC</td>\n",
              "      <td>0.474138</td>\n",
              "      <td>0.500000</td>\n",
              "      <td>0.450820</td>\n",
              "      <td>0.351781</td>\n",
              "    </tr>\n",
              "    <tr>\n",
              "      <th>5</th>\n",
              "      <td>Random forest classifier</td>\n",
              "      <td>0.396040</td>\n",
              "      <td>0.500000</td>\n",
              "      <td>0.327869</td>\n",
              "      <td>0.291386</td>\n",
              "    </tr>\n",
              "    <tr>\n",
              "      <th>6</th>\n",
              "      <td>Neural network</td>\n",
              "      <td>0.400000</td>\n",
              "      <td>0.620690</td>\n",
              "      <td>0.295082</td>\n",
              "      <td>0.340915</td>\n",
              "    </tr>\n",
              "  </tbody>\n",
              "</table>\n",
              "</div>\n",
              "      <button class=\"colab-df-convert\" onclick=\"convertToInteractive('df-38dd1edc-cc04-44b9-891c-fda2194705de')\"\n",
              "              title=\"Convert this dataframe to an interactive table.\"\n",
              "              style=\"display:none;\">\n",
              "        \n",
              "  <svg xmlns=\"http://www.w3.org/2000/svg\" height=\"24px\"viewBox=\"0 0 24 24\"\n",
              "       width=\"24px\">\n",
              "    <path d=\"M0 0h24v24H0V0z\" fill=\"none\"/>\n",
              "    <path d=\"M18.56 5.44l.94 2.06.94-2.06 2.06-.94-2.06-.94-.94-2.06-.94 2.06-2.06.94zm-11 1L8.5 8.5l.94-2.06 2.06-.94-2.06-.94L8.5 2.5l-.94 2.06-2.06.94zm10 10l.94 2.06.94-2.06 2.06-.94-2.06-.94-.94-2.06-.94 2.06-2.06.94z\"/><path d=\"M17.41 7.96l-1.37-1.37c-.4-.4-.92-.59-1.43-.59-.52 0-1.04.2-1.43.59L10.3 9.45l-7.72 7.72c-.78.78-.78 2.05 0 2.83L4 21.41c.39.39.9.59 1.41.59.51 0 1.02-.2 1.41-.59l7.78-7.78 2.81-2.81c.8-.78.8-2.07 0-2.86zM5.41 20L4 18.59l7.72-7.72 1.47 1.35L5.41 20z\"/>\n",
              "  </svg>\n",
              "      </button>\n",
              "      \n",
              "  <style>\n",
              "    .colab-df-container {\n",
              "      display:flex;\n",
              "      flex-wrap:wrap;\n",
              "      gap: 12px;\n",
              "    }\n",
              "\n",
              "    .colab-df-convert {\n",
              "      background-color: #E8F0FE;\n",
              "      border: none;\n",
              "      border-radius: 50%;\n",
              "      cursor: pointer;\n",
              "      display: none;\n",
              "      fill: #1967D2;\n",
              "      height: 32px;\n",
              "      padding: 0 0 0 0;\n",
              "      width: 32px;\n",
              "    }\n",
              "\n",
              "    .colab-df-convert:hover {\n",
              "      background-color: #E2EBFA;\n",
              "      box-shadow: 0px 1px 2px rgba(60, 64, 67, 0.3), 0px 1px 3px 1px rgba(60, 64, 67, 0.15);\n",
              "      fill: #174EA6;\n",
              "    }\n",
              "\n",
              "    [theme=dark] .colab-df-convert {\n",
              "      background-color: #3B4455;\n",
              "      fill: #D2E3FC;\n",
              "    }\n",
              "\n",
              "    [theme=dark] .colab-df-convert:hover {\n",
              "      background-color: #434B5C;\n",
              "      box-shadow: 0px 1px 3px 1px rgba(0, 0, 0, 0.15);\n",
              "      filter: drop-shadow(0px 1px 2px rgba(0, 0, 0, 0.3));\n",
              "      fill: #FFFFFF;\n",
              "    }\n",
              "  </style>\n",
              "\n",
              "      <script>\n",
              "        const buttonEl =\n",
              "          document.querySelector('#df-38dd1edc-cc04-44b9-891c-fda2194705de button.colab-df-convert');\n",
              "        buttonEl.style.display =\n",
              "          google.colab.kernel.accessAllowed ? 'block' : 'none';\n",
              "\n",
              "        async function convertToInteractive(key) {\n",
              "          const element = document.querySelector('#df-38dd1edc-cc04-44b9-891c-fda2194705de');\n",
              "          const dataTable =\n",
              "            await google.colab.kernel.invokeFunction('convertToInteractive',\n",
              "                                                     [key], {});\n",
              "          if (!dataTable) return;\n",
              "\n",
              "          const docLinkHtml = 'Like what you see? Visit the ' +\n",
              "            '<a target=\"_blank\" href=https://colab.research.google.com/notebooks/data_table.ipynb>data table notebook</a>'\n",
              "            + ' to learn more about interactive tables.';\n",
              "          element.innerHTML = '';\n",
              "          dataTable['output_type'] = 'display_data';\n",
              "          await google.colab.output.renderOutput(dataTable, element);\n",
              "          const docLink = document.createElement('div');\n",
              "          docLink.innerHTML = docLinkHtml;\n",
              "          element.appendChild(docLink);\n",
              "        }\n",
              "      </script>\n",
              "    </div>\n",
              "  </div>\n",
              "  "
            ]
          },
          "metadata": {},
          "execution_count": 945
        }
      ],
      "source": [
        "results = pd.DataFrame(data=results, columns=[['model_name','f1_score', 'precision', 'recall', 'matthews_corr_coef']])\n",
        "results"
      ]
    },
    {
      "cell_type": "markdown",
      "metadata": {
        "id": "CfKSomsE2bjD"
      },
      "source": [
        "# Сохранение модели"
      ]
    },
    {
      "cell_type": "code",
      "execution_count": null,
      "metadata": {
        "id": "2EH6rMwd2am3"
      },
      "outputs": [],
      "source": [
        "model = grid_search_knn.estimator.fit(X, y)\n",
        "# Its important to use binary mode \n",
        "knnPickle = open('knnpickle_file', 'wb')\n",
        "      \n",
        "# source, destination \n",
        "pickle.dump(knn, knnPickle)  \n",
        "\n",
        "# close the file\n",
        "knnPickle.close()"
      ]
    },
    {
      "cell_type": "code",
      "execution_count": null,
      "metadata": {
        "id": "OS_Qg5QD-1Mj"
      },
      "outputs": [],
      "source": [
        "#дампим таги, для приложения\n",
        "# with open('all_tags', 'wb') as fp:\n",
        "#     pickle.dump(all_tags, fp)"
      ]
    },
    {
      "cell_type": "code",
      "execution_count": null,
      "metadata": {
        "id": "4i_tg4EOK0nw"
      },
      "outputs": [],
      "source": [
        "#дампим targetEncoder\n",
        "# with open('encoder', 'wb') as fp:\n",
        "#     pickle.dump(encoder, fp)"
      ]
    }
  ],
  "metadata": {
    "colab": {
      "collapsed_sections": [
        "rlYlaWCzQfdD",
        "QP2uwy89C4Bo",
        "PuKsKjjjVRIb",
        "lMneeFRjVego",
        "P8gLHPoDF6lh",
        "SwgVujZNGghn",
        "XCgbiKRRnqR0",
        "6jzgUmQcQbK2",
        "XuUR53gSipSi",
        "tGDSLcBIlvOx",
        "bbE-0xzel5P3",
        "ONnTyxKZo878",
        "gBu6wKxAv3Lw"
      ],
      "provenance": []
    },
    "gpuClass": "standard",
    "kernelspec": {
      "display_name": "Python 3",
      "name": "python3"
    },
    "language_info": {
      "name": "python"
    }
  },
  "nbformat": 4,
  "nbformat_minor": 0
}